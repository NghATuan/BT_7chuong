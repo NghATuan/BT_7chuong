{
 "cells": [
  {
   "cell_type": "markdown",
   "metadata": {},
   "source": [
    "VD 6.3.2.1"
   ]
  },
  {
   "cell_type": "code",
   "execution_count": 3,
   "metadata": {},
   "outputs": [
    {
     "name": "stdout",
     "output_type": "stream",
     "text": [
      "Square: 100\n",
      "Cube: 1000\n",
      "Main loop: 0\n",
      "Main loop: 1\n",
      "Main loop: 2\n",
      "Main loop: 3\n",
      "Main loop: 4\n",
      "Done!\n"
     ]
    }
   ],
   "source": [
    "import threading\n",
    "class PrintThread(threading.Thread):\n",
    "    def __init__(self, num):\n",
    "        super().__init__()\n",
    "        self.num = num\n",
    "    def run(self):\n",
    "        self.print_square()\n",
    "        self.print_cube()\n",
    "    def print_cube(self):\n",
    "        # function to print cube of given num\n",
    "        print(\"Cube: {}\".format(self.num * self.num * self.num))  \n",
    "    def print_square(self):\n",
    "        # function to print square of given num\n",
    "        print(\"Square: {}\".format(self.num * self.num)) \n",
    "\n",
    "if __name__ == \"__main__\":\n",
    "    # creating thread\n",
    "    t = PrintThread(10)\n",
    "    # start the thread\n",
    "    t.start()\n",
    "    # wait until the thread finishes\n",
    "    t.join()\n",
    "    # continue with the main loop\n",
    "    for i in range(5):\n",
    "        print(\"Main loop: {}\".format(i))\n",
    "    print(\"Done!\")"
   ]
  },
  {
   "cell_type": "markdown",
   "metadata": {},
   "source": [
    "VD 6.3.2.2"
   ]
  },
  {
   "cell_type": "code",
   "execution_count": 7,
   "metadata": {},
   "outputs": [
    {
     "name": "stdout",
     "output_type": "stream",
     "text": [
      "ID của luồng đang thực thi trong chương trình chính: 4936\n",
      "Tên của luồng chính: MainThread\n",
      "Gắn tác vụ 1 đến luồng: t1\n",
      "ID của tiến trình chạy task 1: 4936\n",
      "Gắn tác vụ 2 đến luồng: t2\n",
      "ID của tiến trình chạy task 2: 4936\n"
     ]
    }
   ],
   "source": [
    "# Chương trình minh họa khái niệm luồng 'Threading'\n",
    "import threading\n",
    "import os\n",
    "\n",
    "def task1():\n",
    "    print(\"Gắn tác vụ 1 đến luồng: {}\".\n",
    "    format(threading.current_thread().name))  \n",
    "    print(\"ID của tiến trình chạy task 1: {}\".format(os.getpid())) \n",
    "def task2():\n",
    "    print(\"Gắn tác vụ 2 đến luồng: {}\".\n",
    "    format(threading.current_thread().name))  \n",
    "    print(\"ID của tiến trình chạy task 2: {}\".format(os.getpid())) \n",
    "if __name__ == \"__main__\":\n",
    "    # In ra ID của luồng hiện thời\n",
    "    print(\"ID của luồng đang thực thi trong chương trình chính: {}\".format(os.getpid()))\n",
    "    # in ra tên luồng chính\n",
    "    print(\"Tên của luồng chính: {}\".format(threading.current_thread().name))  \n",
    "    # Tạo các luồng\n",
    "    t1 = threading.Thread(target=task1, name='t1')\n",
    "    t2 = threading.Thread(target=task2, name='t2')\n",
    "\n",
    "    # Bắt đầu các luồng:\n",
    "    t1.start()\n",
    "    t2.start()\n",
    "\n",
    "    # Chờ cho đến khi các luồng kết thúc:\n",
    "    t1.join()\n",
    "    t2.join() "
   ]
  }
 ],
 "metadata": {
  "kernelspec": {
   "display_name": "Python 3",
   "language": "python",
   "name": "python3"
  },
  "language_info": {
   "codemirror_mode": {
    "name": "ipython",
    "version": 3
   },
   "file_extension": ".py",
   "mimetype": "text/x-python",
   "name": "python",
   "nbconvert_exporter": "python",
   "pygments_lexer": "ipython3",
   "version": "3.11.5"
  }
 },
 "nbformat": 4,
 "nbformat_minor": 2
}
