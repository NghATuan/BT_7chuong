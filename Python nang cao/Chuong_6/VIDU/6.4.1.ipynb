{
 "cells": [
  {
   "cell_type": "markdown",
   "metadata": {},
   "source": [
    "VD 6.4.1.1"
   ]
  },
  {
   "cell_type": "code",
   "execution_count": 4,
   "metadata": {},
   "outputs": [
    {
     "name": "stdout",
     "output_type": "stream",
     "text": [
      "Lần lặp 0: x = 20000000\n",
      "Lần lặp 1: x = 20000000\n",
      "Lần lặp 2: x = 20000000\n",
      "Lần lặp 3: x = 20000000\n",
      "Lần lặp 4: x = 20000000\n",
      "Lần lặp 5: x = 20000000\n",
      "Lần lặp 6: x = 20000000\n",
      "Lần lặp 7: x = 20000000\n",
      "Lần lặp 8: x = 20000000\n",
      "Lần lặp 9: x = 20000000\n"
     ]
    }
   ],
   "source": [
    "import threading\n",
    "\n",
    "x = 0\n",
    "\n",
    "def increment():\n",
    "    global x\n",
    "    x += 1\n",
    "\n",
    "def thread_task():\n",
    "    for _ in range(1000000):\n",
    "        increment()\n",
    "\n",
    "def main_task():\n",
    "    global x\n",
    "    x = 0\n",
    "\n",
    "    t1 = threading.Thread(target=thread_task)\n",
    "    t2 = threading.Thread(target=thread_task)\n",
    "\n",
    "    t1.start()\n",
    "    t2.start()\n",
    "\n",
    "    t1.join()\n",
    "    t2.join()\n",
    "\n",
    "for i in range(10):\n",
    "    main_task()\n",
    "    print(\"Lần lặp {0}: x = {1}\".format(i, x))"
   ]
  },
  {
   "cell_type": "code",
   "execution_count": 3,
   "metadata": {},
   "outputs": [
    {
     "name": "stdout",
     "output_type": "stream",
     "text": [
      "Lần lặp 0: x = 200000\n",
      "Lần lặp 1: x = 200000\n",
      "Lần lặp 2: x = 200000\n",
      "Lần lặp 3: x = 200000\n",
      "Lần lặp 4: x = 200000\n",
      "Lần lặp 5: x = 200000\n",
      "Lần lặp 6: x = 200000\n",
      "Lần lặp 7: x = 200000\n",
      "Lần lặp 8: x = 200000\n",
      "Lần lặp 9: x = 200000\n"
     ]
    }
   ],
   "source": [
    "import threading\n",
    "# Khai báo biến toàn cục x và gán giá trị ban đầu là 0.\n",
    "x = 0\n",
    "#Viết hàm increment(), tăng giá trị biến toàn cục x\n",
    "def increment():\n",
    "    global x\n",
    "    x += 1\n",
    "#Hàm theread_task() thực hiện tác vụ luồng, trong task vụ này,\n",
    "# luồng sẽ lặp lại 100000 lần.\n",
    "def thread_task(lock):\n",
    "    for _ in range(100000):\n",
    "        lock.acquire() #Yêu cầu lock bằng cách gọi phương thức lock.acquire\n",
    "        increment() #Tăng giá trị của x bằng cách gọi phương thức increment() \n",
    "        lock.release() # #Giải phóng lock bằng cách gọi phương thức lock.release()\n",
    "\n",
    "#Định nghĩa hàm main_task() là tác vụ chính của chương trình.\n",
    "def main_task():\n",
    "    global x\n",
    "    x = 0 #Đặt biến toàn cục x=0. # creating a lock\n",
    "    lock = threading.Lock() # tạo ra một lock bằng cách gọi threading.Lock(). \n",
    "    # Tạo mới 2 luồng t1, t2 và chạy cùng một lúc, mỗi luồng gọi hàm thread_task() với# đối số lock. \n",
    "    t1 = threading.Thread(target=thread_task, args=(lock,)) \n",
    "    t2 = threading.Thread(target=thread_task, args=(lock,))  \n",
    "    # start threads \n",
    "    t1.start()\n",
    "    t2.start() \n",
    "\n",
    "# Chờ cho đến khi các luồng kết thúc công việc \n",
    "    t1.join()\n",
    "    t2.join()\n",
    "if __name__ == \"__main__\":#Kiểm tra module đang được chạy là module chính hay không. \n",
    "    for i in range(10): # Vòng lặp for chạy 10 lần \n",
    "        main_task() # Mỗi lần lặp main_task() được gọi\n",
    "        print(\"Lần lặp {0}: x = {1}\".format(i,x))"
   ]
  }
 ],
 "metadata": {
  "kernelspec": {
   "display_name": "Python 3",
   "language": "python",
   "name": "python3"
  },
  "language_info": {
   "codemirror_mode": {
    "name": "ipython",
    "version": 3
   },
   "file_extension": ".py",
   "mimetype": "text/x-python",
   "name": "python",
   "nbconvert_exporter": "python",
   "pygments_lexer": "ipython3",
   "version": "3.11.5"
  }
 },
 "nbformat": 4,
 "nbformat_minor": 2
}
