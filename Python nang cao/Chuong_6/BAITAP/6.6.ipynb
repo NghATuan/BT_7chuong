{
 "cells": [
  {
   "cell_type": "code",
   "execution_count": 2,
   "metadata": {},
   "outputs": [
    {
     "name": "stdout",
     "output_type": "stream",
     "text": [
      "Even: 2\n",
      "Even: 4\n",
      "Even: 6\n",
      "Even: 8\n",
      "Even: 10\n",
      "Even: 12\n",
      "Even: 14\n",
      "Odd: 1\n",
      "Odd: 3\n",
      "Odd: 5\n",
      "Odd: 7\n",
      "Odd: 9\n",
      "Odd: 11\n",
      "Odd: 13\n"
     ]
    }
   ],
   "source": [
    "import threading\n",
    "\n",
    "# Khởi tạo biến khóa để đồng bộ hóa giữa các luồng\n",
    "lock = threading.Lock()\n",
    "\n",
    "# Hàm in số chẵn\n",
    "def print_even(limit):\n",
    "    for i in range(2, limit+1, 2):\n",
    "        with lock:\n",
    "            print(f\"Even: {i}\")\n",
    "\n",
    "# Hàm in số lẻ\n",
    "def print_odd(limit):\n",
    "    for i in range(1, limit+1, 2):\n",
    "        with lock:\n",
    "            print(f\"Odd: {i}\")\n",
    "\n",
    "# Đặt ngưỡng\n",
    "threshold = 14\n",
    "\n",
    "# Tạo và khởi chạy các luồng\n",
    "thread_even = threading.Thread(target=print_even, args=(threshold,))\n",
    "thread_odd = threading.Thread(target=print_odd, args=(threshold,))\n",
    "\n",
    "thread_even.start()\n",
    "thread_odd.start()\n",
    "\n",
    "# Chờ cho tất cả các luồng hoàn thành\n",
    "thread_even.join()\n",
    "thread_odd.join()\n"
   ]
  }
 ],
 "metadata": {
  "kernelspec": {
   "display_name": "Python 3",
   "language": "python",
   "name": "python3"
  },
  "language_info": {
   "codemirror_mode": {
    "name": "ipython",
    "version": 3
   },
   "file_extension": ".py",
   "mimetype": "text/x-python",
   "name": "python",
   "nbconvert_exporter": "python",
   "pygments_lexer": "ipython3",
   "version": "3.11.5"
  }
 },
 "nbformat": 4,
 "nbformat_minor": 2
}
