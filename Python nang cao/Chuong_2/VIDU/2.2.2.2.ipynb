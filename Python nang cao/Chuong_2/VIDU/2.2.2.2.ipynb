{
 "cells": [
  {
   "cell_type": "code",
   "execution_count": 1,
   "metadata": {},
   "outputs": [
    {
     "name": "stdout",
     "output_type": "stream",
     "text": [
      "{'name': 'A', 'age': 35, 'company': 'Đất Việt'}\n",
      "{'name': 'A', 'age': 35, 'company': 'Đất Việt'}\n"
     ]
    }
   ],
   "source": [
    "import json        #vidu 2.2.2.2.ipynb\n",
    "\n",
    "# Chuỗi JSON bao quanh bằng dấu nháy đơn\n",
    "json_string_1 = '{\"name\": \"A\", \"age\": 35, \"company\": \"Đất Việt\"}'\n",
    "\n",
    "# Chuỗi JSON bao quanh bằng dấu nháy kép\n",
    "json_string_2 = \"{\\\"name\\\": \\\"A\\\", \\\"age\\\": 35, \\\"company\\\": \\\"Đất Việt\\\"}\"\n",
    "\n",
    "# Chuyển chuỗi JSON thành đối tượng Python (đối tượng JSON)\n",
    "json_object_1 = json.loads(json_string_1)\n",
    "json_object_2 = json.loads(json_string_2)\n",
    "\n",
    "print(json_object_1)\n",
    "print(json_object_2)"
   ]
  },
  {
   "cell_type": "code",
   "execution_count": 3,
   "metadata": {},
   "outputs": [
    {
     "name": "stdout",
     "output_type": "stream",
     "text": [
      "{\"name\": \"A\", \"age\": 35, \"company\": \"Đất Việt\"}\n",
      "<class 'str'>\n",
      "<class 'dict'>\n"
     ]
    }
   ],
   "source": [
    "import json    #vidu2.2.2.3.ipynb\n",
    "# Đối tượng Python (đối tượng JSON)\n",
    "data = {\n",
    "\"name\": \"A\",\n",
    "\"age\": 35,\n",
    "\"company\": \"Đất Việt\"\n",
    "}\n",
    "# Chuyển đối tượng Python thành chuỗi JSON\n",
    "json_string = json.dumps(data, ensure_ascii=False)\n",
    "\n",
    "print(json_string)\n",
    "print(type(json_string))\n",
    "\n",
    "print(type(data))"
   ]
  }
 ],
 "metadata": {
  "kernelspec": {
   "display_name": "Python 3",
   "language": "python",
   "name": "python3"
  },
  "language_info": {
   "codemirror_mode": {
    "name": "ipython",
    "version": 3
   },
   "file_extension": ".py",
   "mimetype": "text/x-python",
   "name": "python",
   "nbconvert_exporter": "python",
   "pygments_lexer": "ipython3",
   "version": "3.6.8"
  }
 },
 "nbformat": 4,
 "nbformat_minor": 2
}
