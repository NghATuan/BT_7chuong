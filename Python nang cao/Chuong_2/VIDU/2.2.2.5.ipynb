{
 "cells": [
  {
   "cell_type": "code",
   "execution_count": 1,
   "metadata": {},
   "outputs": [
    {
     "name": "stdout",
     "output_type": "stream",
     "text": [
      "Đối tượng số phức...... (4+5j)\n",
      "Đối tượng bình thường...... {'real': 6, 'img': 7}\n"
     ]
    }
   ],
   "source": [
    "import json\n",
    "\n",
    "def is_complex(objct):\n",
    "\n",
    "   if '__complex__' in objct:\n",
    "    return complex(objct['real'], objct['img'])\n",
    "    \n",
    "   return objct\n",
    "def main():\n",
    "   complex_object = json.loads('{\"__complex__\": true, \"real\": 4, \"img\": 5}',\n",
    "   object_hook=is_complex)\n",
    "   simple_object = json.loads('{\"real\": 6, \"img\": 7}',\n",
    "   object_hook=is_complex)\n",
    "\n",
    "   print(\"Đối tượng số phức......\", complex_object)\n",
    "   print(\"Đối tượng bình thường......\", simple_object)\n",
    "\n",
    "if __name__ == \"__main__\":\n",
    "  main()"
   ]
  }
 ],
 "metadata": {
  "kernelspec": {
   "display_name": "Python 3",
   "language": "python",
   "name": "python3"
  },
  "language_info": {
   "codemirror_mode": {
    "name": "ipython",
    "version": 3
   },
   "file_extension": ".py",
   "mimetype": "text/x-python",
   "name": "python",
   "nbconvert_exporter": "python",
   "pygments_lexer": "ipython3",
   "version": "3.6.8"
  }
 },
 "nbformat": 4,
 "nbformat_minor": 2
}
