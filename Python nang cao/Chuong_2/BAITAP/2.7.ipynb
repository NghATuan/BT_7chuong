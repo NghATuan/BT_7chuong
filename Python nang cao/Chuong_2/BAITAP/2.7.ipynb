{
 "cells": [
  {
   "cell_type": "code",
   "execution_count": 1,
   "metadata": {},
   "outputs": [
    {
     "name": "stdout",
     "output_type": "stream",
     "text": [
      "Chuỗi JSON: {\"name\": \"John\", \"age\": 30, \"city\": \"New York\"}\n",
      "name: John\n",
      "age: 30\n",
      "city: New York\n"
     ]
    }
   ],
   "source": [
    "import json\n",
    "\n",
    "# Đối tượng Python mẫu\n",
    "python_obj = {\n",
    "    \"name\": \"John\",\n",
    "    \"age\": 30,\n",
    "    \"city\": \"New York\"\n",
    "}\n",
    "\n",
    "# Chuyển đổi đối tượng Python thành chuỗi JSON\n",
    "json_data = json.dumps(python_obj)\n",
    "\n",
    "# In ra chuỗi JSON và tất cả các giá trị\n",
    "print(\"Chuỗi JSON:\", json_data)\n",
    "\n",
    "for key, value in python_obj.items():\n",
    "    print(f\"{key}: {value}\")\n"
   ]
  }
 ],
 "metadata": {
  "kernelspec": {
   "display_name": "Python 3",
   "language": "python",
   "name": "python3"
  },
  "language_info": {
   "codemirror_mode": {
    "name": "ipython",
    "version": 3
   },
   "file_extension": ".py",
   "mimetype": "text/x-python",
   "name": "python",
   "nbconvert_exporter": "python",
   "pygments_lexer": "ipython3",
   "version": "3.11.5"
  }
 },
 "nbformat": 4,
 "nbformat_minor": 2
}
