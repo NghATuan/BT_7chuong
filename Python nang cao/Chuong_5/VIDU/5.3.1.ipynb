{
 "cells": [
  {
   "cell_type": "code",
   "execution_count": 1,
   "metadata": {},
   "outputs": [
    {
     "name": "stdout",
     "output_type": "stream",
     "text": [
      "(1, 'Nguyễn Văn A', 30)\n"
     ]
    }
   ],
   "source": [
    "import sqlite3\n",
    "\n",
    "# Kết nối đến cơ sở dữ liệu (hoặc tạo cơ sở dữ liệu mới nếu nó không tồn tại)\n",
    "conn = sqlite3.connect('mydatabase.db')\n",
    "\n",
    "# Tạo một đối tượng con trỏ (Cursor object) từ đối tượng kết nối\n",
    "cursor = conn.cursor()\n",
    "\n",
    "# Thực thi câu lệnh SQL và truy xuất dữ liệu được đặt trong cặp dấu '''...'''\n",
    "cursor.execute('''\n",
    "CREATE TABLE IF NOT EXISTS users (\n",
    "               id INTEGER PRIMARY KEY,\n",
    "               \"Tên\" TEXT,\n",
    "               \"Tuổi\" INTEGER\n",
    "               )\n",
    "               ''')\n",
    "cursor.execute('''\n",
    "               INSERT INTO users (\"Tên\", \"Tuổi\")\n",
    "               VALUES (\"Nguyễn Văn A\", 30)\n",
    "               ''')\n",
    "\n",
    "# Lưu các thay đổi vào cơ sở dữ liệu (nếu cần)\n",
    "conn.commit()\n",
    "\n",
    "# Truy xuất dữ liệu từ bảng users\n",
    "cursor.execute(\"SELECT * FROM users\")\n",
    "rows = cursor.fetchall()\n",
    "\n",
    "# In kết quả\n",
    "for row in rows:\n",
    "    print(row)\n",
    "\n",
    "# Đóng con trỏ (Cursor object) và đóng kết nối\n",
    "cursor.close()\n",
    "conn.close()"
   ]
  },
  {
   "cell_type": "code",
   "execution_count": 2,
   "metadata": {},
   "outputs": [
    {
     "name": "stdout",
     "output_type": "stream",
     "text": [
      "(1, 'Nguyễn Văn A', 30)\n",
      "(2, 'Nguyễn Văn A', 30)\n"
     ]
    }
   ],
   "source": [
    "import sqlite3\n",
    "conn = sqlite3.connect('mydatabase.db')\n",
    "cursor = conn.cursor()\n",
    "cursor.execute('''\n",
    "               CREATE TABLE IF NOT EXISTS users (\n",
    "               id INTERGER PRIMARY KEY,\n",
    "               \"Tên\" TEXT,\n",
    "               \"Tuổi\" INTERGER\n",
    "               )\n",
    "               ''')\n",
    "cursor.execute('''\n",
    "               INSERT INTO users (\"Tên\", \"Tuổi\")\n",
    "               VALUES (\"Nguyễn Văn A\", 30)\n",
    "               ''')\n",
    "conn.commit()\n",
    "\n",
    "cursor.execute(\"SELECT * FROM users\")\n",
    "rows = cursor.fetchall()\n",
    "\n",
    "for row in rows:\n",
    "    print(row)\n",
    "\n",
    "cursor.close()\n",
    "conn.close() "
   ]
  }
 ],
 "metadata": {
  "kernelspec": {
   "display_name": "Python 3",
   "language": "python",
   "name": "python3"
  },
  "language_info": {
   "codemirror_mode": {
    "name": "ipython",
    "version": 3
   },
   "file_extension": ".py",
   "mimetype": "text/x-python",
   "name": "python",
   "nbconvert_exporter": "python",
   "pygments_lexer": "ipython3",
   "version": "3.11.5"
  }
 },
 "nbformat": 4,
 "nbformat_minor": 2
}
