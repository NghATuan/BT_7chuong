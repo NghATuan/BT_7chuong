{
 "cells": [
  {
   "cell_type": "code",
   "execution_count": 1,
   "metadata": {},
   "outputs": [
    {
     "ename": "OperationalError",
     "evalue": "no such table: mytable",
     "output_type": "error",
     "traceback": [
      "\u001b[1;31m---------------------------------------------------------------------------\u001b[0m",
      "\u001b[1;31mOperationalError\u001b[0m                          Traceback (most recent call last)",
      "Cell \u001b[1;32mIn[1], line 30\u001b[0m\n\u001b[0;32m     27\u001b[0m     count_records(table_name)\n\u001b[0;32m     29\u001b[0m \u001b[38;5;28;01mif\u001b[39;00m \u001b[38;5;18m__name__\u001b[39m \u001b[38;5;241m==\u001b[39m \u001b[38;5;124m\"\u001b[39m\u001b[38;5;124m__main__\u001b[39m\u001b[38;5;124m\"\u001b[39m:\n\u001b[1;32m---> 30\u001b[0m     \u001b[43mmain\u001b[49m\u001b[43m(\u001b[49m\u001b[43m)\u001b[49m\n",
      "Cell \u001b[1;32mIn[1], line 27\u001b[0m, in \u001b[0;36mmain\u001b[1;34m()\u001b[0m\n\u001b[0;32m     24\u001b[0m table_name \u001b[38;5;241m=\u001b[39m \u001b[38;5;124m'\u001b[39m\u001b[38;5;124mmytable\u001b[39m\u001b[38;5;124m'\u001b[39m\n\u001b[0;32m     26\u001b[0m \u001b[38;5;66;03m# Đếm số bản ghi trong bảng\u001b[39;00m\n\u001b[1;32m---> 27\u001b[0m \u001b[43mcount_records\u001b[49m\u001b[43m(\u001b[49m\u001b[43mtable_name\u001b[49m\u001b[43m)\u001b[49m\n",
      "Cell \u001b[1;32mIn[1], line 11\u001b[0m, in \u001b[0;36mcount_records\u001b[1;34m(table_name)\u001b[0m\n\u001b[0;32m      8\u001b[0m cursor \u001b[38;5;241m=\u001b[39m conn\u001b[38;5;241m.\u001b[39mcursor()\n\u001b[0;32m     10\u001b[0m \u001b[38;5;66;03m# Thực hiện truy vấn để đếm số bản ghi trong bảng\u001b[39;00m\n\u001b[1;32m---> 11\u001b[0m \u001b[43mcursor\u001b[49m\u001b[38;5;241;43m.\u001b[39;49m\u001b[43mexecute\u001b[49m\u001b[43m(\u001b[49m\u001b[38;5;124;43mf\u001b[39;49m\u001b[38;5;124;43m\"\u001b[39;49m\u001b[38;5;124;43mSELECT COUNT(*) FROM \u001b[39;49m\u001b[38;5;132;43;01m{\u001b[39;49;00m\u001b[43mtable_name\u001b[49m\u001b[38;5;132;43;01m}\u001b[39;49;00m\u001b[38;5;124;43m\"\u001b[39;49m\u001b[43m)\u001b[49m\n\u001b[0;32m     13\u001b[0m \u001b[38;5;66;03m# Lấy kết quả truy vấn\u001b[39;00m\n\u001b[0;32m     14\u001b[0m count \u001b[38;5;241m=\u001b[39m cursor\u001b[38;5;241m.\u001b[39mfetchone()[\u001b[38;5;241m0\u001b[39m]\n",
      "\u001b[1;31mOperationalError\u001b[0m: no such table: mytable"
     ]
    }
   ],
   "source": [
    "import sqlite3\n",
    "\n",
    "def count_records(table_name):\n",
    "    # Kết nối đến cơ sở dữ liệu SQLite\n",
    "    conn = sqlite3.connect('mydatabase.db')\n",
    "\n",
    "    # Lấy đối tượng con trỏ\n",
    "    cursor = conn.cursor()\n",
    "\n",
    "    # Thực hiện truy vấn để đếm số bản ghi trong bảng\n",
    "    cursor.execute(f\"SELECT COUNT(*) FROM {table_name}\")\n",
    "\n",
    "    # Lấy kết quả truy vấn\n",
    "    count = cursor.fetchone()[0]\n",
    "\n",
    "    # In ra số bản ghi\n",
    "    print(f\"Number of records in '{table_name}': {count}\")\n",
    "\n",
    "    # Đóng kết nối\n",
    "    conn.close()\n",
    "\n",
    "def main():\n",
    "    # Tên bảng cần đếm số bản ghi\n",
    "    table_name = 'mytable'\n",
    "\n",
    "    # Đếm số bản ghi trong bảng\n",
    "    count_records(table_name)\n",
    "\n",
    "if __name__ == \"__main__\":\n",
    "    main()\n"
   ]
  }
 ],
 "metadata": {
  "kernelspec": {
   "display_name": "base",
   "language": "python",
   "name": "python3"
  },
  "language_info": {
   "codemirror_mode": {
    "name": "ipython",
    "version": 3
   },
   "file_extension": ".py",
   "mimetype": "text/x-python",
   "name": "python",
   "nbconvert_exporter": "python",
   "pygments_lexer": "ipython3",
   "version": "3.11.5"
  }
 },
 "nbformat": 4,
 "nbformat_minor": 2
}
