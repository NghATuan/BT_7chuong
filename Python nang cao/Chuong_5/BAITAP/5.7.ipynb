{
 "cells": [
  {
   "cell_type": "code",
   "execution_count": 9,
   "metadata": {},
   "outputs": [],
   "source": [
    "import sqlite3\n",
    "\n",
    "def update_column(table_name, column_name, old_value, new_value):\n",
    "    # Kết nối đến cơ sở dữ liệu SQLite\n",
    "    conn = sqlite3.connect('mydatabase.db')\n",
    "    cursor = conn.cursor()\n",
    "\n",
    "    # Sử dụng câu lệnh UPDATE để cập nhật giá trị của cột\n",
    "    update_query = f\"UPDATE {table_name} SET {column_name} = ? WHERE {column_name} = ?\"\n",
    "    cursor.execute(update_query, (new_value, old_value))\n",
    "\n",
    "    # Lưu thay đổi và đóng kết nối\n",
    "    conn.commit()\n",
    "    conn.close()\n",
    "\n",
    "\n",
    "update_column('mytable', 'name', 'Duc', 'Tuan')\n"
   ]
  }
 ],
 "metadata": {
  "kernelspec": {
   "display_name": "Python 3",
   "language": "python",
   "name": "python3"
  },
  "language_info": {
   "codemirror_mode": {
    "name": "ipython",
    "version": 3
   },
   "file_extension": ".py",
   "mimetype": "text/x-python",
   "name": "python",
   "nbconvert_exporter": "python",
   "pygments_lexer": "ipython3",
   "version": "3.11.5"
  }
 },
 "nbformat": 4,
 "nbformat_minor": 2
}
