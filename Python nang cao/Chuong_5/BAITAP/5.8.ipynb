{
 "cells": [
  {
   "cell_type": "code",
   "execution_count": 1,
   "metadata": {},
   "outputs": [],
   "source": [
    "import sqlite3\n",
    "\n",
    "def delete_row(table_name, column_name, column_value):\n",
    "    # Kết nối đến cơ sở dữ liệu SQLite\n",
    "    conn = sqlite3.connect('mydatabase.db')\n",
    "    cursor = conn.cursor()\n",
    "\n",
    "    # Sử dụng câu lệnh DELETE để xóa hàng cụ thể\n",
    "    delete_query = f\"DELETE FROM {table_name} WHERE {column_name} = ?\"\n",
    "    cursor.execute(delete_query, (column_value,))\n",
    "\n",
    "    # Lưu thay đổi và đóng kết nối\n",
    "    conn.commit()\n",
    "    conn.close()\n",
    "\n",
    "# Thực hiện xóa hàng có giá trị 'Linh' trong cột 'name'\n",
    "delete_row('mytable', 'name', 'Linh')\n"
   ]
  }
 ],
 "metadata": {
  "kernelspec": {
   "display_name": "Python 3",
   "language": "python",
   "name": "python3"
  },
  "language_info": {
   "codemirror_mode": {
    "name": "ipython",
    "version": 3
   },
   "file_extension": ".py",
   "mimetype": "text/x-python",
   "name": "python",
   "nbconvert_exporter": "python",
   "pygments_lexer": "ipython3",
   "version": "3.11.5"
  }
 },
 "nbformat": 4,
 "nbformat_minor": 2
}
