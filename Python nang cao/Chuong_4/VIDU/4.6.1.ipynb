{
 "cells": [
  {
   "cell_type": "code",
   "execution_count": 1,
   "metadata": {},
   "outputs": [
    {
     "data": {
      "text/plain": [
       "(Hà Nội, 2015)         7216000\n",
       "(Hà Nội, 2020)         8246540\n",
       "(Nam Định, 2015)       1850600\n",
       "(Nam Định, 2020)       1780330\n",
       "(Thanh Hóa, 2015)      3514200\n",
       "(Thanh Hóa, 2020)      3664940\n",
       "(Đà Nẵng, 2015)        1028800\n",
       "(Đà Nẵng, 2020)        1169480\n",
       "(Hồ Chí Minh, 2015)    8146300\n",
       "(Hồ Chí Minh, 2020)    9227600\n",
       "dtype: int64"
      ]
     },
     "execution_count": 1,
     "metadata": {},
     "output_type": "execute_result"
    }
   ],
   "source": [
    "import pandas as pd\n",
    "import numpy as np\n",
    "# Tuples đại diện cho tỉnh thành phố - Năm tương ứng\n",
    "index = [('Hà Nội', 2015),('Hà Nội', 2020),\n",
    "        ('Nam Định', 2015),('Nam Định', 2020),\n",
    "        ('Thanh Hóa', 2015),('Thanh Hóa', 2020),\n",
    "        ('Đà Nẵng', 2015),('Đà Nẵng', 2020),\n",
    "        ('Hồ Chí Minh', 2015),('Hồ Chí Minh', 2020)]\n",
    "\n",
    "data = [ 7216000, 8246540,\n",
    "         1850600, 1780330,\n",
    "         3514200, 3664940,\n",
    "         1028800, 1169480,\n",
    "         8146300, 9227600]\n",
    "\n",
    "vn_pop = pd.Series(data, index=index)\n",
    "vn_pop"
   ]
  },
  {
   "cell_type": "code",
   "execution_count": 2,
   "metadata": {},
   "outputs": [
    {
     "data": {
      "text/plain": [
       "(Hà Nội, 2015)      7216000\n",
       "(Hà Nội, 2020)      8246540\n",
       "(Nam Định, 2015)    1850600\n",
       "dtype: int64"
      ]
     },
     "execution_count": 2,
     "metadata": {},
     "output_type": "execute_result"
    }
   ],
   "source": [
    "vn_pop[('Hà Nội', 2015):('Nam Định', 2015)]"
   ]
  },
  {
   "cell_type": "code",
   "execution_count": 3,
   "metadata": {},
   "outputs": [
    {
     "data": {
      "text/plain": [
       "(Hà Nội, 2020)         8246540\n",
       "(Nam Định, 2020)       1780330\n",
       "(Thanh Hóa, 2020)      3664940\n",
       "(Đà Nẵng, 2020)        1169480\n",
       "(Hồ Chí Minh, 2020)    9227600\n",
       "dtype: int64"
      ]
     },
     "execution_count": 3,
     "metadata": {},
     "output_type": "execute_result"
    }
   ],
   "source": [
    "vn_pop[[i for i in vn_pop.index if i[1]==2020]]"
   ]
  },
  {
   "cell_type": "code",
   "execution_count": 4,
   "metadata": {},
   "outputs": [
    {
     "data": {
      "text/plain": [
       "MultiIndex([(     'Hà Nội', 2015),\n",
       "            (     'Hà Nội', 2020),\n",
       "            (   'Nam Định', 2015),\n",
       "            (   'Nam Định', 2020),\n",
       "            (  'Thanh Hóa', 2015),\n",
       "            (  'Thanh Hóa', 2020),\n",
       "            (    'Đà Nẵng', 2015),\n",
       "            (    'Đà Nẵng', 2020),\n",
       "            ('Hồ Chí Minh', 2015),\n",
       "            ('Hồ Chí Minh', 2020)],\n",
       "           names=['Tỉnh/TP', 'Năm'])"
      ]
     },
     "execution_count": 4,
     "metadata": {},
     "output_type": "execute_result"
    }
   ],
   "source": [
    "idx = pd.MultiIndex.from_tuples(index,\n",
    "names = ['Tỉnh/TP','Năm'])\n",
    "idx"
   ]
  },
  {
   "cell_type": "code",
   "execution_count": 5,
   "metadata": {},
   "outputs": [
    {
     "data": {
      "text/plain": [
       "Tỉnh/TP      Năm \n",
       "Hà Nội       2015    7216000\n",
       "             2020    8246540\n",
       "Nam Định     2015    1850600\n",
       "             2020    1780330\n",
       "Thanh Hóa    2015    3514200\n",
       "             2020    3664940\n",
       "Đà Nẵng      2015    1028800\n",
       "             2020    1169480\n",
       "Hồ Chí Minh  2015    8146300\n",
       "             2020    9227600\n",
       "dtype: int64"
      ]
     },
     "execution_count": 5,
     "metadata": {},
     "output_type": "execute_result"
    }
   ],
   "source": [
    "vn_pop = vn_pop.reindex(idx)\n",
    "vn_pop"
   ]
  },
  {
   "cell_type": "code",
   "execution_count": 6,
   "metadata": {},
   "outputs": [
    {
     "data": {
      "text/plain": [
       "Tỉnh/TP\n",
       "Hà Nội         8246540\n",
       "Nam Định       1780330\n",
       "Thanh Hóa      3664940\n",
       "Đà Nẵng        1169480\n",
       "Hồ Chí Minh    9227600\n",
       "dtype: int64"
      ]
     },
     "execution_count": 6,
     "metadata": {},
     "output_type": "execute_result"
    }
   ],
   "source": [
    "vn_pop[:,2020]"
   ]
  },
  {
   "cell_type": "code",
   "execution_count": 7,
   "metadata": {},
   "outputs": [
    {
     "name": "stdout",
     "output_type": "stream",
     "text": [
      "Tỉnh/TP      Năm \n",
      "Hà Nội       2015    7216000\n",
      "             2020    8246540\n",
      "Nam Định     2015    1850600\n",
      "             2020    1780330\n",
      "Thanh Hóa    2015    3514200\n",
      "             2020    3664940\n",
      "Đà Nẵng      2015    1028800\n",
      "             2020    1169480\n",
      "Hồ Chí Minh  2015    8146300\n",
      "             2020    9227600\n",
      "dtype: int64 \n",
      "\n"
     ]
    },
    {
     "data": {
      "text/html": [
       "<div>\n",
       "<style scoped>\n",
       "    .dataframe tbody tr th:only-of-type {\n",
       "        vertical-align: middle;\n",
       "    }\n",
       "\n",
       "    .dataframe tbody tr th {\n",
       "        vertical-align: top;\n",
       "    }\n",
       "\n",
       "    .dataframe thead th {\n",
       "        text-align: right;\n",
       "    }\n",
       "</style>\n",
       "<table border=\"1\" class=\"dataframe\">\n",
       "  <thead>\n",
       "    <tr style=\"text-align: right;\">\n",
       "      <th>Năm</th>\n",
       "      <th>2015</th>\n",
       "      <th>2020</th>\n",
       "    </tr>\n",
       "    <tr>\n",
       "      <th>Tỉnh/TP</th>\n",
       "      <th></th>\n",
       "      <th></th>\n",
       "    </tr>\n",
       "  </thead>\n",
       "  <tbody>\n",
       "    <tr>\n",
       "      <th>Hà Nội</th>\n",
       "      <td>7216000</td>\n",
       "      <td>8246540</td>\n",
       "    </tr>\n",
       "    <tr>\n",
       "      <th>Hồ Chí Minh</th>\n",
       "      <td>8146300</td>\n",
       "      <td>9227600</td>\n",
       "    </tr>\n",
       "    <tr>\n",
       "      <th>Nam Định</th>\n",
       "      <td>1850600</td>\n",
       "      <td>1780330</td>\n",
       "    </tr>\n",
       "    <tr>\n",
       "      <th>Thanh Hóa</th>\n",
       "      <td>3514200</td>\n",
       "      <td>3664940</td>\n",
       "    </tr>\n",
       "    <tr>\n",
       "      <th>Đà Nẵng</th>\n",
       "      <td>1028800</td>\n",
       "      <td>1169480</td>\n",
       "    </tr>\n",
       "  </tbody>\n",
       "</table>\n",
       "</div>"
      ],
      "text/plain": [
       "Năm             2015     2020\n",
       "Tỉnh/TP                      \n",
       "Hà Nội       7216000  8246540\n",
       "Hồ Chí Minh  8146300  9227600\n",
       "Nam Định     1850600  1780330\n",
       "Thanh Hóa    3514200  3664940\n",
       "Đà Nẵng      1028800  1169480"
      ]
     },
     "execution_count": 7,
     "metadata": {},
     "output_type": "execute_result"
    }
   ],
   "source": [
    "print(vn_pop,'\\n')\n",
    "vn_pop_df = vn_pop.unstack()\n",
    "vn_pop_df"
   ]
  },
  {
   "cell_type": "code",
   "execution_count": 8,
   "metadata": {},
   "outputs": [
    {
     "data": {
      "text/plain": [
       "Tỉnh/TP      Năm \n",
       "Hà Nội       2015    7216000\n",
       "             2020    8246540\n",
       "Hồ Chí Minh  2015    8146300\n",
       "             2020    9227600\n",
       "Nam Định     2015    1850600\n",
       "             2020    1780330\n",
       "Thanh Hóa    2015    3514200\n",
       "             2020    3664940\n",
       "Đà Nẵng      2015    1028800\n",
       "             2020    1169480\n",
       "dtype: int64"
      ]
     },
     "execution_count": 8,
     "metadata": {},
     "output_type": "execute_result"
    }
   ],
   "source": [
    "vn_pop_df.stack()"
   ]
  },
  {
   "cell_type": "code",
   "execution_count": 9,
   "metadata": {},
   "outputs": [
    {
     "data": {
      "text/html": [
       "<div>\n",
       "<style scoped>\n",
       "    .dataframe tbody tr th:only-of-type {\n",
       "        vertical-align: middle;\n",
       "    }\n",
       "\n",
       "    .dataframe tbody tr th {\n",
       "        vertical-align: top;\n",
       "    }\n",
       "\n",
       "    .dataframe thead th {\n",
       "        text-align: right;\n",
       "    }\n",
       "</style>\n",
       "<table border=\"1\" class=\"dataframe\">\n",
       "  <thead>\n",
       "    <tr style=\"text-align: right;\">\n",
       "      <th></th>\n",
       "      <th></th>\n",
       "      <th>Tổng dân số</th>\n",
       "      <th>Có việc</th>\n",
       "    </tr>\n",
       "    <tr>\n",
       "      <th>Tỉnh/TP</th>\n",
       "      <th>Năm</th>\n",
       "      <th></th>\n",
       "      <th></th>\n",
       "    </tr>\n",
       "  </thead>\n",
       "  <tbody>\n",
       "    <tr>\n",
       "      <th rowspan=\"2\" valign=\"top\">Hà Nội</th>\n",
       "      <th>2015</th>\n",
       "      <td>7216000</td>\n",
       "      <td>3752320</td>\n",
       "    </tr>\n",
       "    <tr>\n",
       "      <th>2020</th>\n",
       "      <td>8246540</td>\n",
       "      <td>4042454</td>\n",
       "    </tr>\n",
       "    <tr>\n",
       "      <th rowspan=\"2\" valign=\"top\">Nam Định</th>\n",
       "      <th>2015</th>\n",
       "      <td>1850600</td>\n",
       "      <td>1080750</td>\n",
       "    </tr>\n",
       "    <tr>\n",
       "      <th>2020</th>\n",
       "      <td>1780330</td>\n",
       "      <td>1011049</td>\n",
       "    </tr>\n",
       "    <tr>\n",
       "      <th rowspan=\"2\" valign=\"top\">Thanh Hóa</th>\n",
       "      <th>2015</th>\n",
       "      <td>3514200</td>\n",
       "      <td>2199889</td>\n",
       "    </tr>\n",
       "    <tr>\n",
       "      <th>2020</th>\n",
       "      <td>3664940</td>\n",
       "      <td>2190535</td>\n",
       "    </tr>\n",
       "    <tr>\n",
       "      <th rowspan=\"2\" valign=\"top\">Đà Nẵng</th>\n",
       "      <th>2015</th>\n",
       "      <td>1028800</td>\n",
       "      <td>534976</td>\n",
       "    </tr>\n",
       "    <tr>\n",
       "      <th>2020</th>\n",
       "      <td>1169480</td>\n",
       "      <td>534452</td>\n",
       "    </tr>\n",
       "    <tr>\n",
       "      <th rowspan=\"2\" valign=\"top\">Hồ Chí Minh</th>\n",
       "      <th>2015</th>\n",
       "      <td>8146300</td>\n",
       "      <td>4236076</td>\n",
       "    </tr>\n",
       "    <tr>\n",
       "      <th>2020</th>\n",
       "      <td>9227600</td>\n",
       "      <td>4589808</td>\n",
       "    </tr>\n",
       "  </tbody>\n",
       "</table>\n",
       "</div>"
      ],
      "text/plain": [
       "                  Tổng dân số  Có việc\n",
       "Tỉnh/TP     Năm                       \n",
       "Hà Nội      2015      7216000  3752320\n",
       "            2020      8246540  4042454\n",
       "Nam Định    2015      1850600  1080750\n",
       "            2020      1780330  1011049\n",
       "Thanh Hóa   2015      3514200  2199889\n",
       "            2020      3664940  2190535\n",
       "Đà Nẵng     2015      1028800   534976\n",
       "            2020      1169480   534452\n",
       "Hồ Chí Minh 2015      8146300  4236076\n",
       "            2020      9227600  4589808"
      ]
     },
     "execution_count": 9,
     "metadata": {},
     "output_type": "execute_result"
    }
   ],
   "source": [
    "vn_pop_df = pd.DataFrame({'Tổng dân số':vn_pop,'Có việc':[3752320, 4042454,\n",
    "                                                          1080750, 1011049,\n",
    "                                                          2199889, 2190535,\n",
    "                                                           534976,  534452,\n",
    "                                                          4236076, 4589808]})\n",
    "\n",
    "vn_pop_df"
   ]
  },
  {
   "cell_type": "code",
   "execution_count": 10,
   "metadata": {},
   "outputs": [
    {
     "data": {
      "text/html": [
       "<div>\n",
       "<style scoped>\n",
       "    .dataframe tbody tr th:only-of-type {\n",
       "        vertical-align: middle;\n",
       "    }\n",
       "\n",
       "    .dataframe tbody tr th {\n",
       "        vertical-align: top;\n",
       "    }\n",
       "\n",
       "    .dataframe thead th {\n",
       "        text-align: right;\n",
       "    }\n",
       "</style>\n",
       "<table border=\"1\" class=\"dataframe\">\n",
       "  <thead>\n",
       "    <tr style=\"text-align: right;\">\n",
       "      <th>Năm</th>\n",
       "      <th>2015</th>\n",
       "      <th>2020</th>\n",
       "    </tr>\n",
       "    <tr>\n",
       "      <th>Tỉnh/TP</th>\n",
       "      <th></th>\n",
       "      <th></th>\n",
       "    </tr>\n",
       "  </thead>\n",
       "  <tbody>\n",
       "    <tr>\n",
       "      <th>Hà Nội</th>\n",
       "      <td>0.520</td>\n",
       "      <td>0.4902</td>\n",
       "    </tr>\n",
       "    <tr>\n",
       "      <th>Hồ Chí Minh</th>\n",
       "      <td>0.520</td>\n",
       "      <td>0.4974</td>\n",
       "    </tr>\n",
       "    <tr>\n",
       "      <th>Nam Định</th>\n",
       "      <td>0.584</td>\n",
       "      <td>0.5679</td>\n",
       "    </tr>\n",
       "    <tr>\n",
       "      <th>Thanh Hóa</th>\n",
       "      <td>0.626</td>\n",
       "      <td>0.5977</td>\n",
       "    </tr>\n",
       "    <tr>\n",
       "      <th>Đà Nẵng</th>\n",
       "      <td>0.520</td>\n",
       "      <td>0.4570</td>\n",
       "    </tr>\n",
       "  </tbody>\n",
       "</table>\n",
       "</div>"
      ],
      "text/plain": [
       "Năm           2015    2020\n",
       "Tỉnh/TP                   \n",
       "Hà Nội       0.520  0.4902\n",
       "Hồ Chí Minh  0.520  0.4974\n",
       "Nam Định     0.584  0.5679\n",
       "Thanh Hóa    0.626  0.5977\n",
       "Đà Nẵng      0.520  0.4570"
      ]
     },
     "execution_count": 10,
     "metadata": {},
     "output_type": "execute_result"
    }
   ],
   "source": [
    "f_co_viec = vn_pop_df['Có việc']/vn_pop_df['Tổng dân số']\n",
    "f_co_viec.unstack()"
   ]
  },
  {
   "cell_type": "code",
   "execution_count": 11,
   "metadata": {},
   "outputs": [
    {
     "data": {
      "text/html": [
       "<div>\n",
       "<style scoped>\n",
       "    .dataframe tbody tr th:only-of-type {\n",
       "        vertical-align: middle;\n",
       "    }\n",
       "\n",
       "    .dataframe tbody tr th {\n",
       "        vertical-align: top;\n",
       "    }\n",
       "\n",
       "    .dataframe thead th {\n",
       "        text-align: right;\n",
       "    }\n",
       "</style>\n",
       "<table border=\"1\" class=\"dataframe\">\n",
       "  <thead>\n",
       "    <tr style=\"text-align: right;\">\n",
       "      <th></th>\n",
       "      <th></th>\n",
       "      <th>data1</th>\n",
       "      <th>data2</th>\n",
       "    </tr>\n",
       "  </thead>\n",
       "  <tbody>\n",
       "    <tr>\n",
       "      <th rowspan=\"2\" valign=\"top\">a</th>\n",
       "      <th>1</th>\n",
       "      <td>0.069136</td>\n",
       "      <td>0.294151</td>\n",
       "    </tr>\n",
       "    <tr>\n",
       "      <th>2</th>\n",
       "      <td>0.475595</td>\n",
       "      <td>0.404925</td>\n",
       "    </tr>\n",
       "    <tr>\n",
       "      <th rowspan=\"2\" valign=\"top\">b</th>\n",
       "      <th>1</th>\n",
       "      <td>0.202480</td>\n",
       "      <td>0.635857</td>\n",
       "    </tr>\n",
       "    <tr>\n",
       "      <th>2</th>\n",
       "      <td>0.375679</td>\n",
       "      <td>0.962610</td>\n",
       "    </tr>\n",
       "  </tbody>\n",
       "</table>\n",
       "</div>"
      ],
      "text/plain": [
       "        data1     data2\n",
       "a 1  0.069136  0.294151\n",
       "  2  0.475595  0.404925\n",
       "b 1  0.202480  0.635857\n",
       "  2  0.375679  0.962610"
      ]
     },
     "execution_count": 11,
     "metadata": {},
     "output_type": "execute_result"
    }
   ],
   "source": [
    "df = pd.DataFrame(np.random.rand(4,2),\n",
    "                  index = [['a', 'a', 'b', 'b'],[1,2,1,2]],\n",
    "                  columns = ['data1','data2'])\n",
    "df"
   ]
  },
  {
   "cell_type": "code",
   "execution_count": 12,
   "metadata": {},
   "outputs": [
    {
     "data": {
      "text/html": [
       "<div>\n",
       "<style scoped>\n",
       "    .dataframe tbody tr th:only-of-type {\n",
       "        vertical-align: middle;\n",
       "    }\n",
       "\n",
       "    .dataframe tbody tr th {\n",
       "        vertical-align: top;\n",
       "    }\n",
       "\n",
       "    .dataframe thead th {\n",
       "        text-align: right;\n",
       "    }\n",
       "</style>\n",
       "<table border=\"1\" class=\"dataframe\">\n",
       "  <thead>\n",
       "    <tr style=\"text-align: right;\">\n",
       "      <th></th>\n",
       "      <th></th>\n",
       "      <th>Value1</th>\n",
       "      <th>Value2</th>\n",
       "      <th>Value3</th>\n",
       "    </tr>\n",
       "    <tr>\n",
       "      <th>Data1</th>\n",
       "      <th>Data2</th>\n",
       "      <th></th>\n",
       "      <th></th>\n",
       "      <th></th>\n",
       "    </tr>\n",
       "  </thead>\n",
       "  <tbody>\n",
       "    <tr>\n",
       "      <th rowspan=\"2\" valign=\"top\">a</th>\n",
       "      <th>1</th>\n",
       "      <td>0.330851</td>\n",
       "      <td>0.573663</td>\n",
       "      <td>0.718445</td>\n",
       "    </tr>\n",
       "    <tr>\n",
       "      <th>2</th>\n",
       "      <td>0.265116</td>\n",
       "      <td>0.941155</td>\n",
       "      <td>0.410925</td>\n",
       "    </tr>\n",
       "    <tr>\n",
       "      <th rowspan=\"2\" valign=\"top\">b</th>\n",
       "      <th>1</th>\n",
       "      <td>0.138864</td>\n",
       "      <td>0.860843</td>\n",
       "      <td>0.183041</td>\n",
       "    </tr>\n",
       "    <tr>\n",
       "      <th>2</th>\n",
       "      <td>0.719355</td>\n",
       "      <td>0.642147</td>\n",
       "      <td>0.676561</td>\n",
       "    </tr>\n",
       "  </tbody>\n",
       "</table>\n",
       "</div>"
      ],
      "text/plain": [
       "               Value1    Value2    Value3\n",
       "Data1 Data2                              \n",
       "a     1      0.330851  0.573663  0.718445\n",
       "      2      0.265116  0.941155  0.410925\n",
       "b     1      0.138864  0.860843  0.183041\n",
       "      2      0.719355  0.642147  0.676561"
      ]
     },
     "execution_count": 12,
     "metadata": {},
     "output_type": "execute_result"
    }
   ],
   "source": [
    "idx_arr = [['a','a','b','b'],[1,2,1,2]]\n",
    "data=np.random.rand(4,3)    #Tạo mảng dữ liệu ngẫu nhiên\n",
    "\n",
    "#Tạo đối tượng Multilndex từ mảng idx_arr\n",
    "multi_index=pd.MultiIndex.from_arrays(idx_arr,\n",
    "                                      names = ['Data1','Data2'])\n",
    "\n",
    "#Tạo DataFrame df\n",
    "df = pd.DataFrame(data, index = multi_index,\n",
    "                  columns = ['Value1', 'Value2', 'Value3'])\n",
    "df"
   ]
  },
  {
   "cell_type": "code",
   "execution_count": 13,
   "metadata": {},
   "outputs": [
    {
     "data": {
      "text/html": [
       "<div>\n",
       "<style scoped>\n",
       "    .dataframe tbody tr th:only-of-type {\n",
       "        vertical-align: middle;\n",
       "    }\n",
       "\n",
       "    .dataframe tbody tr th {\n",
       "        vertical-align: top;\n",
       "    }\n",
       "\n",
       "    .dataframe thead th {\n",
       "        text-align: right;\n",
       "    }\n",
       "</style>\n",
       "<table border=\"1\" class=\"dataframe\">\n",
       "  <thead>\n",
       "    <tr style=\"text-align: right;\">\n",
       "      <th></th>\n",
       "      <th>Value1</th>\n",
       "      <th>Value2</th>\n",
       "      <th>Value3</th>\n",
       "    </tr>\n",
       "  </thead>\n",
       "  <tbody>\n",
       "    <tr>\n",
       "      <th>(a, 1)</th>\n",
       "      <td>0.025006</td>\n",
       "      <td>0.936373</td>\n",
       "      <td>0.505708</td>\n",
       "    </tr>\n",
       "    <tr>\n",
       "      <th>(a, 2)</th>\n",
       "      <td>0.205655</td>\n",
       "      <td>0.977720</td>\n",
       "      <td>0.098745</td>\n",
       "    </tr>\n",
       "    <tr>\n",
       "      <th>(b, 1)</th>\n",
       "      <td>0.530261</td>\n",
       "      <td>0.722553</td>\n",
       "      <td>0.865812</td>\n",
       "    </tr>\n",
       "    <tr>\n",
       "      <th>(b, 2)</th>\n",
       "      <td>0.462452</td>\n",
       "      <td>0.573079</td>\n",
       "      <td>0.716770</td>\n",
       "    </tr>\n",
       "  </tbody>\n",
       "</table>\n",
       "</div>"
      ],
      "text/plain": [
       "          Value1    Value2    Value3\n",
       "(a, 1)  0.025006  0.936373  0.505708\n",
       "(a, 2)  0.205655  0.977720  0.098745\n",
       "(b, 1)  0.530261  0.722553  0.865812\n",
       "(b, 2)  0.462452  0.573079  0.716770"
      ]
     },
     "execution_count": 13,
     "metadata": {},
     "output_type": "execute_result"
    }
   ],
   "source": [
    "#Tạo một danh sách các tuples.\n",
    "\n",
    "idx_tuples= [('a',1), ('a', 2), ('b',1), ('b',2)]\n",
    "\n",
    "data=np.random.rand(4,3)     \n",
    "\n",
    "df=pd.DataFrame(data, index=idx_tuples,\n",
    "                columns=['Value1','Value2','Value3'])\n",
    "\n",
    "df"
   ]
  },
  {
   "cell_type": "code",
   "execution_count": 14,
   "metadata": {},
   "outputs": [
    {
     "data": {
      "text/html": [
       "<div>\n",
       "<style scoped>\n",
       "    .dataframe tbody tr th:only-of-type {\n",
       "        vertical-align: middle;\n",
       "    }\n",
       "\n",
       "    .dataframe tbody tr th {\n",
       "        vertical-align: top;\n",
       "    }\n",
       "\n",
       "    .dataframe thead th {\n",
       "        text-align: right;\n",
       "    }\n",
       "</style>\n",
       "<table border=\"1\" class=\"dataframe\">\n",
       "  <thead>\n",
       "    <tr style=\"text-align: right;\">\n",
       "      <th></th>\n",
       "      <th></th>\n",
       "      <th>Value1</th>\n",
       "      <th>Value2</th>\n",
       "      <th>Value3</th>\n",
       "    </tr>\n",
       "    <tr>\n",
       "      <th>key1</th>\n",
       "      <th>key2</th>\n",
       "      <th></th>\n",
       "      <th></th>\n",
       "      <th></th>\n",
       "    </tr>\n",
       "  </thead>\n",
       "  <tbody>\n",
       "    <tr>\n",
       "      <th rowspan=\"3\" valign=\"top\">a</th>\n",
       "      <th>1</th>\n",
       "      <td>6</td>\n",
       "      <td>6</td>\n",
       "      <td>6</td>\n",
       "    </tr>\n",
       "    <tr>\n",
       "      <th>2</th>\n",
       "      <td>6</td>\n",
       "      <td>6</td>\n",
       "      <td>6</td>\n",
       "    </tr>\n",
       "    <tr>\n",
       "      <th>3</th>\n",
       "      <td>6</td>\n",
       "      <td>6</td>\n",
       "      <td>6</td>\n",
       "    </tr>\n",
       "    <tr>\n",
       "      <th rowspan=\"3\" valign=\"top\">b</th>\n",
       "      <th>1</th>\n",
       "      <td>6</td>\n",
       "      <td>6</td>\n",
       "      <td>6</td>\n",
       "    </tr>\n",
       "    <tr>\n",
       "      <th>2</th>\n",
       "      <td>6</td>\n",
       "      <td>6</td>\n",
       "      <td>6</td>\n",
       "    </tr>\n",
       "    <tr>\n",
       "      <th>3</th>\n",
       "      <td>6</td>\n",
       "      <td>6</td>\n",
       "      <td>6</td>\n",
       "    </tr>\n",
       "  </tbody>\n",
       "</table>\n",
       "</div>"
      ],
      "text/plain": [
       "           Value1  Value2  Value3\n",
       "key1 key2                        \n",
       "a    1          6       6       6\n",
       "     2          6       6       6\n",
       "     3          6       6       6\n",
       "b    1          6       6       6\n",
       "     2          6       6       6\n",
       "     3          6       6       6"
      ]
     },
     "execution_count": 14,
     "metadata": {},
     "output_type": "execute_result"
    }
   ],
   "source": [
    "arr1 = ['a','b']\n",
    "arr2 = [1, 2, 3]\n",
    "multi_idx=pd.MultiIndex.from_product([arr1,arr2], \n",
    "                                      names=['key1','key2']) \n",
    "df = pd.DataFrame(np.random.randint(4,8),\n",
    "                  index = multi_idx,\n",
    "                  columns = ['Value1', 'Value2', 'Value3'])\n",
    "df"
   ]
  },
  {
   "cell_type": "code",
   "execution_count": 15,
   "metadata": {},
   "outputs": [
    {
     "data": {
      "text/plain": [
       "Tỉnh/TP      Năm \n",
       "Hà Nội       2015    7216000\n",
       "             2020    8246540\n",
       "Nam Định     2015    1850600\n",
       "             2020    1780330\n",
       "Thanh Hóa    2015    3514200\n",
       "             2020    3664940\n",
       "Đà Nẵng      2015    1028800\n",
       "             2020    1169480\n",
       "Hồ Chí Minh  2015    8146300\n",
       "             2020    9227600\n",
       "dtype: int64"
      ]
     },
     "execution_count": 15,
     "metadata": {},
     "output_type": "execute_result"
    }
   ],
   "source": [
    "vn_pop"
   ]
  },
  {
   "cell_type": "code",
   "execution_count": 22,
   "metadata": {},
   "outputs": [
    {
     "data": {
      "text/html": [
       "<div>\n",
       "<style scoped>\n",
       "    .dataframe tbody tr th:only-of-type {\n",
       "        vertical-align: middle;\n",
       "    }\n",
       "\n",
       "    .dataframe tbody tr th {\n",
       "        vertical-align: top;\n",
       "    }\n",
       "\n",
       "    .dataframe thead tr th {\n",
       "        text-align: left;\n",
       "    }\n",
       "\n",
       "    .dataframe thead tr:last-of-type th {\n",
       "        text-align: right;\n",
       "    }\n",
       "</style>\n",
       "<table border=\"1\" class=\"dataframe\">\n",
       "  <thead>\n",
       "    <tr>\n",
       "      <th></th>\n",
       "      <th>Học sinh</th>\n",
       "      <th colspan=\"3\" halign=\"left\">Bình</th>\n",
       "      <th colspan=\"3\" halign=\"left\">Lan</th>\n",
       "      <th colspan=\"3\" halign=\"left\">Vân</th>\n",
       "    </tr>\n",
       "    <tr>\n",
       "      <th></th>\n",
       "      <th>Môn học</th>\n",
       "      <th>Toán</th>\n",
       "      <th>Lý</th>\n",
       "      <th>Hóa</th>\n",
       "      <th>Toán</th>\n",
       "      <th>Lý</th>\n",
       "      <th>Hóa</th>\n",
       "      <th>Toán</th>\n",
       "      <th>Lý</th>\n",
       "      <th>Hóa</th>\n",
       "    </tr>\n",
       "    <tr>\n",
       "      <th>Năm</th>\n",
       "      <th>Lần thi</th>\n",
       "      <th></th>\n",
       "      <th></th>\n",
       "      <th></th>\n",
       "      <th></th>\n",
       "      <th></th>\n",
       "      <th></th>\n",
       "      <th></th>\n",
       "      <th></th>\n",
       "      <th></th>\n",
       "    </tr>\n",
       "  </thead>\n",
       "  <tbody>\n",
       "    <tr>\n",
       "      <th rowspan=\"3\" valign=\"top\">2020</th>\n",
       "      <th>1</th>\n",
       "      <td>7</td>\n",
       "      <td>7</td>\n",
       "      <td>5</td>\n",
       "      <td>7</td>\n",
       "      <td>5</td>\n",
       "      <td>6</td>\n",
       "      <td>9</td>\n",
       "      <td>5</td>\n",
       "      <td>7</td>\n",
       "    </tr>\n",
       "    <tr>\n",
       "      <th>2</th>\n",
       "      <td>9</td>\n",
       "      <td>8</td>\n",
       "      <td>5</td>\n",
       "      <td>8</td>\n",
       "      <td>5</td>\n",
       "      <td>9</td>\n",
       "      <td>8</td>\n",
       "      <td>8</td>\n",
       "      <td>9</td>\n",
       "    </tr>\n",
       "    <tr>\n",
       "      <th>3</th>\n",
       "      <td>7</td>\n",
       "      <td>9</td>\n",
       "      <td>7</td>\n",
       "      <td>8</td>\n",
       "      <td>5</td>\n",
       "      <td>5</td>\n",
       "      <td>7</td>\n",
       "      <td>9</td>\n",
       "      <td>9</td>\n",
       "    </tr>\n",
       "    <tr>\n",
       "      <th rowspan=\"3\" valign=\"top\">2021</th>\n",
       "      <th>1</th>\n",
       "      <td>6</td>\n",
       "      <td>8</td>\n",
       "      <td>5</td>\n",
       "      <td>8</td>\n",
       "      <td>6</td>\n",
       "      <td>8</td>\n",
       "      <td>5</td>\n",
       "      <td>6</td>\n",
       "      <td>8</td>\n",
       "    </tr>\n",
       "    <tr>\n",
       "      <th>2</th>\n",
       "      <td>8</td>\n",
       "      <td>8</td>\n",
       "      <td>6</td>\n",
       "      <td>8</td>\n",
       "      <td>6</td>\n",
       "      <td>8</td>\n",
       "      <td>9</td>\n",
       "      <td>7</td>\n",
       "      <td>9</td>\n",
       "    </tr>\n",
       "    <tr>\n",
       "      <th>3</th>\n",
       "      <td>8</td>\n",
       "      <td>6</td>\n",
       "      <td>9</td>\n",
       "      <td>7</td>\n",
       "      <td>5</td>\n",
       "      <td>5</td>\n",
       "      <td>8</td>\n",
       "      <td>9</td>\n",
       "      <td>7</td>\n",
       "    </tr>\n",
       "    <tr>\n",
       "      <th rowspan=\"3\" valign=\"top\">2022</th>\n",
       "      <th>1</th>\n",
       "      <td>7</td>\n",
       "      <td>7</td>\n",
       "      <td>5</td>\n",
       "      <td>6</td>\n",
       "      <td>6</td>\n",
       "      <td>7</td>\n",
       "      <td>9</td>\n",
       "      <td>5</td>\n",
       "      <td>9</td>\n",
       "    </tr>\n",
       "    <tr>\n",
       "      <th>2</th>\n",
       "      <td>8</td>\n",
       "      <td>5</td>\n",
       "      <td>6</td>\n",
       "      <td>7</td>\n",
       "      <td>9</td>\n",
       "      <td>9</td>\n",
       "      <td>9</td>\n",
       "      <td>5</td>\n",
       "      <td>6</td>\n",
       "    </tr>\n",
       "    <tr>\n",
       "      <th>3</th>\n",
       "      <td>5</td>\n",
       "      <td>6</td>\n",
       "      <td>8</td>\n",
       "      <td>6</td>\n",
       "      <td>8</td>\n",
       "      <td>8</td>\n",
       "      <td>6</td>\n",
       "      <td>7</td>\n",
       "      <td>6</td>\n",
       "    </tr>\n",
       "  </tbody>\n",
       "</table>\n",
       "</div>"
      ],
      "text/plain": [
       "Học sinh     Bình         Lan         Vân       \n",
       "Môn học      Toán Lý Hóa Toán Lý Hóa Toán Lý Hóa\n",
       "Năm  Lần thi                                    \n",
       "2020 1          7  7   5    7  5   6    9  5   7\n",
       "     2          9  8   5    8  5   9    8  8   9\n",
       "     3          7  9   7    8  5   5    7  9   9\n",
       "2021 1          6  8   5    8  6   8    5  6   8\n",
       "     2          8  8   6    8  6   8    9  7   9\n",
       "     3          8  6   9    7  5   5    8  9   7\n",
       "2022 1          7  7   5    6  6   7    9  5   9\n",
       "     2          8  5   6    7  9   9    9  5   6\n",
       "     3          5  6   8    6  8   8    6  7   6"
      ]
     },
     "execution_count": 22,
     "metadata": {},
     "output_type": "execute_result"
    }
   ],
   "source": [
    "index = pd.MultiIndex.from_product([[2020,2021,2022],[1,2,3]],\n",
    "                                   names = ['Năm','Lần thi'])\n",
    "columns = pd.MultiIndex.from_product([['Bình','Lan','Vân'],\n",
    "                                      ['Toán','Lý','Hóa']],\n",
    "                                      names = ['Học sinh','Môn học'])\n",
    "\n",
    "data = np.random.randint(5,10,(9,9))\n",
    "\n",
    "score = pd.DataFrame(data, index=index, columns=columns)\n",
    "score"
   ]
  },
  {
   "cell_type": "code",
   "execution_count": 23,
   "metadata": {},
   "outputs": [
    {
     "data": {
      "text/html": [
       "<div>\n",
       "<style scoped>\n",
       "    .dataframe tbody tr th:only-of-type {\n",
       "        vertical-align: middle;\n",
       "    }\n",
       "\n",
       "    .dataframe tbody tr th {\n",
       "        vertical-align: top;\n",
       "    }\n",
       "\n",
       "    .dataframe thead th {\n",
       "        text-align: right;\n",
       "    }\n",
       "</style>\n",
       "<table border=\"1\" class=\"dataframe\">\n",
       "  <thead>\n",
       "    <tr style=\"text-align: right;\">\n",
       "      <th></th>\n",
       "      <th>Môn học</th>\n",
       "      <th>Toán</th>\n",
       "      <th>Lý</th>\n",
       "      <th>Hóa</th>\n",
       "    </tr>\n",
       "    <tr>\n",
       "      <th>Năm</th>\n",
       "      <th>Lần thi</th>\n",
       "      <th></th>\n",
       "      <th></th>\n",
       "      <th></th>\n",
       "    </tr>\n",
       "  </thead>\n",
       "  <tbody>\n",
       "    <tr>\n",
       "      <th rowspan=\"3\" valign=\"top\">2020</th>\n",
       "      <th>1</th>\n",
       "      <td>7</td>\n",
       "      <td>7</td>\n",
       "      <td>5</td>\n",
       "    </tr>\n",
       "    <tr>\n",
       "      <th>2</th>\n",
       "      <td>9</td>\n",
       "      <td>8</td>\n",
       "      <td>5</td>\n",
       "    </tr>\n",
       "    <tr>\n",
       "      <th>3</th>\n",
       "      <td>7</td>\n",
       "      <td>9</td>\n",
       "      <td>7</td>\n",
       "    </tr>\n",
       "    <tr>\n",
       "      <th rowspan=\"3\" valign=\"top\">2021</th>\n",
       "      <th>1</th>\n",
       "      <td>6</td>\n",
       "      <td>8</td>\n",
       "      <td>5</td>\n",
       "    </tr>\n",
       "    <tr>\n",
       "      <th>2</th>\n",
       "      <td>8</td>\n",
       "      <td>8</td>\n",
       "      <td>6</td>\n",
       "    </tr>\n",
       "    <tr>\n",
       "      <th>3</th>\n",
       "      <td>8</td>\n",
       "      <td>6</td>\n",
       "      <td>9</td>\n",
       "    </tr>\n",
       "    <tr>\n",
       "      <th rowspan=\"3\" valign=\"top\">2022</th>\n",
       "      <th>1</th>\n",
       "      <td>7</td>\n",
       "      <td>7</td>\n",
       "      <td>5</td>\n",
       "    </tr>\n",
       "    <tr>\n",
       "      <th>2</th>\n",
       "      <td>8</td>\n",
       "      <td>5</td>\n",
       "      <td>6</td>\n",
       "    </tr>\n",
       "    <tr>\n",
       "      <th>3</th>\n",
       "      <td>5</td>\n",
       "      <td>6</td>\n",
       "      <td>8</td>\n",
       "    </tr>\n",
       "  </tbody>\n",
       "</table>\n",
       "</div>"
      ],
      "text/plain": [
       "Môn học       Toán  Lý  Hóa\n",
       "Năm  Lần thi               \n",
       "2020 1           7   7    5\n",
       "     2           9   8    5\n",
       "     3           7   9    7\n",
       "2021 1           6   8    5\n",
       "     2           8   8    6\n",
       "     3           8   6    9\n",
       "2022 1           7   7    5\n",
       "     2           8   5    6\n",
       "     3           5   6    8"
      ]
     },
     "execution_count": 23,
     "metadata": {},
     "output_type": "execute_result"
    }
   ],
   "source": [
    "score['Bình']"
   ]
  },
  {
   "cell_type": "markdown",
   "metadata": {},
   "source": [
    "Ví dụ 4.6.3\n"
   ]
  },
  {
   "cell_type": "code",
   "execution_count": 17,
   "metadata": {},
   "outputs": [
    {
     "name": "stdout",
     "output_type": "stream",
     "text": [
      "Dân số TP Hồ Chí Minh năm 2015 là:  8146300\n"
     ]
    }
   ],
   "source": [
    "print(\"Dân số TP Hồ Chí Minh năm 2015 là: \",vn_pop['Hồ Chí Minh',2015])"
   ]
  },
  {
   "cell_type": "code",
   "execution_count": 19,
   "metadata": {},
   "outputs": [
    {
     "name": "stdout",
     "output_type": "stream",
     "text": [
      "Dân số tỉnh Nam Định trong các năm 2015, 2020 là:\n",
      " Năm\n",
      "2015    1850600\n",
      "2020    1780330\n",
      "dtype: int64\n"
     ]
    }
   ],
   "source": [
    "print(\"Dân số tỉnh Nam Định trong các năm 2015, 2020 là:\\n\",vn_pop['Nam Định'])"
   ]
  },
  {
   "cell_type": "code",
   "execution_count": 20,
   "metadata": {},
   "outputs": [
    {
     "name": "stdout",
     "output_type": "stream",
     "text": [
      "Dân số tỉnh/thành phố năm 2020 là:\n",
      " Tỉnh/TP\n",
      "Hà Nội         8246540\n",
      "Nam Định       1780330\n",
      "Thanh Hóa      3664940\n",
      "Đà Nẵng        1169480\n",
      "Hồ Chí Minh    9227600\n",
      "dtype: int64\n"
     ]
    }
   ],
   "source": [
    "print(\"Dân số tỉnh/thành phố năm 2020 là:\\n\", vn_pop.loc[:,2020])"
   ]
  },
  {
   "cell_type": "code",
   "execution_count": 21,
   "metadata": {},
   "outputs": [
    {
     "name": "stdout",
     "output_type": "stream",
     "text": [
      "Tỉnh/Thành phố có dân số lớn hơn 5 triệu: \n",
      " Tỉnh/TP      Năm \n",
      "Hà Nội       2015    7216000\n",
      "             2020    8246540\n",
      "Hồ Chí Minh  2015    8146300\n",
      "             2020    9227600\n",
      "dtype: int64\n",
      "Dân số Hà Nội và Đà Nẵng: \n",
      " Tỉnh/TP  Năm \n",
      "Hà Nội   2015    7216000\n",
      "         2020    8246540\n",
      "Đà Nẵng  2015    1028800\n",
      "         2020    1169480\n",
      "dtype: int64\n"
     ]
    }
   ],
   "source": [
    "#Sử dụng mask\n",
    "print(\"Tỉnh/Thành phố có dân số lớn hơn 5 triệu: \\n\",vn_pop[vn_pop >5000000]) \n",
    "#Sử dụng Fancy Indexing\n",
    "print(\"Dân số Hà Nội và Đà Nẵng: \\n\", vn_pop[['Hà Nội', 'Đà Nẵng']])"
   ]
  },
  {
   "cell_type": "code",
   "execution_count": 24,
   "metadata": {},
   "outputs": [
    {
     "name": "stdout",
     "output_type": "stream",
     "text": [
      "Điểm môn Toán của Lan:\n",
      " Năm   Lần thi\n",
      "2020  1          7\n",
      "      2          8\n",
      "      3          8\n",
      "2021  1          8\n",
      "      2          8\n",
      "      3          7\n",
      "2022  1          6\n",
      "      2          7\n",
      "      3          6\n",
      "Name: (Lan, Toán), dtype: int32 \n",
      "\n"
     ]
    }
   ],
   "source": [
    "print(\"Điểm môn Toán của Lan:\\n\", score['Lan', 'Toán'],'\\n')\n"
   ]
  },
  {
   "cell_type": "code",
   "execution_count": 25,
   "metadata": {},
   "outputs": [
    {
     "name": "stdout",
     "output_type": "stream",
     "text": [
      "Điểm môn Lý của Bình và Hóa của Vân:\n",
      " Học sinh     Bình Vân\n",
      "Môn học        Lý Hóa\n",
      "Năm  Lần thi         \n",
      "2020 1          7   7\n",
      "     2          8   9\n",
      "     3          9   9\n",
      "2021 1          8   8\n",
      "     2          8   9\n",
      "     3          6   7\n",
      "2022 1          7   9\n",
      "     2          5   6\n",
      "     3          6   6 \n",
      "\n"
     ]
    }
   ],
   "source": [
    "print(\"Điểm môn Lý của Bình và Hóa của Vân:\\n\",\n",
    "      score.loc[:,[('Bình','Lý'),('Vân','Hóa')]],'\\n')"
   ]
  },
  {
   "cell_type": "code",
   "execution_count": 26,
   "metadata": {},
   "outputs": [
    {
     "name": "stdout",
     "output_type": "stream",
     "text": [
      "Điểm môn Lý của Vân năm 2021:\n",
      " Lần thi\n",
      "1    6\n",
      "2    7\n",
      "3    9\n",
      "Name: (Vân, Lý), dtype: int32\n"
     ]
    }
   ],
   "source": [
    "print(\"Điểm môn Lý của Vân năm 2021:\\n\",score.loc[2021,('Vân','Lý')])"
   ]
  },
  {
   "cell_type": "code",
   "execution_count": 27,
   "metadata": {},
   "outputs": [
    {
     "name": "stdout",
     "output_type": "stream",
     "text": [
      "\n",
      "Điểm Toán của Bình và Hóa của Lan trong năm 2020, 2021:\n",
      " Học sinh     Bình Lan\n",
      "Môn học      Toán Hóa\n",
      "Năm  Lần thi         \n",
      "2020 1          7   6\n",
      "     2          9   9\n",
      "     3          7   5\n",
      "2021 1          6   8\n",
      "     2          8   8\n",
      "     3          8   5 \n",
      "\n"
     ]
    }
   ],
   "source": [
    "print(\"\\nĐiểm Toán của Bình và Hóa của Lan trong năm 2020, 2021:\\n\",  \n",
    "      score.loc[[2020,2021],[('Bình','Toán'),('Lan','Hóa')]],'\\n')"
   ]
  },
  {
   "cell_type": "code",
   "execution_count": 28,
   "metadata": {},
   "outputs": [
    {
     "name": "stdout",
     "output_type": "stream",
     "text": [
      "Các lần thi học phần Lý mà Lan đạt điểm trên 7:\n",
      " Năm   Lần thi\n",
      "2022  2          9\n",
      "      3          8\n",
      "Name: (Lan, Lý), dtype: int32\n"
     ]
    }
   ],
   "source": [
    "print(\"Các lần thi học phần Lý mà Lan đạt điểm trên 7:\\n\",\n",
    "      score['Lan','Lý'][score['Lan','Lý']>7])"
   ]
  },
  {
   "cell_type": "markdown",
   "metadata": {},
   "source": [
    "Ví dụ 4.6.4"
   ]
  },
  {
   "cell_type": "code",
   "execution_count": 29,
   "metadata": {},
   "outputs": [
    {
     "data": {
      "text/plain": [
       "Index A  Index B\n",
       "a        1          61\n",
       "         2          77\n",
       "         3          56\n",
       "c        1          45\n",
       "         2          72\n",
       "         3          58\n",
       "b        1          58\n",
       "         2           5\n",
       "         3          19\n",
       "dtype: int32"
      ]
     },
     "execution_count": 29,
     "metadata": {},
     "output_type": "execute_result"
    }
   ],
   "source": [
    "index = pd.MultiIndex.from_product([['a','c','b'],[1,2,3]],  \n",
    "                                   names=['Index A','Index B']) \n",
    "data = pd.Series(np.random.randint(0,100,(9,)),index=index)\n",
    "data"
   ]
  },
  {
   "cell_type": "code",
   "execution_count": 32,
   "metadata": {},
   "outputs": [
    {
     "ename": "AttributeError",
     "evalue": "'Series' object has no attribute 'sort'",
     "output_type": "error",
     "traceback": [
      "\u001b[1;31m---------------------------------------------------------------------------\u001b[0m",
      "\u001b[1;31mAttributeError\u001b[0m                            Traceback (most recent call last)",
      "\u001b[1;32m<ipython-input-32-1b1648538e1a>\u001b[0m in \u001b[0;36m<module>\u001b[1;34m\u001b[0m\n\u001b[1;32m----> 1\u001b[1;33m \u001b[0mdata\u001b[0m\u001b[1;33m=\u001b[0m\u001b[0mdata\u001b[0m\u001b[1;33m.\u001b[0m\u001b[0msort\u001b[0m\u001b[1;33m.\u001b[0m\u001b[0mindex\u001b[0m\u001b[1;33m(\u001b[0m\u001b[1;33m)\u001b[0m\u001b[1;33m\u001b[0m\u001b[1;33m\u001b[0m\u001b[0m\n\u001b[0m\u001b[0;32m      2\u001b[0m \u001b[0mdata\u001b[0m\u001b[1;33m[\u001b[0m\u001b[1;34m'a'\u001b[0m\u001b[1;33m:\u001b[0m\u001b[1;34m'b'\u001b[0m\u001b[1;33m]\u001b[0m\u001b[1;33m\u001b[0m\u001b[1;33m\u001b[0m\u001b[0m\n",
      "\u001b[1;32me:\\SetupPython\\python3.6.8\\lib\\site-packages\\pandas\\core\\generic.py\u001b[0m in \u001b[0;36m__getattr__\u001b[1;34m(self, name)\u001b[0m\n\u001b[0;32m   5139\u001b[0m             \u001b[1;32mif\u001b[0m \u001b[0mself\u001b[0m\u001b[1;33m.\u001b[0m\u001b[0m_info_axis\u001b[0m\u001b[1;33m.\u001b[0m\u001b[0m_can_hold_identifiers_and_holds_name\u001b[0m\u001b[1;33m(\u001b[0m\u001b[0mname\u001b[0m\u001b[1;33m)\u001b[0m\u001b[1;33m:\u001b[0m\u001b[1;33m\u001b[0m\u001b[1;33m\u001b[0m\u001b[0m\n\u001b[0;32m   5140\u001b[0m                 \u001b[1;32mreturn\u001b[0m \u001b[0mself\u001b[0m\u001b[1;33m[\u001b[0m\u001b[0mname\u001b[0m\u001b[1;33m]\u001b[0m\u001b[1;33m\u001b[0m\u001b[1;33m\u001b[0m\u001b[0m\n\u001b[1;32m-> 5141\u001b[1;33m             \u001b[1;32mreturn\u001b[0m \u001b[0mobject\u001b[0m\u001b[1;33m.\u001b[0m\u001b[0m__getattribute__\u001b[0m\u001b[1;33m(\u001b[0m\u001b[0mself\u001b[0m\u001b[1;33m,\u001b[0m \u001b[0mname\u001b[0m\u001b[1;33m)\u001b[0m\u001b[1;33m\u001b[0m\u001b[1;33m\u001b[0m\u001b[0m\n\u001b[0m\u001b[0;32m   5142\u001b[0m \u001b[1;33m\u001b[0m\u001b[0m\n\u001b[0;32m   5143\u001b[0m     \u001b[1;32mdef\u001b[0m \u001b[0m__setattr__\u001b[0m\u001b[1;33m(\u001b[0m\u001b[0mself\u001b[0m\u001b[1;33m,\u001b[0m \u001b[0mname\u001b[0m\u001b[1;33m:\u001b[0m \u001b[0mstr\u001b[0m\u001b[1;33m,\u001b[0m \u001b[0mvalue\u001b[0m\u001b[1;33m)\u001b[0m \u001b[1;33m->\u001b[0m \u001b[1;32mNone\u001b[0m\u001b[1;33m:\u001b[0m\u001b[1;33m\u001b[0m\u001b[1;33m\u001b[0m\u001b[0m\n",
      "\u001b[1;31mAttributeError\u001b[0m: 'Series' object has no attribute 'sort'"
     ]
    }
   ],
   "source": [
    "data=data.sort.index()\n",
    "data['a':'b']"
   ]
  },
  {
   "cell_type": "code",
   "execution_count": 35,
   "metadata": {},
   "outputs": [
    {
     "name": "stdout",
     "output_type": "stream",
     "text": [
      "Kiểu dữ liệu của vn_pop,  <class 'pandas.core.series.Series'>\n",
      "Unstack level 0: \n",
      " Tỉnh/TP   Hà Nội  Hồ Chí Minh  Nam Định  Thanh Hóa  Đà Nẵng\n",
      "Năm                                                        \n",
      "2015     7216000      8146300   1850600    3514200  1028800\n",
      "2020     8246540      9227600   1780330    3664940  1169480\n",
      "Kiểu dữ liệu của vn_pop_df,  <class 'pandas.core.frame.DataFrame'>\n",
      "\n",
      "Unstack level 1: \n",
      " Năm             2015     2020\n",
      "Tỉnh/TP                      \n",
      "Hà Nội       7216000  8246540\n",
      "Hồ Chí Minh  8146300  9227600\n",
      "Nam Định     1850600  1780330\n",
      "Thanh Hóa    3514200  3664940\n",
      "Đà Nẵng      1028800  1169480\n"
     ]
    }
   ],
   "source": [
    "print(\"Kiểu dữ liệu của vn_pop, \",type(vn_pop))\n",
    "vn_pop_df = vn_pop.unstack(level=0)\n",
    "print(\"Unstack level 0: \\n\", vn_pop_df)\n",
    "print(\"Kiểu dữ liệu của vn_pop_df, \",type(vn_pop_df))\n",
    "print(\"\\nUnstack level 1: \\n\", vn_pop.unstack(level=1))"
   ]
  },
  {
   "cell_type": "code",
   "execution_count": 36,
   "metadata": {},
   "outputs": [
    {
     "name": "stdout",
     "output_type": "stream",
     "text": [
      "vn_pop: \n",
      " Tỉnh/TP      Năm \n",
      "Hà Nội       2015    7216000\n",
      "             2020    8246540\n",
      "Nam Định     2015    1850600\n",
      "             2020    1780330\n",
      "Thanh Hóa    2015    3514200\n",
      "             2020    3664940\n",
      "Đà Nẵng      2015    1028800\n",
      "             2020    1169480\n",
      "Hồ Chí Minh  2015    8146300\n",
      "             2020    9227600\n",
      "dtype: int64\n",
      "\n",
      " vn_pop unstack => stack: \n",
      " Tỉnh/TP      Năm \n",
      "Hà Nội       2015    7216000\n",
      "             2020    8246540\n",
      "Hồ Chí Minh  2015    8146300\n",
      "             2020    9227600\n",
      "Nam Định     2015    1850600\n",
      "             2020    1780330\n",
      "Thanh Hóa    2015    3514200\n",
      "             2020    3664940\n",
      "Đà Nẵng      2015    1028800\n",
      "             2020    1169480\n",
      "dtype: int64\n"
     ]
    }
   ],
   "source": [
    "print(\"vn_pop: \\n\", vn_pop)\n",
    "\n",
    "print(\"\\n vn_pop unstack => stack: \\n\",vn_pop.unstack(level=1).stack())\n"
   ]
  },
  {
   "cell_type": "code",
   "execution_count": 37,
   "metadata": {},
   "outputs": [
    {
     "name": "stdout",
     "output_type": "stream",
     "text": [
      "vn_pop_df DataFrame :\n",
      " Tỉnh/TP   Hà Nội  Hồ Chí Minh  Nam Định  Thanh Hóa  Đà Nẵng\n",
      "Năm                                                        \n",
      "2015     7216000      8146300   1850600    3514200  1028800\n",
      "2020     8246540      9227600   1780330    3664940  1169480\n",
      "\n",
      "vn_pop_df sau khi reset index :\n",
      " Tỉnh/TP   Năm   Hà Nội  Hồ Chí Minh  Nam Định  Thanh Hóa  Đà Nẵng\n",
      "0        2015  7216000      8146300   1850600    3514200  1028800\n",
      "1        2020  8246540      9227600   1780330    3664940  1169480\n"
     ]
    }
   ],
   "source": [
    "print(\"vn_pop_df DataFrame :\\n\", vn_pop_df)\n",
    "print(\"\\nvn_pop_df sau khi reset index :\\n\",vn_pop_df.reset_index())"
   ]
  }
 ],
 "metadata": {
  "kernelspec": {
   "display_name": "Python 3",
   "language": "python",
   "name": "python3"
  },
  "language_info": {
   "codemirror_mode": {
    "name": "ipython",
    "version": 3
   },
   "file_extension": ".py",
   "mimetype": "text/x-python",
   "name": "python",
   "nbconvert_exporter": "python",
   "pygments_lexer": "ipython3",
   "version": "3.11.5"
  }
 },
 "nbformat": 4,
 "nbformat_minor": 2
}
