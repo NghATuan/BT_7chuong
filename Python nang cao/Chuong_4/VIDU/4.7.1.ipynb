{
 "cells": [
  {
   "cell_type": "code",
   "execution_count": 6,
   "metadata": {},
   "outputs": [],
   "source": [
    "import numpy as np\n",
    "import pandas as pd"
   ]
  },
  {
   "cell_type": "code",
   "execution_count": 7,
   "metadata": {},
   "outputs": [
    {
     "data": {
      "text/plain": [
       "1    Đ\n",
       "2    H\n",
       "3    K\n",
       "4    T\n",
       "5    K\n",
       "6    T\n",
       "7    C\n",
       "8    N\n",
       "dtype: object"
      ]
     },
     "execution_count": 7,
     "metadata": {},
     "output_type": "execute_result"
    }
   ],
   "source": [
    "#Ghép 2 Series\n",
    "sr1 = pd.Series(['Đ','H','K','T'],index=[1,2,3,4]) \n",
    "sr2 = pd.Series(['K','T','C','N'],index=[5,6,7,8]) \n",
    "pd.concat([sr1,sr2])"
   ]
  },
  {
   "cell_type": "code",
   "execution_count": 8,
   "metadata": {},
   "outputs": [
    {
     "name": "stdout",
     "output_type": "stream",
     "text": [
      "    A   B\n",
      "0  A0  B0\n",
      "1  A1  B1 \n",
      "\n",
      "    A   B\n",
      "0  A2  B2\n",
      "1  A3  B3\n",
      "\n",
      "Nối A và B theo hàng: \n",
      "     A   B\n",
      "0  A0  B0\n",
      "1  A1  B1\n",
      "0  A2  B2\n",
      "1  A3  B3\n",
      "\n",
      "Nối A và B theo cột:\n",
      "     A   B   A   B\n",
      "0  A0  B0  A2  B2\n",
      "1  A1  B1  A3  B3\n"
     ]
    }
   ],
   "source": [
    "#Ghép 2 DataFrame\n",
    "A=pd.DataFrame([['A0','B0'],['A1','B1']],columns=['A','B']) \n",
    "B=pd.DataFrame([['A2','B2'],['A3','B3']],columns=['A','B']) \n",
    "print(A,'\\n')\n",
    "print(B)\n",
    "\n",
    "print(\"\\nNối A và B theo hàng: \\n\", pd.concat([A,B]))\n",
    "print(\"\\nNối A và B theo cột:\\n\", pd.concat([A,B], axis = 1))"
   ]
  },
  {
   "cell_type": "code",
   "execution_count": 9,
   "metadata": {},
   "outputs": [
    {
     "data": {
      "text/html": [
       "<div>\n",
       "<style scoped>\n",
       "    .dataframe tbody tr th:only-of-type {\n",
       "        vertical-align: middle;\n",
       "    }\n",
       "\n",
       "    .dataframe tbody tr th {\n",
       "        vertical-align: top;\n",
       "    }\n",
       "\n",
       "    .dataframe thead th {\n",
       "        text-align: right;\n",
       "    }\n",
       "</style>\n",
       "<table border=\"1\" class=\"dataframe\">\n",
       "  <thead>\n",
       "    <tr style=\"text-align: right;\">\n",
       "      <th></th>\n",
       "      <th>A</th>\n",
       "      <th>B</th>\n",
       "    </tr>\n",
       "  </thead>\n",
       "  <tbody>\n",
       "    <tr>\n",
       "      <th>0</th>\n",
       "      <td>A0</td>\n",
       "      <td>B0</td>\n",
       "    </tr>\n",
       "    <tr>\n",
       "      <th>1</th>\n",
       "      <td>A1</td>\n",
       "      <td>B1</td>\n",
       "    </tr>\n",
       "    <tr>\n",
       "      <th>2</th>\n",
       "      <td>A2</td>\n",
       "      <td>B2</td>\n",
       "    </tr>\n",
       "    <tr>\n",
       "      <th>3</th>\n",
       "      <td>A3</td>\n",
       "      <td>B3</td>\n",
       "    </tr>\n",
       "  </tbody>\n",
       "</table>\n",
       "</div>"
      ],
      "text/plain": [
       "    A   B\n",
       "0  A0  B0\n",
       "1  A1  B1\n",
       "2  A2  B2\n",
       "3  A3  B3"
      ]
     },
     "execution_count": 9,
     "metadata": {},
     "output_type": "execute_result"
    }
   ],
   "source": [
    "pd.concat([A, B], ignore_index=True)"
   ]
  },
  {
   "cell_type": "code",
   "execution_count": 11,
   "metadata": {},
   "outputs": [
    {
     "ename": "ValueError",
     "evalue": "Indexes have overlapping values: Int64Index([0, 1], dtype='int64')",
     "output_type": "error",
     "traceback": [
      "\u001b[1;31m---------------------------------------------------------------------------\u001b[0m",
      "\u001b[1;31mValueError\u001b[0m                                Traceback (most recent call last)",
      "\u001b[1;32m<ipython-input-11-f77275fa2b06>\u001b[0m in \u001b[0;36m<module>\u001b[1;34m\u001b[0m\n\u001b[1;32m----> 1\u001b[1;33m \u001b[0mpd\u001b[0m\u001b[1;33m.\u001b[0m\u001b[0mconcat\u001b[0m\u001b[1;33m(\u001b[0m\u001b[1;33m[\u001b[0m\u001b[0mA\u001b[0m\u001b[1;33m,\u001b[0m \u001b[0mB\u001b[0m\u001b[1;33m]\u001b[0m\u001b[1;33m,\u001b[0m \u001b[0mverify_integrity\u001b[0m\u001b[1;33m=\u001b[0m\u001b[1;32mTrue\u001b[0m\u001b[1;33m)\u001b[0m\u001b[1;33m\u001b[0m\u001b[1;33m\u001b[0m\u001b[0m\n\u001b[0m",
      "\u001b[1;32me:\\SetupPython\\python3.6.8\\lib\\site-packages\\pandas\\core\\reshape\\concat.py\u001b[0m in \u001b[0;36mconcat\u001b[1;34m(objs, axis, join, ignore_index, keys, levels, names, verify_integrity, sort, copy)\u001b[0m\n\u001b[0;32m    282\u001b[0m         \u001b[0mverify_integrity\u001b[0m\u001b[1;33m=\u001b[0m\u001b[0mverify_integrity\u001b[0m\u001b[1;33m,\u001b[0m\u001b[1;33m\u001b[0m\u001b[1;33m\u001b[0m\u001b[0m\n\u001b[0;32m    283\u001b[0m         \u001b[0mcopy\u001b[0m\u001b[1;33m=\u001b[0m\u001b[0mcopy\u001b[0m\u001b[1;33m,\u001b[0m\u001b[1;33m\u001b[0m\u001b[1;33m\u001b[0m\u001b[0m\n\u001b[1;32m--> 284\u001b[1;33m         \u001b[0msort\u001b[0m\u001b[1;33m=\u001b[0m\u001b[0msort\u001b[0m\u001b[1;33m,\u001b[0m\u001b[1;33m\u001b[0m\u001b[1;33m\u001b[0m\u001b[0m\n\u001b[0m\u001b[0;32m    285\u001b[0m     )\n\u001b[0;32m    286\u001b[0m \u001b[1;33m\u001b[0m\u001b[0m\n",
      "\u001b[1;32me:\\SetupPython\\python3.6.8\\lib\\site-packages\\pandas\\core\\reshape\\concat.py\u001b[0m in \u001b[0;36m__init__\u001b[1;34m(self, objs, axis, join, keys, levels, names, ignore_index, verify_integrity, copy, sort)\u001b[0m\n\u001b[0;32m    452\u001b[0m         \u001b[0mself\u001b[0m\u001b[1;33m.\u001b[0m\u001b[0mcopy\u001b[0m \u001b[1;33m=\u001b[0m \u001b[0mcopy\u001b[0m\u001b[1;33m\u001b[0m\u001b[1;33m\u001b[0m\u001b[0m\n\u001b[0;32m    453\u001b[0m \u001b[1;33m\u001b[0m\u001b[0m\n\u001b[1;32m--> 454\u001b[1;33m         \u001b[0mself\u001b[0m\u001b[1;33m.\u001b[0m\u001b[0mnew_axes\u001b[0m \u001b[1;33m=\u001b[0m \u001b[0mself\u001b[0m\u001b[1;33m.\u001b[0m\u001b[0m_get_new_axes\u001b[0m\u001b[1;33m(\u001b[0m\u001b[1;33m)\u001b[0m\u001b[1;33m\u001b[0m\u001b[1;33m\u001b[0m\u001b[0m\n\u001b[0m\u001b[0;32m    455\u001b[0m \u001b[1;33m\u001b[0m\u001b[0m\n\u001b[0;32m    456\u001b[0m     \u001b[1;32mdef\u001b[0m \u001b[0mget_result\u001b[0m\u001b[1;33m(\u001b[0m\u001b[0mself\u001b[0m\u001b[1;33m)\u001b[0m\u001b[1;33m:\u001b[0m\u001b[1;33m\u001b[0m\u001b[1;33m\u001b[0m\u001b[0m\n",
      "\u001b[1;32me:\\SetupPython\\python3.6.8\\lib\\site-packages\\pandas\\core\\reshape\\concat.py\u001b[0m in \u001b[0;36m_get_new_axes\u001b[1;34m(self)\u001b[0m\n\u001b[0;32m    519\u001b[0m         return [\n\u001b[0;32m    520\u001b[0m             \u001b[0mself\u001b[0m\u001b[1;33m.\u001b[0m\u001b[0m_get_concat_axis\u001b[0m\u001b[1;33m(\u001b[0m\u001b[1;33m)\u001b[0m \u001b[1;32mif\u001b[0m \u001b[0mi\u001b[0m \u001b[1;33m==\u001b[0m \u001b[0mself\u001b[0m\u001b[1;33m.\u001b[0m\u001b[0mbm_axis\u001b[0m \u001b[1;32melse\u001b[0m \u001b[0mself\u001b[0m\u001b[1;33m.\u001b[0m\u001b[0m_get_comb_axis\u001b[0m\u001b[1;33m(\u001b[0m\u001b[0mi\u001b[0m\u001b[1;33m)\u001b[0m\u001b[1;33m\u001b[0m\u001b[1;33m\u001b[0m\u001b[0m\n\u001b[1;32m--> 521\u001b[1;33m             \u001b[1;32mfor\u001b[0m \u001b[0mi\u001b[0m \u001b[1;32min\u001b[0m \u001b[0mrange\u001b[0m\u001b[1;33m(\u001b[0m\u001b[0mndim\u001b[0m\u001b[1;33m)\u001b[0m\u001b[1;33m\u001b[0m\u001b[1;33m\u001b[0m\u001b[0m\n\u001b[0m\u001b[0;32m    522\u001b[0m         ]\n\u001b[0;32m    523\u001b[0m \u001b[1;33m\u001b[0m\u001b[0m\n",
      "\u001b[1;32me:\\SetupPython\\python3.6.8\\lib\\site-packages\\pandas\\core\\reshape\\concat.py\u001b[0m in \u001b[0;36m<listcomp>\u001b[1;34m(.0)\u001b[0m\n\u001b[0;32m    519\u001b[0m         return [\n\u001b[0;32m    520\u001b[0m             \u001b[0mself\u001b[0m\u001b[1;33m.\u001b[0m\u001b[0m_get_concat_axis\u001b[0m\u001b[1;33m(\u001b[0m\u001b[1;33m)\u001b[0m \u001b[1;32mif\u001b[0m \u001b[0mi\u001b[0m \u001b[1;33m==\u001b[0m \u001b[0mself\u001b[0m\u001b[1;33m.\u001b[0m\u001b[0mbm_axis\u001b[0m \u001b[1;32melse\u001b[0m \u001b[0mself\u001b[0m\u001b[1;33m.\u001b[0m\u001b[0m_get_comb_axis\u001b[0m\u001b[1;33m(\u001b[0m\u001b[0mi\u001b[0m\u001b[1;33m)\u001b[0m\u001b[1;33m\u001b[0m\u001b[1;33m\u001b[0m\u001b[0m\n\u001b[1;32m--> 521\u001b[1;33m             \u001b[1;32mfor\u001b[0m \u001b[0mi\u001b[0m \u001b[1;32min\u001b[0m \u001b[0mrange\u001b[0m\u001b[1;33m(\u001b[0m\u001b[0mndim\u001b[0m\u001b[1;33m)\u001b[0m\u001b[1;33m\u001b[0m\u001b[1;33m\u001b[0m\u001b[0m\n\u001b[0m\u001b[0;32m    522\u001b[0m         ]\n\u001b[0;32m    523\u001b[0m \u001b[1;33m\u001b[0m\u001b[0m\n",
      "\u001b[1;32me:\\SetupPython\\python3.6.8\\lib\\site-packages\\pandas\\core\\reshape\\concat.py\u001b[0m in \u001b[0;36m_get_concat_axis\u001b[1;34m(self)\u001b[0m\n\u001b[0;32m    578\u001b[0m             )\n\u001b[0;32m    579\u001b[0m \u001b[1;33m\u001b[0m\u001b[0m\n\u001b[1;32m--> 580\u001b[1;33m         \u001b[0mself\u001b[0m\u001b[1;33m.\u001b[0m\u001b[0m_maybe_check_integrity\u001b[0m\u001b[1;33m(\u001b[0m\u001b[0mconcat_axis\u001b[0m\u001b[1;33m)\u001b[0m\u001b[1;33m\u001b[0m\u001b[1;33m\u001b[0m\u001b[0m\n\u001b[0m\u001b[0;32m    581\u001b[0m \u001b[1;33m\u001b[0m\u001b[0m\n\u001b[0;32m    582\u001b[0m         \u001b[1;32mreturn\u001b[0m \u001b[0mconcat_axis\u001b[0m\u001b[1;33m\u001b[0m\u001b[1;33m\u001b[0m\u001b[0m\n",
      "\u001b[1;32me:\\SetupPython\\python3.6.8\\lib\\site-packages\\pandas\\core\\reshape\\concat.py\u001b[0m in \u001b[0;36m_maybe_check_integrity\u001b[1;34m(self, concat_index)\u001b[0m\n\u001b[0;32m    586\u001b[0m             \u001b[1;32mif\u001b[0m \u001b[1;32mnot\u001b[0m \u001b[0mconcat_index\u001b[0m\u001b[1;33m.\u001b[0m\u001b[0mis_unique\u001b[0m\u001b[1;33m:\u001b[0m\u001b[1;33m\u001b[0m\u001b[1;33m\u001b[0m\u001b[0m\n\u001b[0;32m    587\u001b[0m                 \u001b[0moverlap\u001b[0m \u001b[1;33m=\u001b[0m \u001b[0mconcat_index\u001b[0m\u001b[1;33m[\u001b[0m\u001b[0mconcat_index\u001b[0m\u001b[1;33m.\u001b[0m\u001b[0mduplicated\u001b[0m\u001b[1;33m(\u001b[0m\u001b[1;33m)\u001b[0m\u001b[1;33m]\u001b[0m\u001b[1;33m.\u001b[0m\u001b[0munique\u001b[0m\u001b[1;33m(\u001b[0m\u001b[1;33m)\u001b[0m\u001b[1;33m\u001b[0m\u001b[1;33m\u001b[0m\u001b[0m\n\u001b[1;32m--> 588\u001b[1;33m                 \u001b[1;32mraise\u001b[0m \u001b[0mValueError\u001b[0m\u001b[1;33m(\u001b[0m\u001b[1;34mf\"Indexes have overlapping values: {overlap}\"\u001b[0m\u001b[1;33m)\u001b[0m\u001b[1;33m\u001b[0m\u001b[1;33m\u001b[0m\u001b[0m\n\u001b[0m\u001b[0;32m    589\u001b[0m \u001b[1;33m\u001b[0m\u001b[0m\n\u001b[0;32m    590\u001b[0m \u001b[1;33m\u001b[0m\u001b[0m\n",
      "\u001b[1;31mValueError\u001b[0m: Indexes have overlapping values: Int64Index([0, 1], dtype='int64')"
     ]
    }
   ],
   "source": [
    "pd.concat([A, B], verify_integrity=True)"
   ]
  },
  {
   "cell_type": "code",
   "execution_count": 12,
   "metadata": {},
   "outputs": [
    {
     "name": "stdout",
     "output_type": "stream",
     "text": [
      "A:\n",
      "     A   B\n",
      "0  A0  B0\n",
      "1  A1  B1\n",
      "\n",
      "B:\n",
      "     A   B\n",
      "0  A2  B2\n",
      "1  A3  B3\n"
     ]
    },
    {
     "data": {
      "text/html": [
       "<div>\n",
       "<style scoped>\n",
       "    .dataframe tbody tr th:only-of-type {\n",
       "        vertical-align: middle;\n",
       "    }\n",
       "\n",
       "    .dataframe tbody tr th {\n",
       "        vertical-align: top;\n",
       "    }\n",
       "\n",
       "    .dataframe thead th {\n",
       "        text-align: right;\n",
       "    }\n",
       "</style>\n",
       "<table border=\"1\" class=\"dataframe\">\n",
       "  <thead>\n",
       "    <tr style=\"text-align: right;\">\n",
       "      <th></th>\n",
       "      <th></th>\n",
       "      <th>A</th>\n",
       "      <th>B</th>\n",
       "    </tr>\n",
       "  </thead>\n",
       "  <tbody>\n",
       "    <tr>\n",
       "      <th rowspan=\"2\" valign=\"top\">Data A</th>\n",
       "      <th>0</th>\n",
       "      <td>A0</td>\n",
       "      <td>B0</td>\n",
       "    </tr>\n",
       "    <tr>\n",
       "      <th>1</th>\n",
       "      <td>A1</td>\n",
       "      <td>B1</td>\n",
       "    </tr>\n",
       "    <tr>\n",
       "      <th rowspan=\"2\" valign=\"top\">Data B</th>\n",
       "      <th>0</th>\n",
       "      <td>A2</td>\n",
       "      <td>B2</td>\n",
       "    </tr>\n",
       "    <tr>\n",
       "      <th>1</th>\n",
       "      <td>A3</td>\n",
       "      <td>B3</td>\n",
       "    </tr>\n",
       "  </tbody>\n",
       "</table>\n",
       "</div>"
      ],
      "text/plain": [
       "           A   B\n",
       "Data A 0  A0  B0\n",
       "       1  A1  B1\n",
       "Data B 0  A2  B2\n",
       "       1  A3  B3"
      ]
     },
     "execution_count": 12,
     "metadata": {},
     "output_type": "execute_result"
    }
   ],
   "source": [
    "print(\"A:\\n\",A)\n",
    "print(\"\\nB:\\n\",B)\n",
    "pd.concat([A,B],keys=['Data A','Data B'])"
   ]
  },
  {
   "cell_type": "code",
   "execution_count": 13,
   "metadata": {},
   "outputs": [
    {
     "name": "stdout",
     "output_type": "stream",
     "text": [
      "\n",
      " Thêm (append) B vào A: \n",
      "     A   B\n",
      "0  A0  B0\n",
      "1  A1  B1\n",
      "0  A2  B2\n",
      "1  A3  B3\n"
     ]
    }
   ],
   "source": [
    "print(\"\\n Thêm (append) B vào A: \\n\", A.append(B))"
   ]
  },
  {
   "cell_type": "code",
   "execution_count": 14,
   "metadata": {},
   "outputs": [
    {
     "name": "stdout",
     "output_type": "stream",
     "text": [
      "Dữ liệu df1:\n",
      "   Nhân viên Phòng/Ban\n",
      "0      Bình   Kế toán\n",
      "1      Minh  Kỹ thuật\n",
      "2       Lan  Kỹ thuật\n",
      "3       Vân      HCQT\n",
      "\n",
      " Dữ liệu df2:\n",
      "   Nhân viên   Năm\n",
      "0      Bình  2020\n",
      "1      Minh  2010\n",
      "2       Lan  2004\n",
      "3       Vân  2011\n",
      "  Nhân viên Phòng/Ban   Năm\n",
      "0      Bình   Kế toán  2020\n",
      "1      Minh  Kỹ thuật  2010\n",
      "2       Lan  Kỹ thuật  2004\n",
      "3       Vân      HCQT  2011\n"
     ]
    }
   ],
   "source": [
    "#One-to-one joins\n",
    "df1=pd.DataFrame(\n",
    "    {\n",
    "        'Nhân viên':['Bình','Minh','Lan','Vân'],\n",
    "        'Phòng/Ban':['Kế toán','Kỹ thuật','Kỹ thuật','HCQT']  \n",
    "        }\n",
    ")\n",
    "df2=pd.DataFrame(\n",
    "    {\n",
    "        'Nhân viên':['Bình','Minh','Lan','Vân'],\n",
    "        'Năm':[2020,2010,2004,2011]\n",
    "        }\n",
    ")\n",
    "print(\"Dữ liệu df1:\\n\",df1)\n",
    "print(\"\\n Dữ liệu df2:\\n\",df2)\n",
    "\n",
    "nhanvien=pd.merge(df1,df2)      #nhanvien ~ df3\n",
    "print(nhanvien) "
   ]
  },
  {
   "cell_type": "code",
   "execution_count": 15,
   "metadata": {},
   "outputs": [
    {
     "name": "stdout",
     "output_type": "stream",
     "text": [
      "\n",
      " df3 :\n",
      "   Nhân viên Phòng/Ban   Năm\n",
      "0      Bình   Kế toán  2020\n",
      "1      Minh  Kỹ thuật  2010\n",
      "2       Lan  Kỹ thuật  2004\n",
      "3       Vân      HCQT  2011\n",
      "  Phòng/Ban Quản lý\n",
      "0   Kế toán      Ly\n",
      "1  Kỹ thuật   Cường\n",
      "2      HCQT    Minh\n",
      "\n",
      "Merrge Quản lý & Nhân viên :\n",
      "   Nhân viên Phòng/Ban   Năm Quản lý\n",
      "0      Bình   Kế toán  2020      Ly\n",
      "1      Minh  Kỹ thuật  2010   Cường\n",
      "2       Lan  Kỹ thuật  2004   Cường\n",
      "3       Vân      HCQT  2011    Minh\n"
     ]
    }
   ],
   "source": [
    "#One – to - Many\n",
    "quanly=pd.DataFrame(\n",
    " {\n",
    " 'Phòng/Ban':['Kế toán','Kỹ thuật','HCQT'],  'Quản lý':['Ly','Cường','Minh']\n",
    " }\n",
    ")\n",
    "print(\"\\n df3 :\\n\",nhanvien) ; print(quanly) #Quan hệ One-to_Many giữa Quản lý và Nhân viên\n",
    "print(\"\\nMerrge Quản lý & Nhân viên :\\n\",\n",
    "      pd.merge(nhanvien,quanly))"
   ]
  },
  {
   "cell_type": "code",
   "execution_count": 16,
   "metadata": {},
   "outputs": [
    {
     "name": "stdout",
     "output_type": "stream",
     "text": [
      "  Nhân viên Phòng/Ban   Năm\n",
      "0      Bình   Kế toán  2020\n",
      "1      Minh  Kỹ thuật  2010\n",
      "2       Lan  Kỹ thuật  2004\n",
      "3       Vân      HCQT  2011\n",
      "\n",
      " quanly :\n",
      "   Phòng/Ban Quản lý\n",
      "0   Kế toán      Ly\n",
      "1  Kỹ thuật   Cường\n",
      "2      HCQT     Ban\n",
      "\n",
      "Merge nhanvien & quanly : \n",
      "   Nhân viên Phòng/Ban   Năm Quản lý\n",
      "0      Bình   Kế toán  2020      Ly\n",
      "1      Minh  Kỹ thuật  2010   Cường\n",
      "2       Lan  Kỹ thuật  2004   Cường\n",
      "3       Vân      HCQT  2011     Ban\n"
     ]
    }
   ],
   "source": [
    "quanly=pd.DataFrame({'Phòng/Ban':['Kế toán','Kỹ thuật','HCQT'],  \n",
    "                     'Quản lý':['Ly','Cường','Ban']}) \n",
    "print(nhanvien); print(\"\\n quanly :\\n\",quanly)\n",
    "\n",
    "print(\"\\nMerge nhanvien & quanly : \\n\",pd.merge(nhanvien,quanly))"
   ]
  },
  {
   "cell_type": "code",
   "execution_count": 17,
   "metadata": {},
   "outputs": [
    {
     "data": {
      "text/html": [
       "<div>\n",
       "<style scoped>\n",
       "    .dataframe tbody tr th:only-of-type {\n",
       "        vertical-align: middle;\n",
       "    }\n",
       "\n",
       "    .dataframe tbody tr th {\n",
       "        vertical-align: top;\n",
       "    }\n",
       "\n",
       "    .dataframe thead th {\n",
       "        text-align: right;\n",
       "    }\n",
       "</style>\n",
       "<table border=\"1\" class=\"dataframe\">\n",
       "  <thead>\n",
       "    <tr style=\"text-align: right;\">\n",
       "      <th></th>\n",
       "      <th>Nhân viên</th>\n",
       "      <th>Phòng/Ban</th>\n",
       "      <th>Năm</th>\n",
       "    </tr>\n",
       "  </thead>\n",
       "  <tbody>\n",
       "    <tr>\n",
       "      <th>0</th>\n",
       "      <td>Bình</td>\n",
       "      <td>Kế toán</td>\n",
       "      <td>2020</td>\n",
       "    </tr>\n",
       "    <tr>\n",
       "      <th>1</th>\n",
       "      <td>Minh</td>\n",
       "      <td>Kỹ thuật</td>\n",
       "      <td>2010</td>\n",
       "    </tr>\n",
       "    <tr>\n",
       "      <th>2</th>\n",
       "      <td>Lan</td>\n",
       "      <td>Kỹ thuật</td>\n",
       "      <td>2004</td>\n",
       "    </tr>\n",
       "    <tr>\n",
       "      <th>3</th>\n",
       "      <td>Vân</td>\n",
       "      <td>HCQT</td>\n",
       "      <td>2011</td>\n",
       "    </tr>\n",
       "  </tbody>\n",
       "</table>\n",
       "</div>"
      ],
      "text/plain": [
       "  Nhân viên Phòng/Ban   Năm\n",
       "0      Bình   Kế toán  2020\n",
       "1      Minh  Kỹ thuật  2010\n",
       "2       Lan  Kỹ thuật  2004\n",
       "3       Vân      HCQT  2011"
      ]
     },
     "execution_count": 17,
     "metadata": {},
     "output_type": "execute_result"
    }
   ],
   "source": [
    "pd.merge(df1, df2, on='Nhân viên')"
   ]
  },
  {
   "cell_type": "code",
   "execution_count": 18,
   "metadata": {},
   "outputs": [
    {
     "name": "stdout",
     "output_type": "stream",
     "text": [
      "   Name   salary\n",
      "0  Bình  7000000\n",
      "1  Minh  9000000\n",
      "2   Lan  9500000\n",
      "3   Vân  8000000\n"
     ]
    }
   ],
   "source": [
    "nv_salary = pd.DataFrame(\n",
    "    {\n",
    "        'Name': ['Bình', 'Minh', 'Lan', 'Vân'],\n",
    "        'salary': [7000000,9000000,9500000,8000000]\n",
    "    }\n",
    ")\n",
    "print(nv_salary)"
   ]
  },
  {
   "cell_type": "code",
   "execution_count": 19,
   "metadata": {},
   "outputs": [
    {
     "name": "stdout",
     "output_type": "stream",
     "text": [
      "Lương nv ứng với từng lĩnh vực:\n",
      "   Nhân viên Phòng/Ban  Name   salary\n",
      "0      Bình   Kế toán  Bình  7000000\n",
      "1      Minh  Kỹ thuật  Minh  9000000\n",
      "2       Lan  Kỹ thuật   Lan  9500000\n",
      "3       Vân      HCQT   Vân  8000000\n"
     ]
    }
   ],
   "source": [
    "print(\"Lương nv ứng với từng lĩnh vực:\\n\",\n",
    "      pd.merge(df1,nv_salary,left_on='Nhân viên',  \n",
    "               right_on='Name'))"
   ]
  },
  {
   "cell_type": "code",
   "execution_count": 20,
   "metadata": {},
   "outputs": [
    {
     "data": {
      "text/html": [
       "<div>\n",
       "<style scoped>\n",
       "    .dataframe tbody tr th:only-of-type {\n",
       "        vertical-align: middle;\n",
       "    }\n",
       "\n",
       "    .dataframe tbody tr th {\n",
       "        vertical-align: top;\n",
       "    }\n",
       "\n",
       "    .dataframe thead th {\n",
       "        text-align: right;\n",
       "    }\n",
       "</style>\n",
       "<table border=\"1\" class=\"dataframe\">\n",
       "  <thead>\n",
       "    <tr style=\"text-align: right;\">\n",
       "      <th></th>\n",
       "      <th>Nhân viên</th>\n",
       "      <th>Phòng/Ban</th>\n",
       "      <th>salary</th>\n",
       "    </tr>\n",
       "  </thead>\n",
       "  <tbody>\n",
       "    <tr>\n",
       "      <th>0</th>\n",
       "      <td>Bình</td>\n",
       "      <td>Kế toán</td>\n",
       "      <td>7000000</td>\n",
       "    </tr>\n",
       "    <tr>\n",
       "      <th>1</th>\n",
       "      <td>Minh</td>\n",
       "      <td>Kỹ thuật</td>\n",
       "      <td>9000000</td>\n",
       "    </tr>\n",
       "    <tr>\n",
       "      <th>2</th>\n",
       "      <td>Lan</td>\n",
       "      <td>Kỹ thuật</td>\n",
       "      <td>9500000</td>\n",
       "    </tr>\n",
       "    <tr>\n",
       "      <th>3</th>\n",
       "      <td>Vân</td>\n",
       "      <td>HCQT</td>\n",
       "      <td>8000000</td>\n",
       "    </tr>\n",
       "  </tbody>\n",
       "</table>\n",
       "</div>"
      ],
      "text/plain": [
       "  Nhân viên Phòng/Ban   salary\n",
       "0      Bình   Kế toán  7000000\n",
       "1      Minh  Kỹ thuật  9000000\n",
       "2       Lan  Kỹ thuật  9500000\n",
       "3       Vân      HCQT  8000000"
      ]
     },
     "execution_count": 20,
     "metadata": {},
     "output_type": "execute_result"
    }
   ],
   "source": [
    "pd.merge(df1,nv_salary,left_on='Nhân viên',  \n",
    "               right_on='Name').drop('Name', axis= 1)"
   ]
  },
  {
   "cell_type": "code",
   "execution_count": 21,
   "metadata": {},
   "outputs": [
    {
     "data": {
      "text/html": [
       "<div>\n",
       "<style scoped>\n",
       "    .dataframe tbody tr th:only-of-type {\n",
       "        vertical-align: middle;\n",
       "    }\n",
       "\n",
       "    .dataframe tbody tr th {\n",
       "        vertical-align: top;\n",
       "    }\n",
       "\n",
       "    .dataframe thead th {\n",
       "        text-align: right;\n",
       "    }\n",
       "</style>\n",
       "<table border=\"1\" class=\"dataframe\">\n",
       "  <thead>\n",
       "    <tr style=\"text-align: right;\">\n",
       "      <th></th>\n",
       "      <th>Phòng/Ban</th>\n",
       "      <th>Năm</th>\n",
       "    </tr>\n",
       "    <tr>\n",
       "      <th>Nhân viên</th>\n",
       "      <th></th>\n",
       "      <th></th>\n",
       "    </tr>\n",
       "  </thead>\n",
       "  <tbody>\n",
       "    <tr>\n",
       "      <th>Bình</th>\n",
       "      <td>Kế toán</td>\n",
       "      <td>2020</td>\n",
       "    </tr>\n",
       "    <tr>\n",
       "      <th>Minh</th>\n",
       "      <td>Kỹ thuật</td>\n",
       "      <td>2010</td>\n",
       "    </tr>\n",
       "    <tr>\n",
       "      <th>Lan</th>\n",
       "      <td>Kỹ thuật</td>\n",
       "      <td>2004</td>\n",
       "    </tr>\n",
       "    <tr>\n",
       "      <th>Vân</th>\n",
       "      <td>HCQT</td>\n",
       "      <td>2011</td>\n",
       "    </tr>\n",
       "  </tbody>\n",
       "</table>\n",
       "</div>"
      ],
      "text/plain": [
       "          Phòng/Ban   Năm\n",
       "Nhân viên                \n",
       "Bình        Kế toán  2020\n",
       "Minh       Kỹ thuật  2010\n",
       "Lan        Kỹ thuật  2004\n",
       "Vân            HCQT  2011"
      ]
     },
     "execution_count": 21,
     "metadata": {},
     "output_type": "execute_result"
    }
   ],
   "source": [
    "df1_idx=df1.set_index('Nhân viên')\n",
    "df2_idx=df2.set_index('Nhân viên')\n",
    "df3_idx=pd.merge(df1_idx,df2_idx,left_index=True,  right_index=True) \n",
    "df3_idx "
   ]
  },
  {
   "cell_type": "code",
   "execution_count": 26,
   "metadata": {},
   "outputs": [
    {
     "data": {
      "text/html": [
       "<div>\n",
       "<style scoped>\n",
       "    .dataframe tbody tr th:only-of-type {\n",
       "        vertical-align: middle;\n",
       "    }\n",
       "\n",
       "    .dataframe tbody tr th {\n",
       "        vertical-align: top;\n",
       "    }\n",
       "\n",
       "    .dataframe thead th {\n",
       "        text-align: right;\n",
       "    }\n",
       "</style>\n",
       "<table border=\"1\" class=\"dataframe\">\n",
       "  <thead>\n",
       "    <tr style=\"text-align: right;\">\n",
       "      <th></th>\n",
       "      <th>Phòng/Ban</th>\n",
       "      <th>Năm</th>\n",
       "    </tr>\n",
       "    <tr>\n",
       "      <th>Nhân viên</th>\n",
       "      <th></th>\n",
       "      <th></th>\n",
       "    </tr>\n",
       "  </thead>\n",
       "  <tbody>\n",
       "    <tr>\n",
       "      <th>Bình</th>\n",
       "      <td>Kế toán</td>\n",
       "      <td>2020</td>\n",
       "    </tr>\n",
       "    <tr>\n",
       "      <th>Minh</th>\n",
       "      <td>Kỹ thuật</td>\n",
       "      <td>2010</td>\n",
       "    </tr>\n",
       "    <tr>\n",
       "      <th>Lan</th>\n",
       "      <td>Kỹ thuật</td>\n",
       "      <td>2004</td>\n",
       "    </tr>\n",
       "    <tr>\n",
       "      <th>Vân</th>\n",
       "      <td>HCQT</td>\n",
       "      <td>2011</td>\n",
       "    </tr>\n",
       "  </tbody>\n",
       "</table>\n",
       "</div>"
      ],
      "text/plain": [
       "          Phòng/Ban   Năm\n",
       "Nhân viên                \n",
       "Bình        Kế toán  2020\n",
       "Minh       Kỹ thuật  2010\n",
       "Lan        Kỹ thuật  2004\n",
       "Vân            HCQT  2011"
      ]
     },
     "execution_count": 26,
     "metadata": {},
     "output_type": "execute_result"
    }
   ],
   "source": [
    "df1_idx.join(df2_idx)"
   ]
  },
  {
   "cell_type": "code",
   "execution_count": 31,
   "metadata": {},
   "outputs": [
    {
     "data": {
      "text/html": [
       "<div>\n",
       "<style scoped>\n",
       "    .dataframe tbody tr th:only-of-type {\n",
       "        vertical-align: middle;\n",
       "    }\n",
       "\n",
       "    .dataframe tbody tr th {\n",
       "        vertical-align: top;\n",
       "    }\n",
       "\n",
       "    .dataframe thead th {\n",
       "        text-align: right;\n",
       "    }\n",
       "</style>\n",
       "<table border=\"1\" class=\"dataframe\">\n",
       "  <thead>\n",
       "    <tr style=\"text-align: right;\">\n",
       "      <th></th>\n",
       "      <th>Năm</th>\n",
       "      <th>Name</th>\n",
       "      <th>salary</th>\n",
       "    </tr>\n",
       "  </thead>\n",
       "  <tbody>\n",
       "    <tr>\n",
       "      <th>0</th>\n",
       "      <td>2020</td>\n",
       "      <td>Bình</td>\n",
       "      <td>7000000</td>\n",
       "    </tr>\n",
       "    <tr>\n",
       "      <th>1</th>\n",
       "      <td>2010</td>\n",
       "      <td>Minh</td>\n",
       "      <td>9000000</td>\n",
       "    </tr>\n",
       "    <tr>\n",
       "      <th>2</th>\n",
       "      <td>2004</td>\n",
       "      <td>Lan</td>\n",
       "      <td>9500000</td>\n",
       "    </tr>\n",
       "    <tr>\n",
       "      <th>3</th>\n",
       "      <td>2011</td>\n",
       "      <td>Vân</td>\n",
       "      <td>8000000</td>\n",
       "    </tr>\n",
       "  </tbody>\n",
       "</table>\n",
       "</div>"
      ],
      "text/plain": [
       "    Năm  Name   salary\n",
       "0  2020  Bình  7000000\n",
       "1  2010  Minh  9000000\n",
       "2  2004   Lan  9500000\n",
       "3  2011   Vân  8000000"
      ]
     },
     "execution_count": 31,
     "metadata": {},
     "output_type": "execute_result"
    }
   ],
   "source": [
    "pd.merge(df2_idx, nv_salary, left_index=True,right_on='Name')"
   ]
  },
  {
   "cell_type": "code",
   "execution_count": 33,
   "metadata": {},
   "outputs": [
    {
     "name": "stdout",
     "output_type": "stream",
     "text": [
      "\n",
      "Nơi sinh và tuổi của nv:\n",
      "   Nhân viên  Nơi sinh  Age\n",
      "0      Bình    Hà Nội   28\n",
      "1       Lan  Nam định   55\n"
     ]
    }
   ],
   "source": [
    "nv_location=pd.DataFrame(\n",
    "    {\n",
    "        'Nhân viên':['Bình', 'Minh','Lan'],\n",
    "        'Nơi sinh':['Hà Nội','Hồ Chí Minh','Nam định']  \n",
    "        }\n",
    ")\n",
    "nv_age=pd.DataFrame(\n",
    "    {\n",
    "        'Nhân viên':['Bình','Vân','Lan'],\n",
    "        'Age':[28,36,55]\n",
    "        }\n",
    ")\n",
    "print(\"\\nNơi sinh và tuổi của nv:\\n\",\n",
    "      pd.merge(nv_location, nv_age))"
   ]
  },
  {
   "cell_type": "code",
   "execution_count": 34,
   "metadata": {},
   "outputs": [
    {
     "name": "stdout",
     "output_type": "stream",
     "text": [
      "\n",
      "Nơi sinh và tuổi của nv:\n",
      "   Nhân viên  Nơi sinh  Age\n",
      "0      Bình    Hà Nội   28\n",
      "1       Lan  Nam định   55\n"
     ]
    }
   ],
   "source": [
    "print(\"\\nNơi sinh và tuổi của nv:\\n\",\n",
    "      pd.merge(nv_location,nv_age, how='inner'))"
   ]
  },
  {
   "cell_type": "code",
   "execution_count": 35,
   "metadata": {},
   "outputs": [
    {
     "name": "stdout",
     "output_type": "stream",
     "text": [
      "\n",
      "Nơi sinh và tuổi của nv:\n",
      "   Nhân viên     Nơi sinh   Age\n",
      "0      Bình       Hà Nội  28.0\n",
      "1      Minh  Hồ Chí Minh   NaN\n",
      "2       Lan     Nam định  55.0\n",
      "3       Vân          NaN  36.0\n"
     ]
    }
   ],
   "source": [
    "print(\"\\nNơi sinh và tuổi của nv:\\n\",\n",
    "      pd.merge(nv_location,nv_age, how='outer'))"
   ]
  },
  {
   "cell_type": "code",
   "execution_count": 36,
   "metadata": {},
   "outputs": [
    {
     "name": "stdout",
     "output_type": "stream",
     "text": [
      "\n",
      "Nơi sinh và tuổi của nv:\n",
      "   Nhân viên     Nơi sinh   Age\n",
      "0      Bình       Hà Nội  28.0\n",
      "1      Minh  Hồ Chí Minh   NaN\n",
      "2       Lan     Nam định  55.0\n",
      "\n",
      "Nơi sinh và tuổi của nv:\n",
      "   Nhân viên  Nơi sinh  Age\n",
      "0      Bình    Hà Nội   28\n",
      "1       Vân       NaN   36\n",
      "2       Lan  Nam định   55\n"
     ]
    }
   ],
   "source": [
    "print(\"\\nNơi sinh và tuổi của nv:\\n\",\n",
    "      pd.merge(nv_location,nv_age, how='left')) \n",
    "print(\"\\nNơi sinh và tuổi của nv:\\n\",\n",
    "      pd.merge(nv_location,nv_age, how='right'))"
   ]
  },
  {
   "cell_type": "code",
   "execution_count": 37,
   "metadata": {},
   "outputs": [
    {
     "name": "stdout",
     "output_type": "stream",
     "text": [
      "Xếp hạng trên số ngày nghỉ:\n",
      "   Nhân viên  rank\n",
      "0      Bình     1\n",
      "1       Lan     2\n",
      "2      Minh     3\n",
      "3       Vân     4\n",
      "Xếp hạng trên hiệu suất công việc:\n",
      "   Nhân viên  rank\n",
      "0      Bình     4\n",
      "1       Lan     3\n",
      "2      Minh     1\n",
      "3       Vân     2\n",
      "\n",
      "Bảng xếp hạng :\n",
      "   Nhân viên  rank_x  rank_y\n",
      "0      Bình       1       4\n",
      "1       Lan       2       3\n",
      "2      Minh       3       1\n",
      "3       Vân       4       2\n"
     ]
    }
   ],
   "source": [
    "vang_rank=pd.DataFrame(\n",
    "    {\n",
    "        'Nhân viên':['Bình','Lan','Minh','Vân'],  'rank':[1,2,3,4]\n",
    "        }\n",
    ")\n",
    "hs_rank=pd.DataFrame(\n",
    "    {\n",
    "        'Nhân viên':['Bình','Lan','Minh','Vân'],  'rank':[4,3,1,2]\n",
    "        }\n",
    ")\n",
    "print(\"Xếp hạng trên số ngày nghỉ:\\n\",vang_rank) \n",
    "print(\"Xếp hạng trên hiệu suất công việc:\\n\",hs_rank) \n",
    "\n",
    "print(\"\\nBảng xếp hạng :\\n\",pd.merge(vang_rank,hs_rank,  \n",
    "                                     on='Nhân viên'))"
   ]
  },
  {
   "cell_type": "code",
   "execution_count": 38,
   "metadata": {},
   "outputs": [
    {
     "name": "stdout",
     "output_type": "stream",
     "text": [
      "\n",
      "Bảng xếp hạng :\n",
      "   Nhân viên  rank(Ngày vắng)  rank(Hiệu suất)\n",
      "0      Bình                1                4\n",
      "1       Lan                2                3\n",
      "2      Minh                3                1\n",
      "3       Vân                4                2\n"
     ]
    }
   ],
   "source": [
    "print(\"\\nBảng xếp hạng :\\n\", pd.merge(vang_rank,hs_rank,  \n",
    "                                     on='Nhân viên',\n",
    "                                     suffixes=['(Ngày vắng)','(Hiệu suất)']))"
   ]
  }
 ],
 "metadata": {
  "kernelspec": {
   "display_name": "Python 3",
   "language": "python",
   "name": "python3"
  },
  "language_info": {
   "codemirror_mode": {
    "name": "ipython",
    "version": 3
   },
   "file_extension": ".py",
   "mimetype": "text/x-python",
   "name": "python",
   "nbconvert_exporter": "python",
   "pygments_lexer": "ipython3",
   "version": "3.11.5"
  }
 },
 "nbformat": 4,
 "nbformat_minor": 2
}
