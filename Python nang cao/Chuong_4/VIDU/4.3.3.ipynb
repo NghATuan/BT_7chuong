{
 "cells": [
  {
   "cell_type": "code",
   "execution_count": 2,
   "metadata": {},
   "outputs": [
    {
     "data": {
      "text/plain": [
       "Hà Nội            3358.9\n",
       "Quảng Ninh        6177.7\n",
       "Nam Định          1668.0\n",
       "Đà Nẵng           1284.9\n",
       "TP.Hồ Chí Minh    2061.0\n",
       "dtype: float64"
      ]
     },
     "execution_count": 2,
     "metadata": {},
     "output_type": "execute_result"
    }
   ],
   "source": [
    "import pandas as pd\n",
    "area_dict = {'Hà Nội': 3358.9,\n",
    "             'Quảng Ninh': 6177.7,\n",
    "             'Nam Định': 1668.0,\n",
    "             'Đà Nẵng': 1284.9,\n",
    "             'TP.Hồ Chí Minh': 2061.0}\n",
    "area = pd.Series(area_dict)\n",
    "area"
   ]
  },
  {
   "cell_type": "code",
   "execution_count": 3,
   "metadata": {},
   "outputs": [
    {
     "data": {
      "text/plain": [
       "Hà Nội            8330830\n",
       "Quảng Ninh        1358085\n",
       "Nam Định          1836270\n",
       "Đà Nẵng           1195490\n",
       "TP.Hồ Chí Minh    9411805\n",
       "dtype: int64"
      ]
     },
     "execution_count": 3,
     "metadata": {},
     "output_type": "execute_result"
    }
   ],
   "source": [
    "population_dict = {'Hà Nội': 8330830,\n",
    "                   'Quảng Ninh': 1358085,\n",
    "                   'Nam Định': 1836270,\n",
    "                   'Đà Nẵng': 1195490,\n",
    "                   'TP.Hồ Chí Minh': 9411805}\n",
    "population = pd.Series(population_dict)\n",
    "population"
   ]
  },
  {
   "cell_type": "code",
   "execution_count": 5,
   "metadata": {},
   "outputs": [
    {
     "data": {
      "text/html": [
       "<div>\n",
       "<style scoped>\n",
       "    .dataframe tbody tr th:only-of-type {\n",
       "        vertical-align: middle;\n",
       "    }\n",
       "\n",
       "    .dataframe tbody tr th {\n",
       "        vertical-align: top;\n",
       "    }\n",
       "\n",
       "    .dataframe thead th {\n",
       "        text-align: right;\n",
       "    }\n",
       "</style>\n",
       "<table border=\"1\" class=\"dataframe\">\n",
       "  <thead>\n",
       "    <tr style=\"text-align: right;\">\n",
       "      <th></th>\n",
       "      <th>Dân số</th>\n",
       "      <th>Diện Tích</th>\n",
       "    </tr>\n",
       "  </thead>\n",
       "  <tbody>\n",
       "    <tr>\n",
       "      <th>Hà Nội</th>\n",
       "      <td>8330830</td>\n",
       "      <td>3358.9</td>\n",
       "    </tr>\n",
       "    <tr>\n",
       "      <th>Quảng Ninh</th>\n",
       "      <td>1358085</td>\n",
       "      <td>6177.7</td>\n",
       "    </tr>\n",
       "    <tr>\n",
       "      <th>Nam Định</th>\n",
       "      <td>1836270</td>\n",
       "      <td>1668.0</td>\n",
       "    </tr>\n",
       "    <tr>\n",
       "      <th>Đà Nẵng</th>\n",
       "      <td>1195490</td>\n",
       "      <td>1284.9</td>\n",
       "    </tr>\n",
       "    <tr>\n",
       "      <th>TP.Hồ Chí Minh</th>\n",
       "      <td>9411805</td>\n",
       "      <td>2061.0</td>\n",
       "    </tr>\n",
       "  </tbody>\n",
       "</table>\n",
       "</div>"
      ],
      "text/plain": [
       "                 Dân số  Diện Tích\n",
       "Hà Nội          8330830     3358.9\n",
       "Quảng Ninh      1358085     6177.7\n",
       "Nam Định        1836270     1668.0\n",
       "Đà Nẵng         1195490     1284.9\n",
       "TP.Hồ Chí Minh  9411805     2061.0"
      ]
     },
     "execution_count": 5,
     "metadata": {},
     "output_type": "execute_result"
    }
   ],
   "source": [
    "VietNam = pd.DataFrame({'Dân số':population, 'Diện Tích':area})\n",
    "\n",
    "VietNam"
   ]
  },
  {
   "cell_type": "code",
   "execution_count": 6,
   "metadata": {},
   "outputs": [
    {
     "data": {
      "text/plain": [
       "Index(['Hà Nội', 'Quảng Ninh', 'Nam Định', 'Đà Nẵng', 'TP.Hồ Chí Minh'], dtype='object')"
      ]
     },
     "execution_count": 6,
     "metadata": {},
     "output_type": "execute_result"
    }
   ],
   "source": [
    "VietNam.index"
   ]
  },
  {
   "cell_type": "code",
   "execution_count": 7,
   "metadata": {},
   "outputs": [
    {
     "data": {
      "text/plain": [
       "Index(['Dân số', 'Diện Tích'], dtype='object')"
      ]
     },
     "execution_count": 7,
     "metadata": {},
     "output_type": "execute_result"
    }
   ],
   "source": [
    "VietNam.columns"
   ]
  },
  {
   "cell_type": "code",
   "execution_count": 8,
   "metadata": {},
   "outputs": [
    {
     "data": {
      "text/plain": [
       "Hà Nội            8330830\n",
       "Quảng Ninh        1358085\n",
       "Nam Định          1836270\n",
       "Đà Nẵng           1195490\n",
       "TP.Hồ Chí Minh    9411805\n",
       "Name: Dân số, dtype: int64"
      ]
     },
     "execution_count": 8,
     "metadata": {},
     "output_type": "execute_result"
    }
   ],
   "source": [
    "VietNam['Dân số']"
   ]
  },
  {
   "cell_type": "code",
   "execution_count": 9,
   "metadata": {},
   "outputs": [
    {
     "name": "stdout",
     "output_type": "stream",
     "text": [
      "Dân số thủ đô Hà Nội: 8330830\n",
      "Dân số thủ đô Hà Nội: 8330830\n"
     ]
    }
   ],
   "source": [
    "print('Dân số thủ đô Hà Nội:', VietNam['Dân số']['Hà Nội'])\n",
    "print('Dân số thủ đô Hà Nội:', VietNam['Dân số'][0])"
   ]
  },
  {
   "cell_type": "code",
   "execution_count": 10,
   "metadata": {},
   "outputs": [
    {
     "data": {
      "text/html": [
       "<div>\n",
       "<style scoped>\n",
       "    .dataframe tbody tr th:only-of-type {\n",
       "        vertical-align: middle;\n",
       "    }\n",
       "\n",
       "    .dataframe tbody tr th {\n",
       "        vertical-align: top;\n",
       "    }\n",
       "\n",
       "    .dataframe thead th {\n",
       "        text-align: right;\n",
       "    }\n",
       "</style>\n",
       "<table border=\"1\" class=\"dataframe\">\n",
       "  <thead>\n",
       "    <tr style=\"text-align: right;\">\n",
       "      <th></th>\n",
       "      <th>Dân số</th>\n",
       "    </tr>\n",
       "  </thead>\n",
       "  <tbody>\n",
       "    <tr>\n",
       "      <th>Hà Nội</th>\n",
       "      <td>8330830</td>\n",
       "    </tr>\n",
       "    <tr>\n",
       "      <th>Quảng Ninh</th>\n",
       "      <td>1358085</td>\n",
       "    </tr>\n",
       "    <tr>\n",
       "      <th>Nam Định</th>\n",
       "      <td>1836270</td>\n",
       "    </tr>\n",
       "    <tr>\n",
       "      <th>Đà Nẵng</th>\n",
       "      <td>1195490</td>\n",
       "    </tr>\n",
       "    <tr>\n",
       "      <th>TP.Hồ Chí Minh</th>\n",
       "      <td>9411805</td>\n",
       "    </tr>\n",
       "  </tbody>\n",
       "</table>\n",
       "</div>"
      ],
      "text/plain": [
       "                 Dân số\n",
       "Hà Nội          8330830\n",
       "Quảng Ninh      1358085\n",
       "Nam Định        1836270\n",
       "Đà Nẵng         1195490\n",
       "TP.Hồ Chí Minh  9411805"
      ]
     },
     "execution_count": 10,
     "metadata": {},
     "output_type": "execute_result"
    }
   ],
   "source": [
    "pd.DataFrame(population, columns=['Dân số'])"
   ]
  },
  {
   "cell_type": "code",
   "execution_count": 11,
   "metadata": {},
   "outputs": [
    {
     "data": {
      "text/plain": [
       "[{'a': 0, 'b': 0}, {'a': 1, 'b': 2}, {'a': 2, 'b': 4}]"
      ]
     },
     "execution_count": 11,
     "metadata": {},
     "output_type": "execute_result"
    }
   ],
   "source": [
    "data = [{'a':i, 'b':2*i}\n",
    "        for i in range(3)]\n",
    "data"
   ]
  },
  {
   "cell_type": "code",
   "execution_count": 12,
   "metadata": {},
   "outputs": [
    {
     "data": {
      "text/html": [
       "<div>\n",
       "<style scoped>\n",
       "    .dataframe tbody tr th:only-of-type {\n",
       "        vertical-align: middle;\n",
       "    }\n",
       "\n",
       "    .dataframe tbody tr th {\n",
       "        vertical-align: top;\n",
       "    }\n",
       "\n",
       "    .dataframe thead th {\n",
       "        text-align: right;\n",
       "    }\n",
       "</style>\n",
       "<table border=\"1\" class=\"dataframe\">\n",
       "  <thead>\n",
       "    <tr style=\"text-align: right;\">\n",
       "      <th></th>\n",
       "      <th>a</th>\n",
       "      <th>b</th>\n",
       "    </tr>\n",
       "  </thead>\n",
       "  <tbody>\n",
       "    <tr>\n",
       "      <th>0</th>\n",
       "      <td>0</td>\n",
       "      <td>0</td>\n",
       "    </tr>\n",
       "    <tr>\n",
       "      <th>1</th>\n",
       "      <td>1</td>\n",
       "      <td>2</td>\n",
       "    </tr>\n",
       "    <tr>\n",
       "      <th>2</th>\n",
       "      <td>2</td>\n",
       "      <td>4</td>\n",
       "    </tr>\n",
       "  </tbody>\n",
       "</table>\n",
       "</div>"
      ],
      "text/plain": [
       "   a  b\n",
       "0  0  0\n",
       "1  1  2\n",
       "2  2  4"
      ]
     },
     "execution_count": 12,
     "metadata": {},
     "output_type": "execute_result"
    }
   ],
   "source": [
    "pd.DataFrame(data)"
   ]
  },
  {
   "cell_type": "code",
   "execution_count": 13,
   "metadata": {},
   "outputs": [
    {
     "data": {
      "text/html": [
       "<div>\n",
       "<style scoped>\n",
       "    .dataframe tbody tr th:only-of-type {\n",
       "        vertical-align: middle;\n",
       "    }\n",
       "\n",
       "    .dataframe tbody tr th {\n",
       "        vertical-align: top;\n",
       "    }\n",
       "\n",
       "    .dataframe thead th {\n",
       "        text-align: right;\n",
       "    }\n",
       "</style>\n",
       "<table border=\"1\" class=\"dataframe\">\n",
       "  <thead>\n",
       "    <tr style=\"text-align: right;\">\n",
       "      <th></th>\n",
       "      <th>a</th>\n",
       "      <th>b</th>\n",
       "      <th>c</th>\n",
       "    </tr>\n",
       "  </thead>\n",
       "  <tbody>\n",
       "    <tr>\n",
       "      <th>0</th>\n",
       "      <td>1.0</td>\n",
       "      <td>2</td>\n",
       "      <td>NaN</td>\n",
       "    </tr>\n",
       "    <tr>\n",
       "      <th>1</th>\n",
       "      <td>NaN</td>\n",
       "      <td>3</td>\n",
       "      <td>KHDL</td>\n",
       "    </tr>\n",
       "  </tbody>\n",
       "</table>\n",
       "</div>"
      ],
      "text/plain": [
       "     a  b     c\n",
       "0  1.0  2   NaN\n",
       "1  NaN  3  KHDL"
      ]
     },
     "execution_count": 13,
     "metadata": {},
     "output_type": "execute_result"
    }
   ],
   "source": [
    "pd.DataFrame([{'a':1, 'b':2},{'b':3, 'c':'KHDL'}])"
   ]
  }
 ],
 "metadata": {
  "kernelspec": {
   "display_name": "Python 3",
   "language": "python",
   "name": "python3"
  },
  "language_info": {
   "codemirror_mode": {
    "name": "ipython",
    "version": 3
   },
   "file_extension": ".py",
   "mimetype": "text/x-python",
   "name": "python",
   "nbconvert_exporter": "python",
   "pygments_lexer": "ipython3",
   "version": "3.6.8"
  }
 },
 "nbformat": 4,
 "nbformat_minor": 2
}
