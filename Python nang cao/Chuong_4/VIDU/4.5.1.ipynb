{
 "cells": [
  {
   "cell_type": "code",
   "execution_count": 2,
   "metadata": {},
   "outputs": [
    {
     "name": "stdout",
     "output_type": "stream",
     "text": [
      "Series:\n",
      " 0    8\n",
      "1    8\n",
      "2    3\n",
      "3    7\n",
      "dtype: int32\n",
      "DataFrame:\n",
      "    A  B  C  D\n",
      "0  7  0  4  2\n",
      "1  5  2  2  2\n",
      "2  1  0  8  4\n"
     ]
    }
   ],
   "source": [
    "import pandas as pd\n",
    "import numpy as np\n",
    "\n",
    "rng=np.random.RandomState(100) #Tạo một mảng NumPy ngẫu nhiên cố định\n",
    "arr1=rng.randint(0,10,4) #mảng NumPy 1 chiều 4 số ngẫu nhiên từ 0->10 \n",
    "arr2=rng.randint(0,10,(3,4)) #mảng 2 chiều 3x4 các số ngẫu nhiên từ 0->10, k lấy 10\n",
    "sr=pd.Series(arr1) #Tạo một Series Pandax từ mảng Numpy arr1 \n",
    "\n",
    "df=pd.DataFrame(arr2,columns=['A','B','C','D']) #Tạo DataFrame từ arr2\n",
    "print(\"Series:\\n\",sr)\n",
    "print(\"DataFrame:\\n\",df) "
   ]
  },
  {
   "cell_type": "code",
   "execution_count": 3,
   "metadata": {},
   "outputs": [
    {
     "name": "stdout",
     "output_type": "stream",
     "text": [
      "Top 5 tỉnh/tp đông dân nhất Việt Nam 2023:\n",
      " TP.Hồ Chí Minh    9411805\n",
      "Hà Nội            8330830\n",
      "Thanh Hóa         3720000\n",
      "Nghệ An           3410000\n",
      "Đồng Nai          3097107\n",
      "dtype: int64\n",
      "Top 5 tỉnh/tp diện tích lớn nhất Việt Nam 2023:\n",
      " Nghệ An      16493.0\n",
      "Gia Lai      15536.9\n",
      "Sơn La       14174.4\n",
      "Đăk Lăk      13030.5\n",
      "Thanh Hóa    11132.2\n",
      "dtype: float64\n"
     ]
    }
   ],
   "source": [
    "#Ví dụ 4.5.1.2\n",
    "#Số liệu top 5 dân số tỉnh thành Việt Nam\n",
    "population = pd.Series({'TP.Hồ Chí Minh':9411805,  \n",
    "                        'Hà Nội':8330830,\n",
    "                        'Thanh Hóa':3720000,\n",
    "                        'Nghệ An':3410000,\n",
    "                        'Đồng Nai':3097107})\n",
    "#Số liệu về top 5 diện tích tỉnh/thành Việt Nam\n",
    "area=pd.Series({'Nghệ An':16493,\n",
    "                'Gia Lai':15536.9,\n",
    "                'Sơn La':14174.4,\n",
    "                'Đăk Lăk':13030.5,\n",
    "                'Thanh Hóa':11132.2})\n",
    "print(\"Top 5 tỉnh/tp đông dân nhất Việt Nam 2023:\\n\",population) \n",
    "print(\"Top 5 tỉnh/tp diện tích lớn nhất Việt Nam 2023:\\n\",area) "
   ]
  },
  {
   "cell_type": "code",
   "execution_count": 4,
   "metadata": {},
   "outputs": [
    {
     "name": "stdout",
     "output_type": "stream",
     "text": [
      "Mật độ dân số tỉnh/thành :\n",
      " Gia Lai                NaN\n",
      "Hà Nội                 NaN\n",
      "Nghệ An           0.004837\n",
      "Sơn La                 NaN\n",
      "TP.Hồ Chí Minh         NaN\n",
      "Thanh Hóa         0.002993\n",
      "Đăk Lăk                NaN\n",
      "Đồng Nai               NaN\n",
      "dtype: float64\n"
     ]
    }
   ],
   "source": [
    "#Tính mật độ dân số từ 2 Series are và population\n",
    "density = area/population\n",
    "print(\"Mật độ dân số tỉnh/thành :\\n\", density) "
   ]
  },
  {
   "cell_type": "code",
   "execution_count": 5,
   "metadata": {},
   "outputs": [
    {
     "data": {
      "text/plain": [
       "0    NaN\n",
       "1    5.0\n",
       "2    9.0\n",
       "3    NaN\n",
       "dtype: float64"
      ]
     },
     "execution_count": 5,
     "metadata": {},
     "output_type": "execute_result"
    }
   ],
   "source": [
    "#Tạo 2 Series A, B và tính tổng các giá trị\n",
    "A=pd.Series([1,3,5],index=[0,1,2])\n",
    "B=pd.Series([2,4,6],index=[1,2,3])\n",
    "A+B "
   ]
  },
  {
   "cell_type": "code",
   "execution_count": 6,
   "metadata": {},
   "outputs": [
    {
     "data": {
      "text/plain": [
       "0    1.0\n",
       "1    5.0\n",
       "2    9.0\n",
       "3    6.0\n",
       "dtype: float64"
      ]
     },
     "execution_count": 6,
     "metadata": {},
     "output_type": "execute_result"
    }
   ],
   "source": [
    "#Sử dụng ufuncs, truyền tham số fill_value vào.\n",
    "A.add(B,fill_value=0)"
   ]
  },
  {
   "cell_type": "code",
   "execution_count": 8,
   "metadata": {},
   "outputs": [
    {
     "name": "stdout",
     "output_type": "stream",
     "text": [
      "Adf:\n",
      "    A  B\n",
      "0  6  0\n",
      "1  6  3\n",
      "Bdf:\n",
      "    B  A  C\n",
      "0  7  0  7\n",
      "1  4  3  4\n",
      "2  8  9  1\n",
      "\n",
      "Adf+Bdf: \n",
      "      A    B   C\n",
      "0  6.0  7.0 NaN\n",
      "1  9.0  7.0 NaN\n",
      "2  NaN  NaN NaN\n"
     ]
    }
   ],
   "source": [
    "#Tạo 2 DataFrame Adf, Bdf và tính tổng các giá trị\n",
    "import pandas as pd\n",
    "import numpy as np\n",
    "Adf=pd.DataFrame(np.random.randint(0,10,(2,2)), columns=['A','B']) \n",
    "Bdf=pd.DataFrame(np.random.randint(0,10,(3,3)),columns=['B','A','C'])\n",
    "\n",
    "print(\"Adf:\\n\",Adf)\n",
    "print(\"Bdf:\\n\",Bdf)\n",
    "\n",
    "print(\"\\nAdf+Bdf: \\n\", Adf+Bdf) "
   ]
  },
  {
   "cell_type": "code",
   "execution_count": 9,
   "metadata": {},
   "outputs": [
    {
     "name": "stdout",
     "output_type": "stream",
     "text": [
      "Adf+Bdf(filled A):\n",
      "      A    B    C\n",
      "0  6.0  7.0  7.0\n",
      "1  9.0  7.0  4.0\n",
      "2  9.0  8.0  1.0\n"
     ]
    }
   ],
   "source": [
    "print(\"Adf+Bdf(filled A):\\n\", Adf.add(Bdf,fill_value=0))"
   ]
  }
 ],
 "metadata": {
  "kernelspec": {
   "display_name": "Python 3",
   "language": "python",
   "name": "python3"
  },
  "language_info": {
   "codemirror_mode": {
    "name": "ipython",
    "version": 3
   },
   "file_extension": ".py",
   "mimetype": "text/x-python",
   "name": "python",
   "nbconvert_exporter": "python",
   "pygments_lexer": "ipython3",
   "version": "3.6.8"
  }
 },
 "nbformat": 4,
 "nbformat_minor": 2
}
