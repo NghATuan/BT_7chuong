{
 "cells": [
  {
   "cell_type": "code",
   "execution_count": 20,
   "metadata": {},
   "outputs": [
    {
     "name": "stdout",
     "output_type": "stream",
     "text": [
      "                 Dân số  Diện tích\n",
      "Hà Nội          8330830     3358.9\n",
      "Quảng Ninh      1358490     6177.7\n",
      "Nam Định        1771000     1668.0\n",
      "Đà Nẵng         1191381     1284.9\n",
      "TP.Hồ Chí Minh  9411805     2061.8\n"
     ]
    }
   ],
   "source": [
    "import pandas as pd\n",
    "population = pd.Series({'Hà Nội': 8330830,\n",
    "                        'Quảng Ninh' :1358490, \n",
    "                        'Nam Định': 1771000,\n",
    "                        'Đà Nẵng': 1191381,\n",
    "                        'TP.Hồ Chí Minh': 9411805})\n",
    "\n",
    "area=pd.Series({'Hà Nội': 3358.9, \n",
    "                'Quảng Ninh': 6177.7,\n",
    "                'Nam Định': 1668.0,\n",
    "                'Đà Nẵng': 1284.9,\n",
    "                'TP.Hồ Chí Minh': 2061.8})\n",
    "\n",
    "data = pd.DataFrame({'Dân số':population, 'Diện tích' :area})\n",
    "print(data)"
   ]
  },
  {
   "cell_type": "code",
   "execution_count": 21,
   "metadata": {},
   "outputs": [
    {
     "data": {
      "text/plain": [
       "Hà Nội            8330830\n",
       "Quảng Ninh        1358490\n",
       "Nam Định          1771000\n",
       "Đà Nẵng           1191381\n",
       "TP.Hồ Chí Minh    9411805\n",
       "Name: Dân số, dtype: int64"
      ]
     },
     "execution_count": 21,
     "metadata": {},
     "output_type": "execute_result"
    }
   ],
   "source": [
    "data['Dân số'] "
   ]
  },
  {
   "cell_type": "code",
   "execution_count": 22,
   "metadata": {},
   "outputs": [
    {
     "name": "stdout",
     "output_type": "stream",
     "text": [
      "                 Dân số  Diện tích  population\n",
      "Hà Nội          8330830     3358.9     8330830\n",
      "Quảng Ninh      1358490     6177.7     1358490\n",
      "Nam Định        1771000     1668.0     1771000\n",
      "Đà Nẵng         1191381     1284.9     1191381\n",
      "TP.Hồ Chí Minh  9411805     2061.8     9411805\n"
     ]
    }
   ],
   "source": [
    "data['population'] = data['Dân số']\n",
    "print(data)"
   ]
  },
  {
   "cell_type": "code",
   "execution_count": 23,
   "metadata": {},
   "outputs": [
    {
     "data": {
      "text/plain": [
       "Hà Nội            8330830\n",
       "Quảng Ninh        1358490\n",
       "Nam Định          1771000\n",
       "Đà Nẵng           1191381\n",
       "TP.Hồ Chí Minh    9411805\n",
       "Name: population, dtype: int64"
      ]
     },
     "execution_count": 23,
     "metadata": {},
     "output_type": "execute_result"
    }
   ],
   "source": [
    "data.population"
   ]
  },
  {
   "cell_type": "code",
   "execution_count": 24,
   "metadata": {},
   "outputs": [
    {
     "data": {
      "text/html": [
       "<div>\n",
       "<style scoped>\n",
       "    .dataframe tbody tr th:only-of-type {\n",
       "        vertical-align: middle;\n",
       "    }\n",
       "\n",
       "    .dataframe tbody tr th {\n",
       "        vertical-align: top;\n",
       "    }\n",
       "\n",
       "    .dataframe thead th {\n",
       "        text-align: right;\n",
       "    }\n",
       "</style>\n",
       "<table border=\"1\" class=\"dataframe\">\n",
       "  <thead>\n",
       "    <tr style=\"text-align: right;\">\n",
       "      <th></th>\n",
       "      <th>Dân số</th>\n",
       "      <th>Diện tích</th>\n",
       "      <th>population</th>\n",
       "      <th>Mật độ</th>\n",
       "    </tr>\n",
       "  </thead>\n",
       "  <tbody>\n",
       "    <tr>\n",
       "      <th>Hà Nội</th>\n",
       "      <td>8330830</td>\n",
       "      <td>3358.9</td>\n",
       "      <td>8330830</td>\n",
       "      <td>2480.225669</td>\n",
       "    </tr>\n",
       "    <tr>\n",
       "      <th>Quảng Ninh</th>\n",
       "      <td>1358490</td>\n",
       "      <td>6177.7</td>\n",
       "      <td>1358490</td>\n",
       "      <td>219.902229</td>\n",
       "    </tr>\n",
       "    <tr>\n",
       "      <th>Nam Định</th>\n",
       "      <td>1771000</td>\n",
       "      <td>1668.0</td>\n",
       "      <td>1771000</td>\n",
       "      <td>1061.750600</td>\n",
       "    </tr>\n",
       "    <tr>\n",
       "      <th>Đà Nẵng</th>\n",
       "      <td>1191381</td>\n",
       "      <td>1284.9</td>\n",
       "      <td>1191381</td>\n",
       "      <td>927.216904</td>\n",
       "    </tr>\n",
       "    <tr>\n",
       "      <th>TP.Hồ Chí Minh</th>\n",
       "      <td>9411805</td>\n",
       "      <td>2061.8</td>\n",
       "      <td>9411805</td>\n",
       "      <td>4564.848676</td>\n",
       "    </tr>\n",
       "  </tbody>\n",
       "</table>\n",
       "</div>"
      ],
      "text/plain": [
       "                 Dân số  Diện tích  population       Mật độ\n",
       "Hà Nội          8330830     3358.9     8330830  2480.225669\n",
       "Quảng Ninh      1358490     6177.7     1358490   219.902229\n",
       "Nam Định        1771000     1668.0     1771000  1061.750600\n",
       "Đà Nẵng         1191381     1284.9     1191381   927.216904\n",
       "TP.Hồ Chí Minh  9411805     2061.8     9411805  4564.848676"
      ]
     },
     "execution_count": 24,
     "metadata": {},
     "output_type": "execute_result"
    }
   ],
   "source": [
    "data['Mật độ'] = data['Dân số']/data['Diện tích']\n",
    "data"
   ]
  },
  {
   "cell_type": "code",
   "execution_count": 25,
   "metadata": {},
   "outputs": [
    {
     "name": "stdout",
     "output_type": "stream",
     "text": [
      "[[8.33083000e+06 3.35890000e+03 8.33083000e+06 2.48022567e+03]\n",
      " [1.35849000e+06 6.17770000e+03 1.35849000e+06 2.19902229e+02]\n",
      " [1.77100000e+06 1.66800000e+03 1.77100000e+06 1.06175060e+03]\n",
      " [1.19138100e+06 1.28490000e+03 1.19138100e+06 9.27216904e+02]\n",
      " [9.41180500e+06 2.06180000e+03 9.41180500e+06 4.56484868e+03]]\n",
      "Kiểu dữ liệu của arr_data là:  <class 'numpy.ndarray'>\n"
     ]
    }
   ],
   "source": [
    "arr_data = data.values # Lấy mảng dữ liệu gốc từ DataFrameprint(arr_data) \n",
    "print(arr_data)\n",
    "print('Kiểu dữ liệu của arr_data là: ', type(arr_data))"
   ]
  },
  {
   "cell_type": "code",
   "execution_count": 26,
   "metadata": {},
   "outputs": [
    {
     "data": {
      "text/html": [
       "<div>\n",
       "<style scoped>\n",
       "    .dataframe tbody tr th:only-of-type {\n",
       "        vertical-align: middle;\n",
       "    }\n",
       "\n",
       "    .dataframe tbody tr th {\n",
       "        vertical-align: top;\n",
       "    }\n",
       "\n",
       "    .dataframe thead th {\n",
       "        text-align: right;\n",
       "    }\n",
       "</style>\n",
       "<table border=\"1\" class=\"dataframe\">\n",
       "  <thead>\n",
       "    <tr style=\"text-align: right;\">\n",
       "      <th></th>\n",
       "      <th>Hà Nội</th>\n",
       "      <th>Quảng Ninh</th>\n",
       "      <th>Nam Định</th>\n",
       "      <th>Đà Nẵng</th>\n",
       "      <th>TP.Hồ Chí Minh</th>\n",
       "    </tr>\n",
       "  </thead>\n",
       "  <tbody>\n",
       "    <tr>\n",
       "      <th>Dân số</th>\n",
       "      <td>8.330830e+06</td>\n",
       "      <td>1.358490e+06</td>\n",
       "      <td>1.771000e+06</td>\n",
       "      <td>1.191381e+06</td>\n",
       "      <td>9.411805e+06</td>\n",
       "    </tr>\n",
       "    <tr>\n",
       "      <th>Diện tích</th>\n",
       "      <td>3.358900e+03</td>\n",
       "      <td>6.177700e+03</td>\n",
       "      <td>1.668000e+03</td>\n",
       "      <td>1.284900e+03</td>\n",
       "      <td>2.061800e+03</td>\n",
       "    </tr>\n",
       "    <tr>\n",
       "      <th>population</th>\n",
       "      <td>8.330830e+06</td>\n",
       "      <td>1.358490e+06</td>\n",
       "      <td>1.771000e+06</td>\n",
       "      <td>1.191381e+06</td>\n",
       "      <td>9.411805e+06</td>\n",
       "    </tr>\n",
       "    <tr>\n",
       "      <th>Mật độ</th>\n",
       "      <td>2.480226e+03</td>\n",
       "      <td>2.199022e+02</td>\n",
       "      <td>1.061751e+03</td>\n",
       "      <td>9.272169e+02</td>\n",
       "      <td>4.564849e+03</td>\n",
       "    </tr>\n",
       "  </tbody>\n",
       "</table>\n",
       "</div>"
      ],
      "text/plain": [
       "                  Hà Nội    Quảng Ninh      Nam Định       Đà Nẵng  \\\n",
       "Dân số      8.330830e+06  1.358490e+06  1.771000e+06  1.191381e+06   \n",
       "Diện tích   3.358900e+03  6.177700e+03  1.668000e+03  1.284900e+03   \n",
       "population  8.330830e+06  1.358490e+06  1.771000e+06  1.191381e+06   \n",
       "Mật độ      2.480226e+03  2.199022e+02  1.061751e+03  9.272169e+02   \n",
       "\n",
       "            TP.Hồ Chí Minh  \n",
       "Dân số        9.411805e+06  \n",
       "Diện tích     2.061800e+03  \n",
       "population    9.411805e+06  \n",
       "Mật độ        4.564849e+03  "
      ]
     },
     "execution_count": 26,
     "metadata": {},
     "output_type": "execute_result"
    }
   ],
   "source": [
    "data.T"
   ]
  },
  {
   "cell_type": "code",
   "execution_count": 27,
   "metadata": {},
   "outputs": [
    {
     "name": "stdout",
     "output_type": "stream",
     "text": [
      "Cách 1, sử dụng chuyển vị: [3358.9 6177.7 1668.  1284.9 2061.8]\n",
      "Cách 2, sử dụng chỉ mục(index):  [3358.9 6177.7 1668.  1284.9 2061.8]\n"
     ]
    }
   ],
   "source": [
    "print(\"Cách 1, sử dụng chuyển vị:\", data.T.values[1]) \n",
    "print(\"Cách 2, sử dụng chỉ mục(index): \", data['Diện tích'].values) "
   ]
  },
  {
   "cell_type": "code",
   "execution_count": 28,
   "metadata": {},
   "outputs": [
    {
     "name": "stdout",
     "output_type": "stream",
     "text": [
      "$1                  Dân số  Diện tích  population       Mật độ\n",
      "Hà Nội          8330830     3358.9     8330830  2480.225669\n",
      "Quảng Ninh      1358490     6177.7     1358490   219.902229\n",
      "Nam Định        1771000     1668.0     1771000  1061.750600\n",
      "Đà Nẵng         1191381     1284.9     1191381   927.216904\n",
      "TP.Hồ Chí Minh  9411805     2061.8     9411805  4564.848676\n",
      "\n",
      "$2 Dữ liệu của Hà Nội:\n",
      " Dân số        8.330830e+06\n",
      "Diện tích     3.358900e+03\n",
      "population    8.330830e+06\n",
      "Mật độ        2.480226e+03\n",
      "Name: Hà Nội, dtype: float64\n",
      "\n",
      "$3 Dữ liệu của Hà Nội, Quảng Ninh và Nam Định:\n",
      "              Dân số  Diện tích  population       Mật độ\n",
      "Hà Nội      8330830     3358.9     8330830  2480.225669\n",
      "Quảng Ninh  1358490     6177.7     1358490   219.902229\n",
      "Nam Định    1771000     1668.0     1771000  1061.750600\n",
      "\n",
      "$4 Dữ liệu dân số, diện tích của Hà Nội, Quảng Ninh:\n",
      "              Dân số  Diện tích\n",
      "Hà Nội      8330830     3358.9\n",
      "Quảng Ninh  1358490     6177.7\n",
      "\n",
      "$5 Mật độ dân số các Tỉnh/Thành phố:\n",
      " Hà Nội            2480.225669\n",
      "Quảng Ninh         219.902229\n",
      "Nam Định          1061.750600\n",
      "Đà Nẵng            927.216904\n",
      "TP.Hồ Chí Minh    4564.848676\n",
      "Name: Mật độ, dtype: float64\n"
     ]
    }
   ],
   "source": [
    "#Sử dụng loc\n",
    "print('$1', data)\n",
    "#Lấy hàng đầu tiên\n",
    "print('\\n$2 Dữ liệu của Hà Nội:\\n',data.loc['Hà Nội'])\n",
    "#Lấy dữ liệu 3 hàng đầu tiên\n",
    "print(\"\\n$3 Dữ liệu của Hà Nội, Quảng Ninh và Nam Định:\\n\",data.loc[:'Nam Định']) \n",
    "#Dữ liệu của 2 hàng và 2 cột đầu tiên\n",
    "print(\"\\n$4 Dữ liệu dân số, diện tích của Hà Nội, Quảng Ninh:\\n\",data.loc[:'Quảng Ninh',:'Diện tích'])\n",
    "#Lấy dữ liệu của tất cả các hàng và các cột cuối cùng \n",
    "print(\"\\n$5 Mật độ dân số các Tỉnh/Thành phố:\\n\",data.loc[:,'Mật độ'])"
   ]
  },
  {
   "cell_type": "code",
   "execution_count": 29,
   "metadata": {},
   "outputs": [
    {
     "name": "stdout",
     "output_type": "stream",
     "text": [
      "                 Dân số  Diện tích  population       Mật độ\n",
      "Hà Nội          8330830     3358.9     8330830  2480.225669\n",
      "Quảng Ninh      1358490     6177.7     1358490   219.902229\n",
      "Nam Định        1771000     1668.0     1771000  1061.750600\n",
      "Đà Nẵng         1191381     1284.9     1191381   927.216904\n",
      "TP.Hồ Chí Minh  9411805     2061.8     9411805  4564.848676\n",
      "\n",
      "!1 Dữ liệu của thủ đô Hà Nội:\n",
      " Dân số        8.330830e+06\n",
      "Diện tích     3.358900e+03\n",
      "population    8.330830e+06\n",
      "Mật độ        2.480226e+03\n",
      "Name: Hà Nội, dtype: float64\n",
      "\n",
      "!2 Dữ liệu của Hà Nội, Quảng Ninh và Nam Định:\n",
      "              Dân số  Diện tích  population       Mật độ\n",
      "Hà Nội      8330830     3358.9     8330830  2480.225669\n",
      "Quảng Ninh  1358490     6177.7     1358490   219.902229\n",
      "Nam Định    1771000     1668.0     1771000  1061.750600\n",
      "\n",
      "!3 Dữ liệu dân số và diện tích của Hà Nội và Quảng Ninh:\n",
      "              Dân số  Diện tích\n",
      "Hà Nội      8330830     3358.9\n",
      "Quảng Ninh  1358490     6177.7\n",
      "\n",
      "!4 Mật độ dân số của các tỉnh/thành phố:\n",
      " Hà Nội            2480.225669\n",
      "Quảng Ninh         219.902229\n",
      "Nam Định          1061.750600\n",
      "Đà Nẵng            927.216904\n",
      "TP.Hồ Chí Minh    4564.848676\n",
      "Name: Mật độ, dtype: float64\n"
     ]
    }
   ],
   "source": [
    "print(data)\n",
    "#Lấy hàng đầu tiên\n",
    "print(\"\\n!1 Dữ liệu của thủ đô Hà Nội:\\n\",data.iloc[0])\n",
    "#Lấy dữ liệu 3 hàng đầu tiên\n",
    "print(\"\\n!2 Dữ liệu của Hà Nội, Quảng Ninh và Nam Định:\\n\",data.iloc[0:3]) \n",
    "#Lấy dữ liệu 2 hàng, 2 cột đầu tiên\n",
    "print(\"\\n!3 Dữ liệu dân số và diện tích của Hà Nội và Quảng Ninh:\\n\",data.iloc[:2,:2])\n",
    "#Lấy dữ liệu về mật độ dân số của các tỉnh còn lại \n",
    "print(\"\\n!4 Mật độ dân số của các tỉnh/thành phố:\\n\",data.iloc[:,-1])"
   ]
  },
  {
   "cell_type": "code",
   "execution_count": 30,
   "metadata": {},
   "outputs": [
    {
     "name": "stdout",
     "output_type": "stream",
     "text": [
      "\n",
      " Lấy dữ liệu dân số và mật độ của Tỉnh/TP mà diện tích > 2000km2:\n",
      "\n",
      "                 Dân số       Mật độ  Diện tích\n",
      "Hà Nội          8330830  2480.225669     3358.9\n",
      "Quảng Ninh      1358490   219.902229     6177.7\n",
      "TP.Hồ Chí Minh  9411805  4564.848676     2061.8\n"
     ]
    }
   ],
   "source": [
    "print('\\n Lấy dữ liệu dân số và mật độ của Tỉnh/TP mà diện tích > 2000km2:\\n')\n",
    "print(data.loc[data['Diện tích']>2000, ['Dân số', 'Mật độ', 'Diện tích']])"
   ]
  },
  {
   "cell_type": "code",
   "execution_count": 31,
   "metadata": {},
   "outputs": [
    {
     "name": "stdout",
     "output_type": "stream",
     "text": [
      "             Dân số  Diện tích  population      Mật độ\n",
      "Quảng Ninh  1358490     6177.7     1358490  219.902229\n",
      "Đà Nẵng     1191381     1284.9     1191381  927.216904\n"
     ]
    }
   ],
   "source": [
    "# Lấy dữ liệu của Tỉnh/TP có mật độ < 1000 và dân số > 1 triệu\n",
    "print(data.loc[(data['Mật độ'] < 1000) & (data['Dân số'] > 1000000)])"
   ]
  },
  {
   "cell_type": "code",
   "execution_count": 32,
   "metadata": {},
   "outputs": [
    {
     "name": "stdout",
     "output_type": "stream",
     "text": [
      "             Dân số  Diện tích  population       Mật độ\n",
      "Hà Nội      8330830     3358.9     8330830  2480.225669\n",
      "Quảng Ninh  1358490     6177.7     1358490   219.902229\n"
     ]
    }
   ],
   "source": [
    "#Sử dụng slicing\n",
    "print(data[0:2])"
   ]
  },
  {
   "cell_type": "code",
   "execution_count": 33,
   "metadata": {},
   "outputs": [
    {
     "name": "stdout",
     "output_type": "stream",
     "text": [
      "                 Dân số  Diện tích  population       Mật độ\n",
      "Hà Nội          8330830     3358.9     8330830  2480.225669\n",
      "Quảng Ninh      1358490     6177.7     1358490   219.902229\n",
      "Nam Định        1771000     1668.0     1771000  1061.750600\n",
      "Đà Nẵng         1191381     1284.9     1191381   927.216904\n",
      "TP.Hồ Chí Minh  9411805     2061.8     9411805  4564.848676\n"
     ]
    }
   ],
   "source": [
    "#masking\n",
    "print(data[data['Dân số']>1000])"
   ]
  },
  {
   "cell_type": "code",
   "execution_count": null,
   "metadata": {},
   "outputs": [],
   "source": []
  }
 ],
 "metadata": {
  "kernelspec": {
   "display_name": "Python 3",
   "language": "python",
   "name": "python3"
  },
  "language_info": {
   "codemirror_mode": {
    "name": "ipython",
    "version": 3
   },
   "file_extension": ".py",
   "mimetype": "text/x-python",
   "name": "python",
   "nbconvert_exporter": "python",
   "pygments_lexer": "ipython3",
   "version": "3.6.8"
  }
 },
 "nbformat": 4,
 "nbformat_minor": 2
}
