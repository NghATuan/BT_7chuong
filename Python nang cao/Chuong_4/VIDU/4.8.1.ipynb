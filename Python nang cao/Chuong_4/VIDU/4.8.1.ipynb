{
 "cells": [
  {
   "cell_type": "code",
   "execution_count": 26,
   "metadata": {},
   "outputs": [],
   "source": [
    "import numpy as np\n",
    "import pandas as pd"
   ]
  },
  {
   "cell_type": "markdown",
   "metadata": {},
   "source": [
    "VD 8.4.1"
   ]
  },
  {
   "cell_type": "code",
   "execution_count": 27,
   "metadata": {},
   "outputs": [
    {
     "name": "stdout",
     "output_type": "stream",
     "text": [
      "       Unnamed: 0        2019 (*)                       Unnamed: 2  \\\n",
      "0             NaN  Diện tích(Km2)  Dân số trung bình (Nghìn người)   \n",
      "1          Hà Nội        3.358.60                         8.093.90   \n",
      "2      Quảng Ninh        6.178.20                         1.324.80   \n",
      "3        Nam Định        1.668.60                         1.780.90   \n",
      "4          Sơn La       14.123.50                         1.252.70   \n",
      "5       Thanh Hoá       11.114.60                         3.645.80   \n",
      "6         Nghệ An       16.481.40                         3.337.20   \n",
      "7         Đà Nẵng        1.284.90                         1.141.10   \n",
      "8        Đồng Nai        5.863.60                         3.113.70   \n",
      "9  TP.Hồ Chí Minh        2.061.40                         9.038.60   \n",
      "\n",
      "         2020 (*)                       Unnamed: 4        2021 (*)  \\\n",
      "0  Diện tích(Km2)  Dân số trung bình (Nghìn người)  Diện tích(Km2)   \n",
      "1        3.358.60                         8.246.54        3.359.82   \n",
      "2        6.178.21                         1.337.61        6.207.79   \n",
      "3        1.668.57                         1.780.33        1.668.83   \n",
      "4       14.123.49                         1.270.56       14.109.83   \n",
      "5       11.114.65                         3.664.94       11.114.71   \n",
      "6       16.481.41                         3.365.20       16.486.50   \n",
      "7        1.284.88                         1.169.48        1.284.73   \n",
      "8        5.863.60                         3.177.40        5.863.62   \n",
      "9        2.061.41                         9.227.60        2.095.39   \n",
      "\n",
      "                        Unnamed: 6  \n",
      "0  Dân số trung bình (Nghìn người)  \n",
      "1                         8.330.83  \n",
      "2                         1.350.85  \n",
      "3                         1.836.27  \n",
      "4                         1.287.72  \n",
      "5                         3.716.43  \n",
      "6                         3.409.81  \n",
      "7                         1.195.49  \n",
      "8                         3.169.10  \n",
      "9                         9.166.84  \n"
     ]
    }
   ],
   "source": [
    "datavn_raw=pd.read_excel('data19_21.xlsx')\n",
    "print(datavn_raw)"
   ]
  },
  {
   "cell_type": "markdown",
   "metadata": {},
   "source": [
    "VD 8.4.2"
   ]
  },
  {
   "cell_type": "code",
   "execution_count": 28,
   "metadata": {},
   "outputs": [
    {
     "name": "stdout",
     "output_type": "stream",
     "text": [
      "<class 'pandas.core.frame.DataFrame'>\n"
     ]
    },
    {
     "data": {
      "text/html": [
       "<div>\n",
       "<style scoped>\n",
       "    .dataframe tbody tr th:only-of-type {\n",
       "        vertical-align: middle;\n",
       "    }\n",
       "\n",
       "    .dataframe tbody tr th {\n",
       "        vertical-align: top;\n",
       "    }\n",
       "\n",
       "    .dataframe thead th {\n",
       "        text-align: right;\n",
       "    }\n",
       "</style>\n",
       "<table border=\"1\" class=\"dataframe\">\n",
       "  <thead>\n",
       "    <tr style=\"text-align: right;\">\n",
       "      <th></th>\n",
       "      <th>Unnamed: 0</th>\n",
       "      <th>2019 (*)</th>\n",
       "      <th>2020 (*)</th>\n",
       "      <th>2021 (*)</th>\n",
       "      <th>Unnamed: 2</th>\n",
       "      <th>Unnamed: 4</th>\n",
       "      <th>Unnamed: 6</th>\n",
       "    </tr>\n",
       "  </thead>\n",
       "  <tbody>\n",
       "    <tr>\n",
       "      <th>0</th>\n",
       "      <td>NaN</td>\n",
       "      <td>Diện tích(Km2)</td>\n",
       "      <td>Diện tích(Km2)</td>\n",
       "      <td>Diện tích(Km2)</td>\n",
       "      <td>Dân số trung bình (Nghìn người)</td>\n",
       "      <td>Dân số trung bình (Nghìn người)</td>\n",
       "      <td>Dân số trung bình (Nghìn người)</td>\n",
       "    </tr>\n",
       "    <tr>\n",
       "      <th>1</th>\n",
       "      <td>Hà Nội</td>\n",
       "      <td>3.358.60</td>\n",
       "      <td>3.358.60</td>\n",
       "      <td>3.359.82</td>\n",
       "      <td>8.093.90</td>\n",
       "      <td>8.246.54</td>\n",
       "      <td>8.330.83</td>\n",
       "    </tr>\n",
       "    <tr>\n",
       "      <th>2</th>\n",
       "      <td>Quảng Ninh</td>\n",
       "      <td>6.178.20</td>\n",
       "      <td>6.178.21</td>\n",
       "      <td>6.207.79</td>\n",
       "      <td>1.324.80</td>\n",
       "      <td>1.337.61</td>\n",
       "      <td>1.350.85</td>\n",
       "    </tr>\n",
       "    <tr>\n",
       "      <th>3</th>\n",
       "      <td>Nam Định</td>\n",
       "      <td>1.668.60</td>\n",
       "      <td>1.668.57</td>\n",
       "      <td>1.668.83</td>\n",
       "      <td>1.780.90</td>\n",
       "      <td>1.780.33</td>\n",
       "      <td>1.836.27</td>\n",
       "    </tr>\n",
       "    <tr>\n",
       "      <th>4</th>\n",
       "      <td>Sơn La</td>\n",
       "      <td>14.123.50</td>\n",
       "      <td>14.123.49</td>\n",
       "      <td>14.109.83</td>\n",
       "      <td>1.252.70</td>\n",
       "      <td>1.270.56</td>\n",
       "      <td>1.287.72</td>\n",
       "    </tr>\n",
       "    <tr>\n",
       "      <th>5</th>\n",
       "      <td>Thanh Hoá</td>\n",
       "      <td>11.114.60</td>\n",
       "      <td>11.114.65</td>\n",
       "      <td>11.114.71</td>\n",
       "      <td>3.645.80</td>\n",
       "      <td>3.664.94</td>\n",
       "      <td>3.716.43</td>\n",
       "    </tr>\n",
       "    <tr>\n",
       "      <th>6</th>\n",
       "      <td>Nghệ An</td>\n",
       "      <td>16.481.40</td>\n",
       "      <td>16.481.41</td>\n",
       "      <td>16.486.50</td>\n",
       "      <td>3.337.20</td>\n",
       "      <td>3.365.20</td>\n",
       "      <td>3.409.81</td>\n",
       "    </tr>\n",
       "    <tr>\n",
       "      <th>7</th>\n",
       "      <td>Đà Nẵng</td>\n",
       "      <td>1.284.90</td>\n",
       "      <td>1.284.88</td>\n",
       "      <td>1.284.73</td>\n",
       "      <td>1.141.10</td>\n",
       "      <td>1.169.48</td>\n",
       "      <td>1.195.49</td>\n",
       "    </tr>\n",
       "    <tr>\n",
       "      <th>8</th>\n",
       "      <td>Đồng Nai</td>\n",
       "      <td>5.863.60</td>\n",
       "      <td>5.863.60</td>\n",
       "      <td>5.863.62</td>\n",
       "      <td>3.113.70</td>\n",
       "      <td>3.177.40</td>\n",
       "      <td>3.169.10</td>\n",
       "    </tr>\n",
       "    <tr>\n",
       "      <th>9</th>\n",
       "      <td>TP.Hồ Chí Minh</td>\n",
       "      <td>2.061.40</td>\n",
       "      <td>2.061.41</td>\n",
       "      <td>2.095.39</td>\n",
       "      <td>9.038.60</td>\n",
       "      <td>9.227.60</td>\n",
       "      <td>9.166.84</td>\n",
       "    </tr>\n",
       "  </tbody>\n",
       "</table>\n",
       "</div>"
      ],
      "text/plain": [
       "       Unnamed: 0        2019 (*)        2020 (*)        2021 (*)  \\\n",
       "0             NaN  Diện tích(Km2)  Diện tích(Km2)  Diện tích(Km2)   \n",
       "1          Hà Nội        3.358.60        3.358.60        3.359.82   \n",
       "2      Quảng Ninh        6.178.20        6.178.21        6.207.79   \n",
       "3        Nam Định        1.668.60        1.668.57        1.668.83   \n",
       "4          Sơn La       14.123.50       14.123.49       14.109.83   \n",
       "5       Thanh Hoá       11.114.60       11.114.65       11.114.71   \n",
       "6         Nghệ An       16.481.40       16.481.41       16.486.50   \n",
       "7         Đà Nẵng        1.284.90        1.284.88        1.284.73   \n",
       "8        Đồng Nai        5.863.60        5.863.60        5.863.62   \n",
       "9  TP.Hồ Chí Minh        2.061.40        2.061.41        2.095.39   \n",
       "\n",
       "                        Unnamed: 2                       Unnamed: 4  \\\n",
       "0  Dân số trung bình (Nghìn người)  Dân số trung bình (Nghìn người)   \n",
       "1                         8.093.90                         8.246.54   \n",
       "2                         1.324.80                         1.337.61   \n",
       "3                         1.780.90                         1.780.33   \n",
       "4                         1.252.70                         1.270.56   \n",
       "5                         3.645.80                         3.664.94   \n",
       "6                         3.337.20                         3.365.20   \n",
       "7                         1.141.10                         1.169.48   \n",
       "8                         3.113.70                         3.177.40   \n",
       "9                         9.038.60                         9.227.60   \n",
       "\n",
       "                        Unnamed: 6  \n",
       "0  Dân số trung bình (Nghìn người)  \n",
       "1                         8.330.83  \n",
       "2                         1.350.85  \n",
       "3                         1.836.27  \n",
       "4                         1.287.72  \n",
       "5                         3.716.43  \n",
       "6                         3.409.81  \n",
       "7                         1.195.49  \n",
       "8                         3.169.10  \n",
       "9                         9.166.84  "
      ]
     },
     "execution_count": 28,
     "metadata": {},
     "output_type": "execute_result"
    }
   ],
   "source": [
    "datavn = datavn_raw[['Unnamed: 0', '2019 (*)', '2020 (*)','2021 (*)',  \n",
    "                     'Unnamed: 2', 'Unnamed: 4', 'Unnamed: 6']] \n",
    "print(type(datavn))\n",
    "datavn"
   ]
  },
  {
   "cell_type": "code",
   "execution_count": 29,
   "metadata": {},
   "outputs": [
    {
     "name": "stdout",
     "output_type": "stream",
     "text": [
      "  Tỉnh/Thành phố Diện tích(Km2)                        \\\n",
      "                           2019       2020       2021   \n",
      "0         Hà Nội       3.358.60   3.358.60   3.359.82   \n",
      "1     Quảng Ninh       6.178.20   6.178.21   6.207.79   \n",
      "2       Nam Định       1.668.60   1.668.57   1.668.83   \n",
      "3         Sơn La      14.123.50  14.123.49  14.109.83   \n",
      "4      Thanh Hoá      11.114.60  11.114.65  11.114.71   \n",
      "\n",
      "  Dân số trung bình (Nghìn người)                      \n",
      "                             2019      2020      2021  \n",
      "0                        8.093.90  8.246.54  8.330.83  \n",
      "1                        1.324.80  1.337.61  1.350.85  \n",
      "2                        1.780.90  1.780.33  1.836.27  \n",
      "3                        1.252.70  1.270.56  1.287.72  \n",
      "4                        3.645.80  3.664.94  3.716.43  \n"
     ]
    }
   ],
   "source": [
    "columns=pd.MultiIndex.from_tuples(\n",
    "    [\n",
    "        ('Tỉnh/Thành phố',''),\n",
    "        ('Diện tích(Km2)',2019),('Diện tích(Km2)',2020),('Diện tích(Km2)',2021),  ('Dân số trung bình (Nghìn người)',2019),\n",
    "        ('Dân số trung bình (Nghìn người)',2020),\n",
    "        ('Dân số trung bình (Nghìn người)',2021)\n",
    "        ]\n",
    ")\n",
    "datavn.columns=columns\n",
    "datavn=datavn.iloc[1:].reset_index(drop=True)\n",
    "print(datavn.head())"
   ]
  },
  {
   "cell_type": "markdown",
   "metadata": {},
   "source": [
    "VD 4.8.1.1\n"
   ]
  },
  {
   "cell_type": "code",
   "execution_count": 30,
   "metadata": {},
   "outputs": [
    {
     "name": "stdout",
     "output_type": "stream",
     "text": [
      "\n",
      " Nội dung của DataFrame \n",
      "    Age  Height  Weight\n",
      "0   20     165      60\n",
      "1   30     170      65\n",
      "2   35     175      70\n",
      "3   40     180      75\n",
      "4   45     185      80\n",
      "\n",
      " Thống kê thông tin df \n",
      "              Age      Height     Weight\n",
      "count   5.000000    5.000000   5.000000\n",
      "mean   34.000000  175.000000  70.000000\n",
      "std     9.617692    7.905694   7.905694\n",
      "min    20.000000  165.000000  60.000000\n",
      "25%    30.000000  170.000000  65.000000\n",
      "50%    35.000000  175.000000  70.000000\n",
      "75%    40.000000  180.000000  75.000000\n",
      "max    45.000000  185.000000  80.000000\n"
     ]
    }
   ],
   "source": [
    "#Ví dụ về phương thức 'describe()'\n",
    "data = {\n",
    "    'Age':[20,30,35,40,45],\n",
    "    'Height':[165,170,175,180,185],\n",
    "    'Weight':[60,65,70,75,80]\n",
    "}\n",
    "df=pd.DataFrame(data)\n",
    "print(\"\\n Nội dung của DataFrame \\n\", df)\n",
    "print(\"\\n Thống kê thông tin df \\n\", df.describe())"
   ]
  },
  {
   "cell_type": "markdown",
   "metadata": {},
   "source": [
    "VD 8.4.2.1"
   ]
  },
  {
   "cell_type": "code",
   "execution_count": 31,
   "metadata": {},
   "outputs": [
    {
     "data": {
      "text/html": [
       "<div>\n",
       "<style scoped>\n",
       "    .dataframe tbody tr th:only-of-type {\n",
       "        vertical-align: middle;\n",
       "    }\n",
       "\n",
       "    .dataframe tbody tr th {\n",
       "        vertical-align: top;\n",
       "    }\n",
       "\n",
       "    .dataframe thead th {\n",
       "        text-align: right;\n",
       "    }\n",
       "</style>\n",
       "<table border=\"1\" class=\"dataframe\">\n",
       "  <thead>\n",
       "    <tr style=\"text-align: right;\">\n",
       "      <th></th>\n",
       "      <th>key</th>\n",
       "      <th>data</th>\n",
       "    </tr>\n",
       "  </thead>\n",
       "  <tbody>\n",
       "    <tr>\n",
       "      <th>0</th>\n",
       "      <td>A</td>\n",
       "      <td>0</td>\n",
       "    </tr>\n",
       "    <tr>\n",
       "      <th>1</th>\n",
       "      <td>B</td>\n",
       "      <td>1</td>\n",
       "    </tr>\n",
       "    <tr>\n",
       "      <th>2</th>\n",
       "      <td>C</td>\n",
       "      <td>2</td>\n",
       "    </tr>\n",
       "    <tr>\n",
       "      <th>3</th>\n",
       "      <td>A</td>\n",
       "      <td>3</td>\n",
       "    </tr>\n",
       "    <tr>\n",
       "      <th>4</th>\n",
       "      <td>B</td>\n",
       "      <td>4</td>\n",
       "    </tr>\n",
       "    <tr>\n",
       "      <th>5</th>\n",
       "      <td>C</td>\n",
       "      <td>5</td>\n",
       "    </tr>\n",
       "  </tbody>\n",
       "</table>\n",
       "</div>"
      ],
      "text/plain": [
       "  key  data\n",
       "0   A     0\n",
       "1   B     1\n",
       "2   C     2\n",
       "3   A     3\n",
       "4   B     4\n",
       "5   C     5"
      ]
     },
     "execution_count": 31,
     "metadata": {},
     "output_type": "execute_result"
    }
   ],
   "source": [
    "df=pd.DataFrame(\n",
    "    {\n",
    "        'key':['A','B','C','A','B','C'],\n",
    "        'data':range(6)\n",
    "        },\n",
    "        columns=['key','data']\n",
    ")\n",
    "df"
   ]
  },
  {
   "cell_type": "code",
   "execution_count": 32,
   "metadata": {},
   "outputs": [
    {
     "data": {
      "text/plain": [
       "<pandas.core.groupby.generic.DataFrameGroupBy object at 0x000001C542931850>"
      ]
     },
     "execution_count": 32,
     "metadata": {},
     "output_type": "execute_result"
    }
   ],
   "source": [
    "df_group=df.groupby('key')\n",
    "df_group\n"
   ]
  },
  {
   "cell_type": "code",
   "execution_count": 33,
   "metadata": {},
   "outputs": [
    {
     "name": "stdout",
     "output_type": "stream",
     "text": [
      "     data\n",
      "key      \n",
      "A     1.5\n",
      "B     2.5\n",
      "C     3.5\n"
     ]
    }
   ],
   "source": [
    "print(df_group.mean())"
   ]
  },
  {
   "cell_type": "code",
   "execution_count": 34,
   "metadata": {},
   "outputs": [
    {
     "name": "stdout",
     "output_type": "stream",
     "text": [
      "     data\n",
      "key      \n",
      "A       3\n",
      "B       5\n",
      "C       7\n"
     ]
    }
   ],
   "source": [
    "print(df_group.sum())"
   ]
  },
  {
   "cell_type": "code",
   "execution_count": 35,
   "metadata": {},
   "outputs": [
    {
     "name": "stdout",
     "output_type": "stream",
     "text": [
      "     data\n",
      "key      \n",
      "A       3\n",
      "B       4\n",
      "C       5\n"
     ]
    }
   ],
   "source": [
    "print(df_group.max())"
   ]
  },
  {
   "cell_type": "code",
   "execution_count": 36,
   "metadata": {},
   "outputs": [
    {
     "name": "stdout",
     "output_type": "stream",
     "text": [
      "     data\n",
      "key      \n",
      "A       0\n",
      "B       1\n",
      "C       2\n"
     ]
    }
   ],
   "source": [
    "print(df_group.min())"
   ]
  },
  {
   "cell_type": "markdown",
   "metadata": {},
   "source": [
    "VD 8.4.2.2"
   ]
  },
  {
   "cell_type": "code",
   "execution_count": 37,
   "metadata": {},
   "outputs": [
    {
     "data": {
      "text/html": [
       "<div>\n",
       "<style scoped>\n",
       "    .dataframe tbody tr th:only-of-type {\n",
       "        vertical-align: middle;\n",
       "    }\n",
       "\n",
       "    .dataframe tbody tr th {\n",
       "        vertical-align: top;\n",
       "    }\n",
       "\n",
       "    .dataframe thead th {\n",
       "        text-align: right;\n",
       "    }\n",
       "</style>\n",
       "<table border=\"1\" class=\"dataframe\">\n",
       "  <thead>\n",
       "    <tr style=\"text-align: right;\">\n",
       "      <th></th>\n",
       "      <th>Tên hs</th>\n",
       "      <th>Môn</th>\n",
       "      <th>Điểm</th>\n",
       "    </tr>\n",
       "  </thead>\n",
       "  <tbody>\n",
       "    <tr>\n",
       "      <th>0</th>\n",
       "      <td>Bình</td>\n",
       "      <td>Toán</td>\n",
       "      <td>8</td>\n",
       "    </tr>\n",
       "    <tr>\n",
       "      <th>1</th>\n",
       "      <td>Hoa</td>\n",
       "      <td>Lý</td>\n",
       "      <td>9</td>\n",
       "    </tr>\n",
       "    <tr>\n",
       "      <th>2</th>\n",
       "      <td>Minh</td>\n",
       "      <td>Toán</td>\n",
       "      <td>7</td>\n",
       "    </tr>\n",
       "    <tr>\n",
       "      <th>3</th>\n",
       "      <td>Lan</td>\n",
       "      <td>Hóa</td>\n",
       "      <td>6</td>\n",
       "    </tr>\n",
       "    <tr>\n",
       "      <th>4</th>\n",
       "      <td>Vân</td>\n",
       "      <td>Lý</td>\n",
       "      <td>8</td>\n",
       "    </tr>\n",
       "  </tbody>\n",
       "</table>\n",
       "</div>"
      ],
      "text/plain": [
       "  Tên hs   Môn  Điểm\n",
       "0   Bình  Toán     8\n",
       "1    Hoa    Lý     9\n",
       "2   Minh  Toán     7\n",
       "3    Lan   Hóa     6\n",
       "4    Vân    Lý     8"
      ]
     },
     "execution_count": 37,
     "metadata": {},
     "output_type": "execute_result"
    }
   ],
   "source": [
    "data = {'Tên hs':['Bình', 'Hoa', 'Minh', 'Lan', 'Vân'],\n",
    "        'Môn':['Toán', 'Lý', 'Toán', 'Hóa', 'Lý'],\n",
    "        'Điểm':[8, 9, 7, 6, 8]\n",
    "}\n",
    "\n",
    "df = pd.DataFrame(data)\n",
    "df"
   ]
  },
  {
   "cell_type": "code",
   "execution_count": 38,
   "metadata": {},
   "outputs": [
    {
     "name": "stdout",
     "output_type": "stream",
     "text": [
      "     data\n",
      "key      \n",
      "A       3\n",
      "B       5\n",
      "C       7\n"
     ]
    }
   ],
   "source": [
    "print(df_group.sum()) "
   ]
  },
  {
   "cell_type": "markdown",
   "metadata": {},
   "source": [
    "VD 4.8.2.3"
   ]
  },
  {
   "cell_type": "code",
   "execution_count": 39,
   "metadata": {},
   "outputs": [
    {
     "name": "stdout",
     "output_type": "stream",
     "text": [
      "df: \n",
      "   key  giatri_1  giatri_2\n",
      "0   A        63         7\n",
      "1   B        62         8\n",
      "2   C        81         8\n",
      "3   A        49         2\n",
      "4   B        57         4\n",
      "5   C        63         0\n"
     ]
    }
   ],
   "source": [
    "df = pd.DataFrame(\n",
    "    {\n",
    "        'key':['A','B','C','A','B','C'],\n",
    "        'giatri_1':np.random.randint(10,100,6),  'giatri_2':np.random.randint(0,10,6)  \n",
    "        },\n",
    "        columns=['key','giatri_1','giatri_2']\n",
    ")\n",
    "print(\"df: \\n\",df)\n"
   ]
  },
  {
   "cell_type": "code",
   "execution_count": 40,
   "metadata": {},
   "outputs": [
    {
     "name": "stdout",
     "output_type": "stream",
     "text": [
      "\n",
      "key:  A\n",
      "value: \n",
      "   key  giatri_1  giatri_2\n",
      "0   A        63         7\n",
      "3   A        49         2\n",
      "\n",
      "key:  B\n",
      "value: \n",
      "   key  giatri_1  giatri_2\n",
      "1   B        62         8\n",
      "4   B        57         4\n",
      "\n",
      "key:  C\n",
      "value: \n",
      "   key  giatri_1  giatri_2\n",
      "2   C        81         8\n",
      "5   C        63         0\n"
     ]
    }
   ],
   "source": [
    "for key, giatri in df.groupby('key'):\n",
    "    print(\"\\nkey: \",key)\n",
    "    print(\"value: \\n\",giatri)"
   ]
  },
  {
   "cell_type": "markdown",
   "metadata": {},
   "source": [
    "VD 4.8.2.4"
   ]
  },
  {
   "cell_type": "code",
   "execution_count": 41,
   "metadata": {},
   "outputs": [
    {
     "name": "stdout",
     "output_type": "stream",
     "text": [
      "  key  giatri_1  giatri_2\n",
      "0   A        63         7\n",
      "3   A        49         2\n"
     ]
    }
   ],
   "source": [
    "print(df.groupby('key').get_group('A'))"
   ]
  },
  {
   "cell_type": "code",
   "execution_count": 42,
   "metadata": {},
   "outputs": [
    {
     "name": "stdout",
     "output_type": "stream",
     "text": [
      "  key  giatri_1  giatri_2\n",
      "1   B        62         8\n",
      "4   B        57         4\n"
     ]
    }
   ],
   "source": [
    "print(df.groupby('key').get_group('B'))"
   ]
  },
  {
   "cell_type": "code",
   "execution_count": 43,
   "metadata": {},
   "outputs": [
    {
     "name": "stdout",
     "output_type": "stream",
     "text": [
      "  key  giatri_1  giatri_2\n",
      "2   C        81         8\n",
      "5   C        63         0\n"
     ]
    }
   ],
   "source": [
    "print(df.groupby('key').get_group('C'))"
   ]
  },
  {
   "cell_type": "markdown",
   "metadata": {},
   "source": [
    "VD 4.8.2.5"
   ]
  },
  {
   "cell_type": "code",
   "execution_count": 47,
   "metadata": {},
   "outputs": [
    {
     "name": "stdout",
     "output_type": "stream",
     "text": [
      "  key  giatri_1  giatri_2\n",
      "0   A        63         7\n",
      "1   B        62         8\n",
      "2   C        81         8\n",
      "3   A        49         2\n",
      "4   B        57         4\n",
      "5   C        63         0\n"
     ]
    },
    {
     "data": {
      "text/html": [
       "<div>\n",
       "<style scoped>\n",
       "    .dataframe tbody tr th:only-of-type {\n",
       "        vertical-align: middle;\n",
       "    }\n",
       "\n",
       "    .dataframe tbody tr th {\n",
       "        vertical-align: top;\n",
       "    }\n",
       "\n",
       "    .dataframe thead tr th {\n",
       "        text-align: left;\n",
       "    }\n",
       "\n",
       "    .dataframe thead tr:last-of-type th {\n",
       "        text-align: right;\n",
       "    }\n",
       "</style>\n",
       "<table border=\"1\" class=\"dataframe\">\n",
       "  <thead>\n",
       "    <tr>\n",
       "      <th></th>\n",
       "      <th colspan=\"2\" halign=\"left\">giatri_1</th>\n",
       "    </tr>\n",
       "    <tr>\n",
       "      <th></th>\n",
       "      <th>sum</th>\n",
       "      <th>mean</th>\n",
       "    </tr>\n",
       "    <tr>\n",
       "      <th>key</th>\n",
       "      <th></th>\n",
       "      <th></th>\n",
       "    </tr>\n",
       "  </thead>\n",
       "  <tbody>\n",
       "    <tr>\n",
       "      <th>A</th>\n",
       "      <td>112</td>\n",
       "      <td>56.0</td>\n",
       "    </tr>\n",
       "    <tr>\n",
       "      <th>B</th>\n",
       "      <td>119</td>\n",
       "      <td>59.5</td>\n",
       "    </tr>\n",
       "    <tr>\n",
       "      <th>C</th>\n",
       "      <td>144</td>\n",
       "      <td>72.0</td>\n",
       "    </tr>\n",
       "  </tbody>\n",
       "</table>\n",
       "</div>"
      ],
      "text/plain": [
       "    giatri_1      \n",
       "         sum  mean\n",
       "key               \n",
       "A        112  56.0\n",
       "B        119  59.5\n",
       "C        144  72.0"
      ]
     },
     "execution_count": 47,
     "metadata": {},
     "output_type": "execute_result"
    }
   ],
   "source": [
    "print(df)\n",
    "grouped = df.groupby('key')\n",
    "result = grouped.aggregate({'giatri_1':['sum', 'mean']})\n",
    "result"
   ]
  },
  {
   "cell_type": "markdown",
   "metadata": {},
   "source": [
    "VD 4.8.2.6"
   ]
  },
  {
   "cell_type": "code",
   "execution_count": 48,
   "metadata": {},
   "outputs": [
    {
     "name": "stdout",
     "output_type": "stream",
     "text": [
      "  key  giatri_1  giatri_2\n",
      "0   A        63         7\n",
      "1   B        62         8\n",
      "2   C        81         8\n",
      "3   A        49         2\n",
      "4   B        57         4\n",
      "5   C        63         0\n"
     ]
    },
    {
     "data": {
      "text/html": [
       "<div>\n",
       "<style scoped>\n",
       "    .dataframe tbody tr th:only-of-type {\n",
       "        vertical-align: middle;\n",
       "    }\n",
       "\n",
       "    .dataframe tbody tr th {\n",
       "        vertical-align: top;\n",
       "    }\n",
       "\n",
       "    .dataframe thead th {\n",
       "        text-align: right;\n",
       "    }\n",
       "</style>\n",
       "<table border=\"1\" class=\"dataframe\">\n",
       "  <thead>\n",
       "    <tr style=\"text-align: right;\">\n",
       "      <th></th>\n",
       "      <th>giatri_1</th>\n",
       "      <th>giatri_2</th>\n",
       "    </tr>\n",
       "    <tr>\n",
       "      <th>key</th>\n",
       "      <th></th>\n",
       "      <th></th>\n",
       "    </tr>\n",
       "  </thead>\n",
       "  <tbody>\n",
       "    <tr>\n",
       "      <th>A</th>\n",
       "      <td>112</td>\n",
       "      <td>4.5</td>\n",
       "    </tr>\n",
       "    <tr>\n",
       "      <th>B</th>\n",
       "      <td>119</td>\n",
       "      <td>6.0</td>\n",
       "    </tr>\n",
       "    <tr>\n",
       "      <th>C</th>\n",
       "      <td>144</td>\n",
       "      <td>4.0</td>\n",
       "    </tr>\n",
       "  </tbody>\n",
       "</table>\n",
       "</div>"
      ],
      "text/plain": [
       "     giatri_1  giatri_2\n",
       "key                    \n",
       "A         112       4.5\n",
       "B         119       6.0\n",
       "C         144       4.0"
      ]
     },
     "execution_count": 48,
     "metadata": {},
     "output_type": "execute_result"
    }
   ],
   "source": [
    "print(df)\n",
    "groupped = df.groupby('key')\n",
    "result = grouped.agg(\n",
    "    {\n",
    "        'giatri_1':sum, 'giatri_2':lambda x:x.mean()  \n",
    "        })\n",
    "result"
   ]
  },
  {
   "cell_type": "markdown",
   "metadata": {},
   "source": [
    "VD 4.8.2.7"
   ]
  },
  {
   "cell_type": "code",
   "execution_count": 50,
   "metadata": {},
   "outputs": [
    {
     "data": {
      "text/plain": [
       "0    0.707107\n",
       "1    0.707107\n",
       "2    0.707107\n",
       "3   -0.707107\n",
       "4   -0.707107\n",
       "5   -0.707107\n",
       "Name: giatri_1, dtype: float64"
      ]
     },
     "execution_count": 50,
     "metadata": {},
     "output_type": "execute_result"
    }
   ],
   "source": [
    "grouped = df.groupby('key')\n",
    "normalized = (df['giatri_1'] - grouped['giatri_1'].transform('mean')) / grouped['giatri_1'].transform('std')\n",
    "normalized"
   ]
  },
  {
   "cell_type": "markdown",
   "metadata": {},
   "source": [
    "VD 4.8.2.8"
   ]
  },
  {
   "cell_type": "code",
   "execution_count": 52,
   "metadata": {},
   "outputs": [
    {
     "name": "stdout",
     "output_type": "stream",
     "text": [
      "  key  giatri_1  giatri_2\n",
      "0   A        63         7\n",
      "1   B        62         8\n",
      "2   C        81         8\n",
      "3   A        49         2\n",
      "4   B        57         4\n",
      "5   C        63         0\n",
      "filtered: \n",
      "   key  giatri_1  giatri_2\n",
      "1   B        62         8\n",
      "4   B        57         4\n"
     ]
    }
   ],
   "source": [
    "print(df)\n",
    "# Lọc các nhóm có giá trị 2 trung bình lớn hơn 5\n",
    "filtered = grouped.filter(lambda x: x['giatri_2'].mean() > 5) \n",
    "\n",
    "# In nội dung của DataFrame 'filtered'\n",
    "print(\"filtered: \\n\", filtered)"
   ]
  },
  {
   "cell_type": "markdown",
   "metadata": {},
   "source": [
    "VD 4.8.2.9"
   ]
  },
  {
   "cell_type": "code",
   "execution_count": 54,
   "metadata": {},
   "outputs": [
    {
     "name": "stdout",
     "output_type": "stream",
     "text": [
      "  key  value\n",
      "0   A      1\n",
      "1   A      2\n",
      "2   B      3\n",
      "3   B      4\n",
      "4   C      5\n",
      "5   C      6\n",
      "Result: \n",
      " key\n",
      "A     3\n",
      "B     7\n",
      "C    11\n",
      "Name: value, dtype: int64\n"
     ]
    }
   ],
   "source": [
    "# DataFrame gốc\n",
    "df = pd.DataFrame({'key': ['A','A','B','B', 'C', 'C'],  \n",
    "                   'value': [1, 2, 3, 4, 5, 6]}) \n",
    "\n",
    "# Gom nhóm dữ liệu theo cột 'key'\n",
    "grouped = df.groupby('key')\n",
    "\n",
    "# Áp dụng hàm sum() lên cột 'value' của mỗi nhóm\n",
    "result = grouped['value'].apply(sum)\n",
    "\n",
    "print(df)\n",
    "\n",
    "# In kết quả\n",
    "print(\"Result: \\n\", result)"
   ]
  },
  {
   "cell_type": "markdown",
   "metadata": {},
   "source": [
    "VD 4.8.2.10"
   ]
  },
  {
   "cell_type": "code",
   "execution_count": 57,
   "metadata": {},
   "outputs": [
    {
     "name": "stdout",
     "output_type": "stream",
     "text": [
      "\n",
      " DataFrame df \n",
      "   key  value\n",
      "0   A      1\n",
      "1   A      2\n",
      "2   B      3\n",
      "3   B      4\n",
      "4   C      5\n",
      "5   C      6\n",
      "Result2: \n",
      " key       \n",
      "A    count    2.000000\n",
      "     mean     1.500000\n",
      "     std      0.707107\n",
      "     min      1.000000\n",
      "     25%      1.250000\n",
      "     50%      1.500000\n",
      "     75%      1.750000\n",
      "     max      2.000000\n",
      "B    count    2.000000\n",
      "     mean     3.500000\n",
      "     std      0.707107\n",
      "     min      3.000000\n",
      "     25%      3.250000\n",
      "     50%      3.500000\n",
      "     75%      3.750000\n",
      "     max      4.000000\n",
      "C    count    2.000000\n",
      "     mean     5.500000\n",
      "     std      0.707107\n",
      "     min      5.000000\n",
      "     25%      5.250000\n",
      "     50%      5.500000\n",
      "     75%      5.750000\n",
      "     max      6.000000\n",
      "Name: value, dtype: float64\n"
     ]
    }
   ],
   "source": [
    "# Áp dụng hàm describe() lên cột 'value' của mỗi nhóm\n",
    "result2 = grouped['value'].apply(lambda x: x.describe()) \n",
    "\n",
    "print(\"\\n DataFrame df \\n\", df)\n",
    "\n",
    "# In kết quả\n",
    "print(\"Result2: \\n\", result2)"
   ]
  }
 ],
 "metadata": {
  "kernelspec": {
   "display_name": "Python 3",
   "language": "python",
   "name": "python3"
  },
  "language_info": {
   "codemirror_mode": {
    "name": "ipython",
    "version": 3
   },
   "file_extension": ".py",
   "mimetype": "text/x-python",
   "name": "python",
   "nbconvert_exporter": "python",
   "pygments_lexer": "ipython3",
   "version": "3.11.5"
  }
 },
 "nbformat": 4,
 "nbformat_minor": 2
}
