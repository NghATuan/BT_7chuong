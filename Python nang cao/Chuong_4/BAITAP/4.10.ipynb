{
 "cells": [
  {
   "cell_type": "code",
   "execution_count": 1,
   "metadata": {},
   "outputs": [
    {
     "name": "stdout",
     "output_type": "stream",
     "text": [
      "Vị trí của các số là bội của 3 trong ser:\n",
      "Index([5, 6], dtype='int64')\n"
     ]
    }
   ],
   "source": [
    "import pandas as pd\n",
    "import numpy as np\n",
    "\n",
    "# Tạo dữ liệu đầu vào\n",
    "ser = pd.Series(np.random.randint(1, 10, 7))\n",
    "\n",
    "# Tìm vị trí của các số là bội của 3\n",
    "indices = ser.index[ser % 3 == 0]\n",
    "\n",
    "# In kết quả\n",
    "print(\"Vị trí của các số là bội của 3 trong ser:\")\n",
    "print(indices)"
   ]
  }
 ],
 "metadata": {
  "kernelspec": {
   "display_name": "Python 3",
   "language": "python",
   "name": "python3"
  },
  "language_info": {
   "codemirror_mode": {
    "name": "ipython",
    "version": 3
   },
   "file_extension": ".py",
   "mimetype": "text/x-python",
   "name": "python",
   "nbconvert_exporter": "python",
   "pygments_lexer": "ipython3",
   "version": "3.11.5"
  }
 },
 "nbformat": 4,
 "nbformat_minor": 2
}
