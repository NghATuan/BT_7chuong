{
 "cells": [
  {
   "cell_type": "code",
   "execution_count": 1,
   "metadata": {},
   "outputs": [],
   "source": [
    "import pandas as pd\n",
    "\n",
    "# Tạo dữ liệu đầu vào\n",
    "ser1 = pd.Series(range(5))\n",
    "ser2 = pd.Series(list('abcde'))"
   ]
  },
  {
   "cell_type": "code",
   "execution_count": 2,
   "metadata": {},
   "outputs": [],
   "source": [
    "# Xếp chồng theo chiều dọc (axis=0)\n",
    "df_vertical = pd.concat([ser1, ser2], axis=0, ignore_index=True)\n",
    "\n",
    "# Xếp chồng theo chiều ngang (axis=1)\n",
    "df_horizontal = pd.concat([ser1, ser2], axis=1, keys=['ser1', 'ser2'])"
   ]
  },
  {
   "cell_type": "code",
   "execution_count": 3,
   "metadata": {},
   "outputs": [
    {
     "name": "stdout",
     "output_type": "stream",
     "text": [
      "Xếp chồng theo chiều dọc:\n",
      "0    0\n",
      "1    1\n",
      "2    2\n",
      "3    3\n",
      "4    4\n",
      "5    a\n",
      "6    b\n",
      "7    c\n",
      "8    d\n",
      "9    e\n",
      "dtype: object\n",
      "\n",
      "Xếp chồng theo chiều ngang:\n",
      "   ser1 ser2\n",
      "0     0    a\n",
      "1     1    b\n",
      "2     2    c\n",
      "3     3    d\n",
      "4     4    e\n"
     ]
    }
   ],
   "source": [
    "# In kết quả\n",
    "print(\"Xếp chồng theo chiều dọc:\")\n",
    "print(df_vertical)\n",
    "\n",
    "print(\"\\nXếp chồng theo chiều ngang:\")\n",
    "print(df_horizontal)"
   ]
  }
 ],
 "metadata": {
  "kernelspec": {
   "display_name": "Python 3",
   "language": "python",
   "name": "python3"
  },
  "language_info": {
   "codemirror_mode": {
    "name": "ipython",
    "version": 3
   },
   "file_extension": ".py",
   "mimetype": "text/x-python",
   "name": "python",
   "nbconvert_exporter": "python",
   "pygments_lexer": "ipython3",
   "version": "3.11.5"
  }
 },
 "nbformat": 4,
 "nbformat_minor": 2
}
