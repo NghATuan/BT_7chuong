{
 "cells": [
  {
   "cell_type": "code",
   "execution_count": 1,
   "metadata": {},
   "outputs": [
    {
     "name": "stdout",
     "output_type": "stream",
     "text": [
      "   0  1  2  3  4\n",
      "0  7  3  3  4  3\n",
      "1  5  4  1  2  3\n",
      "2  1  5  7  5  2\n",
      "3  2  2  2  4  4\n",
      "4  7  7  2  4  8\n",
      "5  7  3  1  3  2\n",
      "6  3  5  3  3  8\n"
     ]
    }
   ],
   "source": [
    "import pandas as pd\n",
    "import numpy as np\n",
    "\n",
    "# Tạo dữ liệu đầu vào\n",
    "ser = pd.Series(np.random.randint(1, 10, 35))\n",
    "\n",
    "# Định hình lại thành DataFrame 7x5\n",
    "df = pd.DataFrame(np.array(ser).reshape(7, 5))\n",
    "\n",
    "# In kết quả\n",
    "print(df)"
   ]
  }
 ],
 "metadata": {
  "kernelspec": {
   "display_name": "Python 3",
   "language": "python",
   "name": "python3"
  },
  "language_info": {
   "codemirror_mode": {
    "name": "ipython",
    "version": 3
   },
   "file_extension": ".py",
   "mimetype": "text/x-python",
   "name": "python",
   "nbconvert_exporter": "python",
   "pygments_lexer": "ipython3",
   "version": "3.11.5"
  }
 },
 "nbformat": 4,
 "nbformat_minor": 2
}
