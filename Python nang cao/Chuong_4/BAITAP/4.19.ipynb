{
 "cells": [
  {
   "cell_type": "code",
   "execution_count": 1,
   "metadata": {},
   "outputs": [
    {
     "name": "stdout",
     "output_type": "stream",
     "text": [
      "Khối lượng trung bình của từng loại quả:\n",
      "fruit\n",
      "apple     6.20\n",
      "banana    5.25\n",
      "carrot    3.00\n",
      "Name: weight, dtype: float64\n"
     ]
    }
   ],
   "source": [
    "import pandas as pd\n",
    "import numpy as np\n",
    "\n",
    "# Tạo dữ liệu đầu vào\n",
    "fruit = pd.Series(np.random.choice(['apple', 'banana', 'carrot'], 10))\n",
    "weights = pd.Series(np.linspace(1, 10, 10))\n",
    "\n",
    "# Tạo DataFrame từ hai Series\n",
    "df = pd.DataFrame({'fruit': fruit, 'weight': weights})\n",
    "\n",
    "# Tính khối lượng trung bình của từng loại quả\n",
    "average_weights = df.groupby('fruit')['weight'].mean()\n",
    "\n",
    "# In kết quả\n",
    "print(\"Khối lượng trung bình của từng loại quả:\")\n",
    "print(average_weights)"
   ]
  }
 ],
 "metadata": {
  "kernelspec": {
   "display_name": "Python 3",
   "language": "python",
   "name": "python3"
  },
  "language_info": {
   "codemirror_mode": {
    "name": "ipython",
    "version": 3
   },
   "file_extension": ".py",
   "mimetype": "text/x-python",
   "name": "python",
   "nbconvert_exporter": "python",
   "pygments_lexer": "ipython3",
   "version": "3.11.5"
  }
 },
 "nbformat": 4,
 "nbformat_minor": 2
}
