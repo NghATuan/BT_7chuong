{
 "cells": [
  {
   "cell_type": "code",
   "execution_count": 1,
   "metadata": {},
   "outputs": [
    {
     "name": "stdout",
     "output_type": "stream",
     "text": [
      "Series sau khi chuyển đổi thành chuỗi thời gian:\n",
      "0   2010-01-01\n",
      "1          NaT\n",
      "2          NaT\n",
      "3          NaT\n",
      "4          NaT\n",
      "5          NaT\n",
      "dtype: datetime64[ns]\n"
     ]
    }
   ],
   "source": [
    "import pandas as pd\n",
    "\n",
    "# Tạo dữ liệu đầu vào\n",
    "ser = pd.Series(['01 Jan 2010', '02-02-2011', '20120303','2013/04/04', '2014-05-05', '2015-06-06T12:20'])\n",
    "\n",
    "# Chuyển đổi Series thành chuỗi thời gian\n",
    "date_series = pd.to_datetime(ser, errors='coerce')\n",
    "\n",
    "# In kết quả\n",
    "print(\"Series sau khi chuyển đổi thành chuỗi thời gian:\")\n",
    "print(date_series)"
   ]
  }
 ],
 "metadata": {
  "kernelspec": {
   "display_name": "Python 3",
   "language": "python",
   "name": "python3"
  },
  "language_info": {
   "codemirror_mode": {
    "name": "ipython",
    "version": 3
   },
   "file_extension": ".py",
   "mimetype": "text/x-python",
   "name": "python",
   "nbconvert_exporter": "python",
   "pygments_lexer": "ipython3",
   "version": "3.11.5"
  }
 },
 "nbformat": 4,
 "nbformat_minor": 2
}
