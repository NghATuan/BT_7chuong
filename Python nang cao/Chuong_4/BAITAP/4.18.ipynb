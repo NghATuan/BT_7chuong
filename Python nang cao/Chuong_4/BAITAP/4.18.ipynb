{
 "cells": [
  {
   "cell_type": "code",
   "execution_count": 1,
   "metadata": {},
   "outputs": [
    {
     "name": "stdout",
     "output_type": "stream",
     "text": [
      "Chuỗi là địa chỉ email hợp lệ:\n",
      "1    rameses@egypt.com\n",
      "2            matt@t.co\n",
      "3    narendra@modi.com\n",
      "dtype: object\n"
     ]
    }
   ],
   "source": [
    "import pandas as pd\n",
    "import re\n",
    "\n",
    "# Tạo dữ liệu đầu vào\n",
    "emails = pd.Series(['buying books at amazom.com', 'rameses@egypt.com', 'matt@t.co', 'narendra@modi.com'])\n",
    "\n",
    "# Mẫu regex\n",
    "pattern = r\"[A-Za-z0-9._%+-]+@[A-Za-z0-9-]+\\.[A-Za-z]{2,4}\"\n",
    "\n",
    "# Tìm kiếm và trích xuất địa chỉ email hợp lệ\n",
    "valid_emails = emails[emails.str.contains(pattern, regex=True, na=False)]\n",
    "\n",
    "# In kết quả\n",
    "print(\"Chuỗi là địa chỉ email hợp lệ:\")\n",
    "print(valid_emails)"
   ]
  }
 ],
 "metadata": {
  "kernelspec": {
   "display_name": "Python 3",
   "language": "python",
   "name": "python3"
  },
  "language_info": {
   "codemirror_mode": {
    "name": "ipython",
    "version": 3
   },
   "file_extension": ".py",
   "mimetype": "text/x-python",
   "name": "python",
   "nbconvert_exporter": "python",
   "pygments_lexer": "ipython3",
   "version": "3.11.5"
  }
 },
 "nbformat": 4,
 "nbformat_minor": 2
}
