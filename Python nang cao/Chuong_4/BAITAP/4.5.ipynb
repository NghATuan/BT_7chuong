{
 "cells": [
  {
   "cell_type": "code",
   "execution_count": 4,
   "metadata": {},
   "outputs": [],
   "source": [
    "import pandas as pd\n",
    "import numpy as np\n",
    "\n",
    "# Tạo Series ser với dữ liệu ngẫu nhiên theo phân phối normal\n",
    "ser = pd.Series(np.random.normal(10, 5, 25))"
   ]
  },
  {
   "cell_type": "code",
   "execution_count": 5,
   "metadata": {},
   "outputs": [
    {
     "name": "stdout",
     "output_type": "stream",
     "text": [
      "1. Giá trị tối thiểu của ser: -0.8240040540626126\n"
     ]
    }
   ],
   "source": [
    "# 1. Giá trị tối thiểu (minimum) của ser\n",
    "min_value = ser.min()\n",
    "print(\"1. Giá trị tối thiểu của ser:\", min_value)"
   ]
  },
  {
   "cell_type": "code",
   "execution_count": 6,
   "metadata": {},
   "outputs": [
    {
     "name": "stdout",
     "output_type": "stream",
     "text": [
      "2. Phần centile thứ 25 của ser: 5.85763391159851\n"
     ]
    }
   ],
   "source": [
    "# 2. Phần centile thứ 25 (25th percentile) của ser\n",
    "percentile_25 = ser.quantile(0.25)\n",
    "print(\"2. Phần centile thứ 25 của ser:\", percentile_25)"
   ]
  },
  {
   "cell_type": "code",
   "execution_count": 7,
   "metadata": {},
   "outputs": [
    {
     "name": "stdout",
     "output_type": "stream",
     "text": [
      "3. Trung vị của ser: 7.637453434394318\n"
     ]
    }
   ],
   "source": [
    "# 3. Trung vị (median) của ser\n",
    "median_value = ser.median()\n",
    "print(\"3. Trung vị của ser:\", median_value)"
   ]
  },
  {
   "cell_type": "code",
   "execution_count": 8,
   "metadata": {},
   "outputs": [
    {
     "name": "stdout",
     "output_type": "stream",
     "text": [
      "4. Phần centile thứ 75 của ser: 12.217366316129977\n"
     ]
    }
   ],
   "source": [
    "# 4. Phần centile thứ 75 (75th percentile) của ser\n",
    "percentile_75 = ser.quantile(0.75)\n",
    "print(\"4. Phần centile thứ 75 của ser:\", percentile_75)"
   ]
  },
  {
   "cell_type": "code",
   "execution_count": 9,
   "metadata": {},
   "outputs": [
    {
     "name": "stdout",
     "output_type": "stream",
     "text": [
      "5. Giá trị tối đa của ser: 22.67383723392677\n"
     ]
    }
   ],
   "source": [
    "# 5. Giá trị tối đa (maximum) của ser\n",
    "max_value = ser.max()\n",
    "print(\"5. Giá trị tối đa của ser:\", max_value)"
   ]
  }
 ],
 "metadata": {
  "kernelspec": {
   "display_name": "Python 3",
   "language": "python",
   "name": "python3"
  },
  "language_info": {
   "codemirror_mode": {
    "name": "ipython",
    "version": 3
   },
   "file_extension": ".py",
   "mimetype": "text/x-python",
   "name": "python",
   "nbconvert_exporter": "python",
   "pygments_lexer": "ipython3",
   "version": "3.11.5"
  }
 },
 "nbformat": 4,
 "nbformat_minor": 2
}
