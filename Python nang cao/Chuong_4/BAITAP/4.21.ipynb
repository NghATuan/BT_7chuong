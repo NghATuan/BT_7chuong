{
 "cells": [
  {
   "cell_type": "code",
   "execution_count": 1,
   "metadata": {},
   "outputs": [],
   "source": [
    "import pandas as pd\n",
    "\n",
    "# 1. Đọc dữ liệu từ tập tin 'drinks.csv'\n",
    "drink = pd.read_csv('drinks.csv', index_col=0)"
   ]
  },
  {
   "cell_type": "code",
   "execution_count": 2,
   "metadata": {},
   "outputs": [
    {
     "name": "stdout",
     "output_type": "stream",
     "text": [
      "Kiểu dữ liệu của drink:\n",
      "<class 'pandas.core.frame.DataFrame'>\n",
      "\n",
      "Kích thước của drink:\n",
      "(193, 6)\n",
      "\n",
      "Tên các cột của drink:\n",
      "Index(['country', 'beer_servings', 'spirit_servings', 'wine_servings',\n",
      "       'total_litres_of_pure_alcohol', 'continent'],\n",
      "      dtype='object')\n",
      "\n",
      "5 dòng dữ liệu đầu tiên của drink:\n",
      "       country  beer_servings  spirit_servings  wine_servings  \\\n",
      "0  Afghanistan              0                0              0   \n",
      "1      Albania             89              132             54   \n",
      "2      Algeria             25                0             14   \n",
      "3      Andorra            245              138            312   \n",
      "4       Angola            217               57             45   \n",
      "\n",
      "   total_litres_of_pure_alcohol continent  \n",
      "0                           0.0        AS  \n",
      "1                           4.9        EU  \n",
      "2                           0.7        AF  \n",
      "3                          12.4        EU  \n",
      "4                           5.9        AF  \n",
      "\n",
      "5 dòng dữ liệu cuối cùng của drink:\n",
      "       country  beer_servings  spirit_servings  wine_servings  \\\n",
      "188  Venezuela            333              100              3   \n",
      "189    Vietnam            111                2              1   \n",
      "190      Yemen              6                0              0   \n",
      "191     Zambia             32               19              4   \n",
      "192   Zimbabwe             64               18              4   \n",
      "\n",
      "     total_litres_of_pure_alcohol continent  \n",
      "188                           7.7        SA  \n",
      "189                           2.0        AS  \n",
      "190                           0.1        AS  \n",
      "191                           2.5        AF  \n",
      "192                           4.7        AF  \n"
     ]
    }
   ],
   "source": [
    "# In kiểu dữ liệu, kích thước, tên cột, và xem 5 dòng đầu tiên và cuối cùng của drink\n",
    "print(\"Kiểu dữ liệu của drink:\")\n",
    "print(type(drink))\n",
    "\n",
    "print(\"\\nKích thước của drink:\")\n",
    "print(drink.shape)\n",
    "\n",
    "print(\"\\nTên các cột của drink:\")\n",
    "print(drink.columns)\n",
    "\n",
    "print(\"\\n5 dòng dữ liệu đầu tiên của drink:\")\n",
    "print(drink.head())\n",
    "\n",
    "print(\"\\n5 dòng dữ liệu cuối cùng của drink:\")\n",
    "print(drink.tail())"
   ]
  },
  {
   "cell_type": "code",
   "execution_count": 3,
   "metadata": {},
   "outputs": [
    {
     "name": "stdout",
     "output_type": "stream",
     "text": [
      "\n",
      "Số lượng bia tiêu thụ trung bình ở mỗi châu lục:\n",
      "continent\n",
      "AF     61.471698\n",
      "AS     37.045455\n",
      "EU    193.777778\n",
      "OC     89.687500\n",
      "SA    175.083333\n",
      "Name: beer_servings, dtype: float64\n"
     ]
    }
   ],
   "source": [
    "# 2. Số lượng bia tiêu thụ trung bình ở mỗi châu lục\n",
    "average_beer_consumption = drink.groupby('continent')['beer_servings'].mean()\n",
    "print(\"\\nSố lượng bia tiêu thụ trung bình ở mỗi châu lục:\")\n",
    "print(average_beer_consumption)"
   ]
  },
  {
   "cell_type": "code",
   "execution_count": 4,
   "metadata": {},
   "outputs": [
    {
     "name": "stdout",
     "output_type": "stream",
     "text": [
      "\n",
      "Thông tin thống kê tổng quát về số lượng rượu vang được tiêu thụ ở mỗi châu lục:\n",
      "           count        mean        std  min   25%    50%     75%    max\n",
      "continent                                                               \n",
      "AF          53.0   16.264151  38.846419  0.0   1.0    2.0   13.00  233.0\n",
      "AS          44.0    9.068182  21.667034  0.0   0.0    1.0    8.00  123.0\n",
      "EU          45.0  142.222222  97.421738  0.0  59.0  128.0  195.00  370.0\n",
      "OC          16.0   35.625000  64.555790  0.0   1.0    8.5   23.25  212.0\n",
      "SA          12.0   62.416667  88.620189  1.0   3.0   12.0   98.50  221.0\n"
     ]
    }
   ],
   "source": [
    "# 3. Thông tin thống kê tổng quát về số lượng rượu vang được tiêu thụ ở mỗi châu lục\n",
    "wine_stats = drink.groupby('continent')['wine_servings'].describe()\n",
    "print(\"\\nThông tin thống kê tổng quát về số lượng rượu vang được tiêu thụ ở mỗi châu lục:\")\n",
    "print(wine_stats)"
   ]
  },
  {
   "cell_type": "code",
   "execution_count": 5,
   "metadata": {},
   "outputs": [
    {
     "name": "stdout",
     "output_type": "stream",
     "text": [
      "\n",
      "Số lượng các loại bia và rượu tiêu thụ trung bình ở mỗi châu lục:\n",
      "           beer_servings  spirit_servings  wine_servings\n",
      "continent                                               \n",
      "AF             61.471698        16.339623      16.264151\n",
      "AS             37.045455        60.840909       9.068182\n",
      "EU            193.777778       132.555556     142.222222\n",
      "OC             89.687500        58.437500      35.625000\n",
      "SA            175.083333       114.750000      62.416667\n"
     ]
    }
   ],
   "source": [
    "# 4. Số lượng các loại bia và rượu tiêu thụ trung bình ở mỗi châu lục\n",
    "average_drinks = drink.groupby('continent')[['beer_servings', 'spirit_servings', 'wine_servings']].mean()\n",
    "print(\"\\nSố lượng các loại bia và rượu tiêu thụ trung bình ở mỗi châu lục:\")\n",
    "print(average_drinks)"
   ]
  },
  {
   "cell_type": "code",
   "execution_count": 6,
   "metadata": {},
   "outputs": [
    {
     "name": "stdout",
     "output_type": "stream",
     "text": [
      "\n",
      "Giá trị trung vị cho các loại bia và rượu tiêu thụ ở mỗi châu lục:\n",
      "           beer_servings  spirit_servings  wine_servings\n",
      "continent                                               \n",
      "AF                  32.0              3.0            2.0\n",
      "AS                  17.5             16.0            1.0\n",
      "EU                 219.0            122.0          128.0\n",
      "OC                  52.5             37.0            8.5\n",
      "SA                 162.5            108.5           12.0\n"
     ]
    }
   ],
   "source": [
    "# 5. Giá trị trung vị cho các loại bia và rượu tiêu thụ ở mỗi châu lục\n",
    "median_drinks = drink.groupby('continent')[['beer_servings', 'spirit_servings', 'wine_servings']].median()\n",
    "print(\"\\nGiá trị trung vị cho các loại bia và rượu tiêu thụ ở mỗi châu lục:\")\n",
    "print(median_drinks)"
   ]
  },
  {
   "cell_type": "code",
   "execution_count": 7,
   "metadata": {},
   "outputs": [
    {
     "name": "stdout",
     "output_type": "stream",
     "text": [
      "\n",
      "Số lượng rượu mạnh tiêu thụ trung bình ở mỗi châu lục:\n",
      "continent\n",
      "AF     16.339623\n",
      "AS     60.840909\n",
      "EU    132.555556\n",
      "OC     58.437500\n",
      "SA    114.750000\n",
      "Name: spirit_servings, dtype: float64\n",
      "\n",
      "Số lượng rượu mạnh tiêu thụ lớn nhất ở mỗi châu lục:\n",
      "continent\n",
      "AF    152\n",
      "AS    326\n",
      "EU    373\n",
      "OC    254\n",
      "SA    302\n",
      "Name: spirit_servings, dtype: int64\n",
      "\n",
      "Số lượng rượu mạnh tiêu thụ nhỏ nhất ở mỗi châu lục:\n",
      "continent\n",
      "AF     0\n",
      "AS     0\n",
      "EU     0\n",
      "OC     0\n",
      "SA    25\n",
      "Name: spirit_servings, dtype: int64\n"
     ]
    }
   ],
   "source": [
    "# 6. Số lượng rượu mạnh tiêu thụ trung bình, lớn nhất và nhỏ nhất ở mỗi châu lục\n",
    "average_spirit_servings = drink.groupby('continent')['spirit_servings'].mean()\n",
    "max_spirit_servings = drink.groupby('continent')['spirit_servings'].max()\n",
    "min_spirit_servings = drink.groupby('continent')['spirit_servings'].min()\n",
    "print(\"\\nSố lượng rượu mạnh tiêu thụ trung bình ở mỗi châu lục:\")\n",
    "print(average_spirit_servings)\n",
    "print(\"\\nSố lượng rượu mạnh tiêu thụ lớn nhất ở mỗi châu lục:\")\n",
    "print(max_spirit_servings)\n",
    "print(\"\\nSố lượng rượu mạnh tiêu thụ nhỏ nhất ở mỗi châu lục:\")\n",
    "print(min_spirit_servings)"
   ]
  },
  {
   "cell_type": "code",
   "execution_count": 8,
   "metadata": {},
   "outputs": [],
   "source": [
    "# 7. Sắp xếp dữ liệu tăng dần theo số lượng bia tiêu thụ\n",
    "sorted_by_beer_consumption = drink.sort_values(by='beer_servings', ascending=True)"
   ]
  },
  {
   "cell_type": "code",
   "execution_count": 9,
   "metadata": {},
   "outputs": [
    {
     "name": "stdout",
     "output_type": "stream",
     "text": [
      "\n",
      "5 quốc gia có lượng tiêu thụ bia nhiều nhất:\n",
      "            country  beer_servings\n",
      "135          Poland            343\n",
      "65          Germany            346\n",
      "62            Gabon            347\n",
      "45   Czech Republic            361\n",
      "117         Namibia            376\n",
      "\n",
      "5 quốc gia có lượng tiêu thụ bia ít nhất:\n",
      "         country  beer_servings\n",
      "0    Afghanistan              0\n",
      "40  Cook Islands              0\n",
      "79          Iran              0\n",
      "90        Kuwait              0\n",
      "97         Libya              0\n"
     ]
    }
   ],
   "source": [
    "# In 5 quốc gia có lượng tiêu thụ bia nhiều nhất\n",
    "print(\"\\n5 quốc gia có lượng tiêu thụ bia nhiều nhất:\")\n",
    "print(sorted_by_beer_consumption[['country', 'beer_servings']].tail())\n",
    "\n",
    "# In 5 quốc gia có lượng tiêu thụ bia ít nhất\n",
    "print(\"\\n5 quốc gia có lượng tiêu thụ bia ít nhất:\")\n",
    "print(sorted_by_beer_consumption[['country', 'beer_servings']].head())"
   ]
  }
 ],
 "metadata": {
  "kernelspec": {
   "display_name": "Python 3",
   "language": "python",
   "name": "python3"
  },
  "language_info": {
   "codemirror_mode": {
    "name": "ipython",
    "version": 3
   },
   "file_extension": ".py",
   "mimetype": "text/x-python",
   "name": "python",
   "nbconvert_exporter": "python",
   "pygments_lexer": "ipython3",
   "version": "3.11.5"
  }
 },
 "nbformat": 4,
 "nbformat_minor": 2
}
