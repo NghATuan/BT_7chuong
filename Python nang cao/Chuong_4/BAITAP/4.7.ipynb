{
 "cells": [
  {
   "cell_type": "code",
   "execution_count": 1,
   "metadata": {},
   "outputs": [
    {
     "name": "stdout",
     "output_type": "stream",
     "text": [
      "Series sau khi thực hiện thay thế:\n",
      "0         1\n",
      "1         1\n",
      "2         4\n",
      "3         4\n",
      "4         4\n",
      "5         4\n",
      "6         1\n",
      "7     Other\n",
      "8     Other\n",
      "9         1\n",
      "10    Other\n",
      "11    Other\n",
      "dtype: object\n"
     ]
    }
   ],
   "source": [
    "import pandas as pd\n",
    "import numpy as np\n",
    "\n",
    "# Tạo dữ liệu đầu vào\n",
    "np.random.seed(100)\n",
    "ser = pd.Series(np.random.randint(1, 5, [12]))\n",
    "\n",
    "# Đếm tần suất xuất hiện của mỗi giá trị\n",
    "value_counts = ser.value_counts()\n",
    "\n",
    "# Lấy hai phần tử có tần suất cao nhất\n",
    "top_two_items = value_counts.head(2).index.tolist()\n",
    "\n",
    "# Thực hiện thay thế\n",
    "ser_replaced = ser.replace({value: 'Other' for value in value_counts.index if value not in top_two_items})\n",
    "\n",
    "# In kết quả\n",
    "print(\"Series sau khi thực hiện thay thế:\")\n",
    "print(ser_replaced)\n"
   ]
  }
 ],
 "metadata": {
  "kernelspec": {
   "display_name": "Python 3",
   "language": "python",
   "name": "python3"
  },
  "language_info": {
   "codemirror_mode": {
    "name": "ipython",
    "version": 3
   },
   "file_extension": ".py",
   "mimetype": "text/x-python",
   "name": "python",
   "nbconvert_exporter": "python",
   "pygments_lexer": "ipython3",
   "version": "3.11.5"
  }
 },
 "nbformat": 4,
 "nbformat_minor": 2
}
