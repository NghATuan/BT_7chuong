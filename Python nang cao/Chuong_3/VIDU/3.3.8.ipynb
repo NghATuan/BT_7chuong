{
 "cells": [
  {
   "cell_type": "code",
   "execution_count": 1,
   "metadata": {},
   "outputs": [
    {
     "name": "stdout",
     "output_type": "stream",
     "text": [
      "[('Minh', 22, 181.3) ('Lan', 40, 160.6) ('Linh', 31, 163.2)\n",
      " ('Lương', 18, 175.5) ('Thanh', 50, 165. )]\n",
      "[('name', '<U20'), ('age', '<i4'), ('height', '<f8')]\n"
     ]
    }
   ],
   "source": [
    "import numpy as np      #vd3.3.8.1\n",
    "\n",
    "# Định nghĩa kiểu dữ liệu cho một Structured Array\n",
    "dtype = [('name', 'U20'), ('age', int), ('height', float)]\n",
    "\n",
    "# Tạo một Structured Array\n",
    "data = np.array([('Minh', 22, 181.3),\n",
    "                 ('Lan', 40, 160.6),\n",
    "                 ('Linh', 31, 163.2),\n",
    "                 ('Lương',18,175.5),\n",
    "                 ('Thanh',50, 165.0)], dtype=dtype)\n",
    "\n",
    "print(data)\n",
    "\n",
    "print(data.dtype)"
   ]
  },
  {
   "cell_type": "code",
   "execution_count": 2,
   "metadata": {},
   "outputs": [
    {
     "name": "stdout",
     "output_type": "stream",
     "text": [
      "['Minh' 'Lan' 'Linh' 'Lương' 'Thanh']\n",
      "[22 40 31 18 50]\n",
      "[181.3 160.6 163.2 175.5 165. ]\n"
     ]
    }
   ],
   "source": [
    "import numpy as np      #vd3.3.8.2\n",
    "\n",
    "# Định nghĩa kiểu dữ liệu cho một Structured Array\n",
    "dtype = [('name', 'U20'), ('age', int), ('height', float)]\n",
    "\n",
    "# Tạo một Structured Array\n",
    "data = np.array([('Minh', 22, 181.3),\n",
    "                 ('Lan', 40, 160.6),\n",
    "                 ('Linh', 31, 163.2),\n",
    "                 ('Lương',18,175.5),\n",
    "                 ('Thanh',50, 165.0)], dtype=dtype)\n",
    "\n",
    "#Truy cập các trường bằng tên\n",
    "print(data['name'])\n",
    "print(data['age'])\n",
    "print(data['height'])\n",
    "\n"
   ]
  }
 ],
 "metadata": {
  "kernelspec": {
   "display_name": "Python 3",
   "language": "python",
   "name": "python3"
  },
  "language_info": {
   "codemirror_mode": {
    "name": "ipython",
    "version": 3
   },
   "file_extension": ".py",
   "mimetype": "text/x-python",
   "name": "python",
   "nbconvert_exporter": "python",
   "pygments_lexer": "ipython3",
   "version": "3.6.8"
  }
 },
 "nbformat": 4,
 "nbformat_minor": 2
}
