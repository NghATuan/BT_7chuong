{
 "cells": [
  {
   "cell_type": "code",
   "execution_count": 1,
   "metadata": {},
   "outputs": [],
   "source": [
    "import numpy as np\n",
    "arr = np.array([1, 2, 3, 4, 5])"
   ]
  },
  {
   "cell_type": "code",
   "execution_count": 2,
   "metadata": {},
   "outputs": [],
   "source": [
    "# Căn bậc hai của các phần tử trong mảng\n",
    "kq_can_hai = np.sqrt(arr)"
   ]
  },
  {
   "cell_type": "code",
   "execution_count": 3,
   "metadata": {},
   "outputs": [],
   "source": [
    "# Lũy thừa 2 của các phần tử trong mảng\n",
    "kq_luy_thua_2 = np.power(arr, 2)"
   ]
  },
  {
   "cell_type": "code",
   "execution_count": 4,
   "metadata": {},
   "outputs": [],
   "source": [
    "# Logarit tự nhiên (cơ số e) của các phần tử trong mảng \n",
    "kq_Logarit = np.log(arr)"
   ]
  },
  {
   "cell_type": "code",
   "execution_count": 6,
   "metadata": {},
   "outputs": [],
   "source": [
    "# Giá trị tuyệt đối của các phần tử trong mảng\n",
    "kq_tri_tuyet_doi = np.abs(arr)"
   ]
  },
  {
   "cell_type": "code",
   "execution_count": 7,
   "metadata": {},
   "outputs": [],
   "source": [
    "# Hàm logic NOT(đảo ngược giá trị) của các phần tử trong mảng\n",
    "kq_not_logic = np.logical_not(arr)"
   ]
  },
  {
   "cell_type": "code",
   "execution_count": 8,
   "metadata": {},
   "outputs": [],
   "source": [
    "# Hàm sin của các phần tử trong mảng\n",
    "kq_sin = np.sin(arr)"
   ]
  },
  {
   "cell_type": "code",
   "execution_count": 9,
   "metadata": {},
   "outputs": [
    {
     "name": "stdout",
     "output_type": "stream",
     "text": [
      "Căn bậc hai của các phần tử trong mảng là: [1.         1.41421356 1.73205081 2.         2.23606798]\n",
      "Lũy thừa 2 của các phần tử trong mảng là: [ 1  4  9 16 25]\n",
      "Logarit tự nhiên (cơ số e) của các phần tử trong mảng là: [0.         0.69314718 1.09861229 1.38629436 1.60943791]\n",
      "Giá trị tuyệt đối của các phần tử trong mảng là: [1 2 3 4 5]\n",
      "Hàm logic NOT(đảo ngược giá trị) của các phần tử trong mảng là: [False False False False False]\n",
      "Hàm sin của các phần tử trong mảng là: [ 0.84147098  0.90929743  0.14112001 -0.7568025  -0.95892427]\n"
     ]
    }
   ],
   "source": [
    "print(\"Căn bậc hai của các phần tử trong mảng là:\", kq_can_hai)\n",
    "print(\"Lũy thừa 2 của các phần tử trong mảng là:\", kq_luy_thua_2)\n",
    "print(\"Logarit tự nhiên (cơ số e) của các phần tử trong mảng là:\", kq_Logarit)\n",
    "print(\"Giá trị tuyệt đối của các phần tử trong mảng là:\", kq_tri_tuyet_doi)\n",
    "print(\"Hàm logic NOT(đảo ngược giá trị) của các phần tử trong mảng là:\", kq_not_logic)\n",
    "print(\"Hàm sin của các phần tử trong mảng là:\", kq_sin)"
   ]
  }
 ],
 "metadata": {
  "kernelspec": {
   "display_name": "Python 3",
   "language": "python",
   "name": "python3"
  },
  "language_info": {
   "codemirror_mode": {
    "name": "ipython",
    "version": 3
   },
   "file_extension": ".py",
   "mimetype": "text/x-python",
   "name": "python",
   "nbconvert_exporter": "python",
   "pygments_lexer": "ipython3",
   "version": "3.6.8"
  }
 },
 "nbformat": 4,
 "nbformat_minor": 2
}
