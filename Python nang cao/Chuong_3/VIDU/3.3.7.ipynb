{
 "cells": [
  {
   "cell_type": "code",
   "execution_count": 1,
   "metadata": {},
   "outputs": [
    {
     "data": {
      "text/plain": [
       "array([3, 1, 2, 5])"
      ]
     },
     "execution_count": 1,
     "metadata": {},
     "output_type": "execute_result"
    }
   ],
   "source": [
    "import numpy as np\n",
    "#vd3.3.7.1\n",
    "#Xóa một phần tử ở vị trí trong mảng\n",
    "arr = np.array([3, 1, 4, 2, 5])\n",
    "idx_to_delete = 2 #Xóa phần tử 4 ở chỉ mục 2.\n",
    "new_arr=np.delete(arr,idx_to_delete)\n",
    "\n",
    "new_arr"
   ]
  },
  {
   "cell_type": "code",
   "execution_count": 2,
   "metadata": {},
   "outputs": [
    {
     "data": {
      "text/plain": [
       "array([3, 4, 5])"
      ]
     },
     "execution_count": 2,
     "metadata": {},
     "output_type": "execute_result"
    }
   ],
   "source": [
    "#Xóa nhiểu phần tử trong mảng\n",
    "arr = np.array([3, 1, 4, 2, 5])\n",
    "idx_to_delete = [1, 3]\n",
    "new_arr = np.delete(arr, idx_to_delete)\n",
    "\n",
    "new_arr"
   ]
  },
  {
   "cell_type": "code",
   "execution_count": 5,
   "metadata": {},
   "outputs": [
    {
     "data": {
      "text/plain": [
       "array([1, 3, 4, 5, 6, 7, 8, 9])"
      ]
     },
     "execution_count": 5,
     "metadata": {},
     "output_type": "execute_result"
    }
   ],
   "source": [
    "#Xóa phần tử trên mảng 2 chiều\n",
    "arr_2d = np.array([[1, 2, 3],\n",
    "                   [4, 5, 6],\n",
    "                   [7, 8, 9]])\n",
    "row_idx_to_delete = 1\n",
    "new_arr_2d = np.delete(arr_2d, row_idx_to_delete, axis=0)\n",
    "new_arr_2d"
   ]
  }
 ],
 "metadata": {
  "kernelspec": {
   "display_name": "Python 3",
   "language": "python",
   "name": "python3"
  },
  "language_info": {
   "codemirror_mode": {
    "name": "ipython",
    "version": 3
   },
   "file_extension": ".py",
   "mimetype": "text/x-python",
   "name": "python",
   "nbconvert_exporter": "python",
   "pygments_lexer": "ipython3",
   "version": "3.6.8"
  }
 },
 "nbformat": 4,
 "nbformat_minor": 2
}
