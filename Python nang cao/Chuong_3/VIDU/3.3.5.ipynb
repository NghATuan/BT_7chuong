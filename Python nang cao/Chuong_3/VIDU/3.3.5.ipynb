{
 "cells": [
  {
   "cell_type": "code",
   "execution_count": 1,
   "metadata": {},
   "outputs": [
    {
     "name": "stdout",
     "output_type": "stream",
     "text": [
      "[ 1  2 10  3  4  5]\n"
     ]
    }
   ],
   "source": [
    "import numpy as np\n",
    "#vd 3.3.5.2\n",
    "#Thêm phần tử vào vị trí cụ thể trong mảng 1 chiều:\n",
    "\n",
    "arr = np.array([1, 2, 3, 4, 5])\n",
    "new_element = 10\n",
    "index_to_insert = 2\n",
    "\n",
    "new_arr = np.insert(arr, index_to_insert, new_element)\n",
    "\n",
    "print(new_arr)"
   ]
  },
  {
   "cell_type": "code",
   "execution_count": 2,
   "metadata": {},
   "outputs": [
    {
     "name": "stdout",
     "output_type": "stream",
     "text": [
      "[[1 2]\n",
      " [7 8]\n",
      " [3 4]\n",
      " [5 6]]\n"
     ]
    }
   ],
   "source": [
    "#Thêm phần tử vào vị trí cụ thể trong mảng 2 chiều:\n",
    "arr_2d = np.array([[1, 2], [3, 4], [5, 6]])\n",
    "new_element = [7, 8]\n",
    "row_to_insert = 1\n",
    "\n",
    "new_arr_2d=np.insert(arr_2d,row_to_insert,new_element,axis=0)\n",
    "print(new_arr_2d)"
   ]
  },
  {
   "cell_type": "code",
   "execution_count": null,
   "metadata": {},
   "outputs": [],
   "source": []
  }
 ],
 "metadata": {
  "kernelspec": {
   "display_name": "Python 3",
   "language": "python",
   "name": "python3"
  },
  "language_info": {
   "codemirror_mode": {
    "name": "ipython",
    "version": 3
   },
   "file_extension": ".py",
   "mimetype": "text/x-python",
   "name": "python",
   "nbconvert_exporter": "python",
   "pygments_lexer": "ipython3",
   "version": "3.6.8"
  }
 },
 "nbformat": 4,
 "nbformat_minor": 2
}
