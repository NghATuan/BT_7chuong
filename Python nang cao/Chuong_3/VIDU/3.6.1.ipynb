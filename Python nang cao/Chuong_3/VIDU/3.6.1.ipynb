{
 "cells": [
  {
   "cell_type": "code",
   "execution_count": 1,
   "metadata": {},
   "outputs": [],
   "source": [
    "import numpy as np\n",
    "arr = np.array([10, 20, 30, 40, 50, 60, 70, 80, 90])"
   ]
  },
  {
   "cell_type": "code",
   "execution_count": 2,
   "metadata": {},
   "outputs": [
    {
     "name": "stdout",
     "output_type": "stream",
     "text": [
      "[20 40 50]\n"
     ]
    }
   ],
   "source": [
    "# Truy xuất các phần tử bằng một danh sách chỉ mục\n",
    "indices = [1, 3, 4]\n",
    "sub_arr_1 = arr[indices]\n",
    "\n",
    "print(sub_arr_1)"
   ]
  },
  {
   "cell_type": "code",
   "execution_count": 3,
   "metadata": {},
   "outputs": [
    {
     "name": "stdout",
     "output_type": "stream",
     "text": [
      "Orignial Array:\n",
      " [10 20 30 40 50 60 70 80 90]\n"
     ]
    }
   ],
   "source": [
    "# Fancy indexing và boolean\n",
    "sub_arr_boolean = arr[arr > 50]\n",
    "print(\"Orignial Array:\\n\", arr)"
   ]
  },
  {
   "cell_type": "code",
   "execution_count": 4,
   "metadata": {},
   "outputs": [
    {
     "name": "stdout",
     "output_type": "stream",
     "text": [
      "After Boolean Condition: [60 70 80 90]\n"
     ]
    }
   ],
   "source": [
    "# Boolean Indexing\n",
    "print('After Boolean Condition:', arr[arr>50])"
   ]
  },
  {
   "cell_type": "code",
   "execution_count": 7,
   "metadata": {},
   "outputs": [
    {
     "name": "stdout",
     "output_type": "stream",
     "text": [
      "[[20 30]\n",
      " [60 70]]\n"
     ]
    }
   ],
   "source": [
    "# Mảng chỉ mục là mảng 2 chiều\n",
    "idx_arr = np.array([[1,2],\n",
    "                    [5,6]])\n",
    "sub_arr_2 = arr[idx_arr]\n",
    "print(sub_arr_2)"
   ]
  }
 ],
 "metadata": {
  "kernelspec": {
   "display_name": "Python 3",
   "language": "python",
   "name": "python3"
  },
  "language_info": {
   "codemirror_mode": {
    "name": "ipython",
    "version": 3
   },
   "file_extension": ".py",
   "mimetype": "text/x-python",
   "name": "python",
   "nbconvert_exporter": "python",
   "pygments_lexer": "ipython3",
   "version": "3.6.8"
  }
 },
 "nbformat": 4,
 "nbformat_minor": 2
}
