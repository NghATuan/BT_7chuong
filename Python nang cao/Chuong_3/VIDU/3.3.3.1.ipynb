{
 "cells": [
  {
   "cell_type": "code",
   "execution_count": 1,
   "metadata": {},
   "outputs": [
    {
     "name": "stdout",
     "output_type": "stream",
     "text": [
      "[[1 2]\n",
      " [4 5]]\n"
     ]
    }
   ],
   "source": [
    "import numpy as np\n",
    "# Tạo mảng 2 chiều 3x3\n",
    "arr_2d = np.array([[1, 2, 3],\n",
    "[4, 5, 6],\n",
    "[7, 8, 9]])\n",
    "# Lấy view mới chỉ chứa 2 dòng và 2 cột của mảng gốc\n",
    "arr_view = arr_2d[:2, :2].view()\n",
    "print(arr_view) "
   ]
  },
  {
   "cell_type": "code",
   "execution_count": 2,
   "metadata": {},
   "outputs": [
    {
     "name": "stdout",
     "output_type": "stream",
     "text": [
      "[[100   2]\n",
      " [  4   5]]\n"
     ]
    }
   ],
   "source": [
    "# Thay đổi giá trị trong view\n",
    "arr_view[0, 0] = 100 #Chỉnh sửa phần tử ở dòng 0, cột 0 thành 10.\n",
    "print(arr_view) "
   ]
  },
  {
   "cell_type": "code",
   "execution_count": 3,
   "metadata": {},
   "outputs": [
    {
     "name": "stdout",
     "output_type": "stream",
     "text": [
      "Mảng gốc sau khi thay đổi giá trị trong view:\n",
      "[[100   2   3]\n",
      " [  4   5   6]\n",
      " [  7   8   9]]\n"
     ]
    }
   ],
   "source": [
    "print(\"Mảng gốc sau khi thay đổi giá trị trong view:\")\n",
    "print(arr_2d) "
   ]
  },
  {
   "cell_type": "code",
   "execution_count": 4,
   "metadata": {},
   "outputs": [
    {
     "ename": "NameError",
     "evalue": "name 'arr' is not defined",
     "output_type": "error",
     "traceback": [
      "\u001b[1;31m---------------------------------------------------------------------------\u001b[0m",
      "\u001b[1;31mNameError\u001b[0m                                 Traceback (most recent call last)",
      "\u001b[1;32m<ipython-input-4-47922f08186b>\u001b[0m in \u001b[0;36m<module>\u001b[1;34m\u001b[0m\n\u001b[1;32m----> 1\u001b[1;33m \u001b[0msub_arr\u001b[0m\u001b[1;33m=\u001b[0m\u001b[0marr\u001b[0m\u001b[1;33m[\u001b[0m\u001b[1;33m:\u001b[0m\u001b[1;36m2\u001b[0m\u001b[1;33m,\u001b[0m\u001b[1;33m:\u001b[0m\u001b[1;36m2\u001b[0m\u001b[1;33m]\u001b[0m \u001b[1;31m#slicing mảng con lấy 2 dòng, 2 cột của mảng arr\u001b[0m\u001b[1;33m\u001b[0m\u001b[1;33m\u001b[0m\u001b[0m\n\u001b[0m\u001b[0;32m      2\u001b[0m \u001b[0mprint\u001b[0m\u001b[1;33m(\u001b[0m\u001b[0msub_arr\u001b[0m\u001b[1;33m)\u001b[0m\u001b[1;33m\u001b[0m\u001b[1;33m\u001b[0m\u001b[0m\n",
      "\u001b[1;31mNameError\u001b[0m: name 'arr' is not defined"
     ]
    }
   ],
   "source": [
    "sub_arr=arr[:2,:2] #slicing mảng con lấy 2 dòng, 2 cột của mảng arr\n",
    "print(sub_arr) "
   ]
  },
  {
   "cell_type": "code",
   "execution_count": null,
   "metadata": {},
   "outputs": [],
   "source": [
    "sub_arr[0,0]=10 #Chỉnh sửa phần tử ở dòng 0, cột 0 của mảng con thành 10.\n",
    "print(sub_arr)"
   ]
  },
  {
   "cell_type": "code",
   "execution_count": null,
   "metadata": {},
   "outputs": [],
   "source": [
    "print(arr)"
   ]
  },
  {
   "cell_type": "code",
   "execution_count": null,
   "metadata": {},
   "outputs": [],
   "source": [
    "sub_arr_copy=arr[:2,:2].copy() #Thêm phương thức copy().\n",
    "print(sub_arr_copy)"
   ]
  },
  {
   "cell_type": "code",
   "execution_count": null,
   "metadata": {},
   "outputs": [],
   "source": [
    "sub_arr_copy[0,0]=10 #sửa phần tử ở dòng 0, cột 0 của mảng\n",
    "                     # copy thành 10.\n",
    "print(sub_arr_copy)"
   ]
  },
  {
   "cell_type": "code",
   "execution_count": null,
   "metadata": {},
   "outputs": [],
   "source": [
    "print(arr)"
   ]
  },
  {
   "cell_type": "code",
   "execution_count": 5,
   "metadata": {},
   "outputs": [
    {
     "data": {
      "text/plain": [
       "array([[1, 2, 3],\n",
       "       [4, 5, 6],\n",
       "       [7, 8, 9]])"
      ]
     },
     "execution_count": 5,
     "metadata": {},
     "output_type": "execute_result"
    }
   ],
   "source": [
    "arr=np.arange(1,10) #Tạo mảng một chiều arr có 9 phần tử từ 1-9\n",
    "grid= arr.reshape((3,3))#chuyển đổi mảng arr thành mảng grid, 3x3\n",
    "grid"
   ]
  },
  {
   "cell_type": "code",
   "execution_count": 7,
   "metadata": {},
   "outputs": [
    {
     "name": "stdout",
     "output_type": "stream",
     "text": [
      "Số chiều của mảng mới định hình là: \n",
      " 2\n",
      "Số chiều của mảng x ban đầu là: \n",
      " 1\n"
     ]
    }
   ],
   "source": [
    "x = np.array([1, 2, 3])\n",
    "x.reshape((1, 3))\n",
    "x[np.newaxis, :]\n",
    "print(\"Số chiều của mảng mới định hình là: \\n\", x.reshape(1, 3).ndim)\n",
    "print(\"Số chiều của mảng x ban đầu là: \\n\",x.ndim)"
   ]
  },
  {
   "cell_type": "code",
   "execution_count": 8,
   "metadata": {},
   "outputs": [
    {
     "name": "stdout",
     "output_type": "stream",
     "text": [
      "[1 2 3]\n",
      "1\n",
      "[[1]\n",
      " [2]\n",
      " [3]]\n",
      "2\n"
     ]
    }
   ],
   "source": [
    "print(x)\n",
    "print(x.ndim)\n",
    "y=x[:, np.newaxis]\n",
    "print(y)\n",
    "print(y.ndim)"
   ]
  },
  {
   "cell_type": "code",
   "execution_count": 9,
   "metadata": {},
   "outputs": [
    {
     "data": {
      "text/plain": [
       "array([1, 2, 3, 4, 5, 6])"
      ]
     },
     "execution_count": 9,
     "metadata": {},
     "output_type": "execute_result"
    }
   ],
   "source": [
    "#vd3.3.4.1\n",
    "x = np.array([1, 2, 3])\n",
    "y = np.array([4, 5, 6])\n",
    "np.concatenate([x,y]) #Kết hợp ma trận x, y\n"
   ]
  },
  {
   "cell_type": "code",
   "execution_count": 13,
   "metadata": {},
   "outputs": [
    {
     "name": "stdout",
     "output_type": "stream",
     "text": [
      "result \n",
      " [[1 2]\n",
      " [3 4]\n",
      " [5 6]\n",
      " [7 8]]\n"
     ]
    }
   ],
   "source": [
    "import numpy as np\n",
    "a = np.array([[1, 2],\n",
    "              [3, 4]])\n",
    "b = np.array([[5, 6],\n",
    "              [7, 8]])\n",
    "# Kết hợp theo chiều đầu tiên (trục dọc/ trục 0) của mảng\n",
    "c = np.concatenate((a, b))\n",
    "print(\"result \\n\", c)"
   ]
  },
  {
   "cell_type": "code",
   "execution_count": 12,
   "metadata": {},
   "outputs": [
    {
     "name": "stdout",
     "output_type": "stream",
     "text": [
      "[[1 2 5 6]\n",
      " [3 4 7 8]]\n"
     ]
    }
   ],
   "source": [
    "# Kết hợp theo chiều thứ hai (trục ngang/trục 1) của mảng, trục được đánh chỉ số từ 0.\n",
    "d = np.concatenate([a, b], axis=1)\n",
    "print(d)"
   ]
  },
  {
   "cell_type": "code",
   "execution_count": 14,
   "metadata": {},
   "outputs": [
    {
     "name": "stdout",
     "output_type": "stream",
     "text": [
      "[[1 2]\n",
      " [3 4]\n",
      " [5 6]\n",
      " [7 8]]\n",
      "[[1 2 5 6]\n",
      " [3 4 7 8]]\n"
     ]
    }
   ],
   "source": [
    "#vd3.3.4.2\n",
    "import numpy as np\n",
    "a = np.array([[1, 2],\n",
    "              [3, 4]])\n",
    "b = np.array([[5, 6],\n",
    "              [7, 8]])\n",
    "# Kết hợp theo chiều đầu tiên (trục dọc/ trục 0) của mảng\n",
    "c = np.vstack((a, b))\n",
    "# Kết hợp theo chiều ngang (trục ngang/ trục 1) của mảng\n",
    "d = np.hstack((a,b))\n",
    "print(c)\n",
    "print(d)"
   ]
  },
  {
   "cell_type": "code",
   "execution_count": 15,
   "metadata": {},
   "outputs": [
    {
     "name": "stdout",
     "output_type": "stream",
     "text": [
      "Mảng con sub_arr1 là: [array([0, 1, 2]), array([3, 4, 5]), array([6, 7, 8, 9])] \n",
      "\n",
      "Mảng con sub_arr2 là: [array([0, 1, 2, 3, 4]), array([5, 6, 7, 8, 9])]\n"
     ]
    }
   ],
   "source": [
    "#vd3.3.4.3\n",
    "import numpy as np\n",
    "arr = np.arange(10) #Tạo mảng arr gồm 10 phần tử từ 0-9\n",
    "sub_arr1=np.split(arr,[3, 6]) #chia mảng arr theo chỉ mục [3, 6]\n",
    "#Phần đầu tiên bắt đầu từ chỉ mục 0 và kết thúc trước chỉ mục 3.\n",
    "#Phần thứ hai bắt đầu từ chỉ mục 3 và kết thúc trước chỉ mục 6.\n",
    "\n",
    "\n",
    "sub_arr2=np.split(arr,2) #chia mảng arr thành 2 phần bằng nhau\n",
    "print(\"Mảng con sub_arr1 là:\", sub_arr1, \"\\n\")\n",
    "print(\"Mảng con sub_arr2 là:\", sub_arr2)"
   ]
  },
  {
   "cell_type": "code",
   "execution_count": 16,
   "metadata": {},
   "outputs": [
    {
     "data": {
      "text/plain": [
       "array([[ 0,  1,  2,  3],\n",
       "       [ 4,  5,  6,  7],\n",
       "       [ 8,  9, 10, 11],\n",
       "       [12, 13, 14, 15]])"
      ]
     },
     "execution_count": 16,
     "metadata": {},
     "output_type": "execute_result"
    }
   ],
   "source": [
    "#vd3.3.4.4\n",
    "import numpy as np\n",
    "arr = np.arange(16).reshape((4,4))\n",
    "arr"
   ]
  },
  {
   "cell_type": "code",
   "execution_count": 17,
   "metadata": {},
   "outputs": [
    {
     "name": "stdout",
     "output_type": "stream",
     "text": [
      "Kết quả sau khi tách từ mảng ban đầu \n",
      "\n",
      "[[0 1 2 3]\n",
      " [4 5 6 7]] \n",
      "\n",
      "[[ 8  9 10 11]\n",
      " [12 13 14 15]] \n",
      "\n"
     ]
    }
   ],
   "source": [
    "upper,lower = np.vsplit(arr,2) #Tách theo trục ngang\n",
    "print(\"Kết quả sau khi tách từ mảng ban đầu \\n\")\n",
    "print(upper,\"\\n\")\n",
    "print(lower,\"\\n\")"
   ]
  },
  {
   "cell_type": "code",
   "execution_count": 18,
   "metadata": {},
   "outputs": [
    {
     "name": "stdout",
     "output_type": "stream",
     "text": [
      "Kết quả sau khi tách từ mảng ban đầu \n",
      "\n",
      "[[ 0  1]\n",
      " [ 4  5]\n",
      " [ 8  9]\n",
      " [12 13]] \n",
      "\n",
      "[[ 2  3]\n",
      " [ 6  7]\n",
      " [10 11]\n",
      " [14 15]] \n",
      "\n"
     ]
    }
   ],
   "source": [
    "left,right=np.hsplit(arr,2) #Tách theo trục dọc\n",
    "print(\"Kết quả sau khi tách từ mảng ban đầu \\n\")\n",
    "print(left,\"\\n\")\n",
    "print(right,\"\\n\")"
   ]
  }
 ],
 "metadata": {
  "kernelspec": {
   "display_name": "Python 3",
   "language": "python",
   "name": "python3"
  },
  "language_info": {
   "codemirror_mode": {
    "name": "ipython",
    "version": 3
   },
   "file_extension": ".py",
   "mimetype": "text/x-python",
   "name": "python",
   "nbconvert_exporter": "python",
   "pygments_lexer": "ipython3",
   "version": "3.6.8"
  }
 },
 "nbformat": 4,
 "nbformat_minor": 2
}
