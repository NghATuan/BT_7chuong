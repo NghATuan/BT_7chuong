{
 "cells": [
  {
   "cell_type": "code",
   "execution_count": 1,
   "metadata": {},
   "outputs": [],
   "source": [
    "import numpy as np\n",
    "import numpy.ma as ma"
   ]
  },
  {
   "cell_type": "code",
   "execution_count": 2,
   "metadata": {},
   "outputs": [],
   "source": [
    "arr = np.array([1,2,3,4,5,6,7,8,9])\n",
    "mask = arr > 6\n",
    "masked_arr = np.ma.masked_array(arr, mask)"
   ]
  },
  {
   "cell_type": "code",
   "execution_count": 3,
   "metadata": {},
   "outputs": [
    {
     "data": {
      "text/plain": [
       "masked_array(data=[1, 2, 3, 4, 5, 6, --, --, --],\n",
       "             mask=[False, False, False, False, False, False,  True,  True,\n",
       "                    True],\n",
       "       fill_value=999999)"
      ]
     },
     "execution_count": 3,
     "metadata": {},
     "output_type": "execute_result"
    }
   ],
   "source": [
    "masked_arr"
   ]
  },
  {
   "cell_type": "code",
   "execution_count": 4,
   "metadata": {},
   "outputs": [
    {
     "name": "stdout",
     "output_type": "stream",
     "text": [
      "Dữ liệu ban đầu: [1 2 3 4 5 6 7 8 9]\n",
      "Mảng mask: [False False False False False False  True  True  True]\n",
      "Các giá trị hợp lệ từ mảng ban đầu: [1 2 3 4 5 6]\n"
     ]
    }
   ],
   "source": [
    "valid_values = arr[~mask]\n",
    "\n",
    "print(\"Dữ liệu ban đầu:\", arr)\n",
    "print(\"Mảng mask:\", mask)\n",
    "print(\"Các giá trị hợp lệ từ mảng ban đầu:\", valid_values)"
   ]
  },
  {
   "cell_type": "code",
   "execution_count": 5,
   "metadata": {},
   "outputs": [
    {
     "name": "stdout",
     "output_type": "stream",
     "text": [
      "Mask Array chưa được điền :  [1 2 3 4 5 6 -- -- --]\n",
      "Mask Array đã điền : [  1   2   3   4   5   6 100 100 100]\n"
     ]
    }
   ],
   "source": [
    "#Tạo 1 mảng mask cho các giá trị không hợp lệ \n",
    "mask = arr >6 \n",
    "masked_arr=np.ma.masked_array(arr,mask,fill_value=100)\n",
    "\n",
    "print(\"Mask Array chưa được điền : \",masked_arr)\n",
    "print(\"Mask Array đã điền :\",masked_arr.filled())\n"
   ]
  }
 ],
 "metadata": {
  "kernelspec": {
   "display_name": "Python 3",
   "language": "python",
   "name": "python3"
  },
  "language_info": {
   "codemirror_mode": {
    "name": "ipython",
    "version": 3
   },
   "file_extension": ".py",
   "mimetype": "text/x-python",
   "name": "python",
   "nbconvert_exporter": "python",
   "pygments_lexer": "ipython3",
   "version": "3.6.8"
  }
 },
 "nbformat": 4,
 "nbformat_minor": 2
}
