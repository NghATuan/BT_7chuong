{
 "cells": [
  {
   "cell_type": "code",
   "execution_count": 3,
   "metadata": {},
   "outputs": [
    {
     "name": "stdout",
     "output_type": "stream",
     "text": [
      "Kiểu dữ liệu của np_positions: <U18626\n",
      "Kiểu dữ liệu của np_heights: float64\n",
      "Chiều cao trung bình của các GK: nan\n",
      "Chiều cao trung bình của các vị trí khác: nan\n",
      "Mảng dữ liệu players: [('ï»¿GK', nan)]\n",
      "Sắp xếp players theo chiều cao: [('ï»¿GK', nan)]\n",
      "Vị trí có chiều cao cao nhất: ï»¿GK\n",
      "Vị trí có chiều cao thấp nhất: ï»¿GK\n"
     ]
    },
    {
     "name": "stderr",
     "output_type": "stream",
     "text": [
      "e:\\SetupPython\\python3.11.5\\Lib\\site-packages\\numpy\\core\\fromnumeric.py:3504: RuntimeWarning: Mean of empty slice.\n",
      "  return _methods._mean(a, axis=axis, dtype=dtype,\n",
      "e:\\SetupPython\\python3.11.5\\Lib\\site-packages\\numpy\\core\\_methods.py:129: RuntimeWarning: invalid value encountered in scalar divide\n",
      "  ret = ret.dtype.type(ret / rcount)\n"
     ]
    }
   ],
   "source": [
    "import numpy as np\n",
    "\n",
    "# Đọc dữ liệu từ tập tin heights.txt và positions.txt\n",
    "with open('heights.txt', 'r') as file:\n",
    "    heights = [line.strip() for line in file]\n",
    "    heights = [float(value) if value.replace('.', '', 1).isdigit() else np.nan for value in heights]\n",
    "\n",
    "with open('positions.txt', 'r') as file:\n",
    "    positions = [line.strip() for line in file]\n",
    "\n",
    "# Tạo numpy array np_positions từ list positions. Xem kiểu dữ liệu của np_positions\n",
    "np_positions = np.array(positions)\n",
    "print(\"Kiểu dữ liệu của np_positions:\", np_positions.dtype)\n",
    "\n",
    "# Tạo numpy array np_heights từ list heights. Xem kiểu dữ liệu của np_heights\n",
    "np_heights = np.array(heights)\n",
    "print(\"Kiểu dữ liệu của np_heights:\", np_heights.dtype)\n",
    "\n",
    "# 2. Tính chiều cao trung bình của các GK.\n",
    "average_height_gk = np.mean(np_heights[np_positions == 'GK'])\n",
    "print(\"Chiều cao trung bình của các GK:\", average_height_gk)\n",
    "\n",
    "# 3. Tính chiều cao trung bình của những vị trí khác (Không phải là GK).\n",
    "average_height_other = np.mean(np_heights[np_positions != 'GK'])\n",
    "print(\"Chiều cao trung bình của các vị trí khác:\", average_height_other)\n",
    "\n",
    "# 4. Tạo mảng dữ liệu có cấu trúc tự định nghĩa players gồm 'position' kiểu văn bản (U5) và 'height' kiểu 'float'.\n",
    "players = np.array(list(zip(np_positions, np_heights)), dtype=[('position', 'U5'), ('height', 'float')])\n",
    "print(\"Mảng dữ liệu players:\", players)\n",
    "\n",
    "# 5. Sắp mảng players theo height, cho biết vị trí có chiều cao cao nhất và chiều cao thấp nhất\n",
    "sorted_players = np.sort(players, order='height')\n",
    "print(\"Sắp xếp players theo chiều cao:\", sorted_players)\n",
    "\n",
    "max_height_position = sorted_players[-1]['position']\n",
    "min_height_position = sorted_players[0]['position']\n",
    "\n",
    "print(\"Vị trí có chiều cao cao nhất:\", max_height_position)\n",
    "print(\"Vị trí có chiều cao thấp nhất:\", min_height_position)"
   ]
  }
 ],
 "metadata": {
  "kernelspec": {
   "display_name": "Python 3",
   "language": "python",
   "name": "python3"
  },
  "language_info": {
   "codemirror_mode": {
    "name": "ipython",
    "version": 3
   },
   "file_extension": ".py",
   "mimetype": "text/x-python",
   "name": "python",
   "nbconvert_exporter": "python",
   "pygments_lexer": "ipython3",
   "version": "3.11.5"
  }
 },
 "nbformat": 4,
 "nbformat_minor": 2
}
