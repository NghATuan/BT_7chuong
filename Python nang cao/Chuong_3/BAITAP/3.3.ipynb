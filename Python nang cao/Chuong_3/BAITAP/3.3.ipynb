{
 "cells": [
  {
   "cell_type": "code",
   "execution_count": 1,
   "metadata": {},
   "outputs": [],
   "source": [
    "import numpy as np\n",
    "\n"
   ]
  },
  {
   "cell_type": "code",
   "execution_count": 2,
   "metadata": {},
   "outputs": [],
   "source": [
    "arr_a = [1, 2, 3, 2, 3, 4, 3, 4, 5, 6]\n",
    "arr_b = [7, 2, 10, 2, 7, 4, 9, 4, 9, 8]\n",
    "\n",
    "arr_c = list(set(arr_a) & set(arr_b))"
   ]
  },
  {
   "cell_type": "code",
   "execution_count": 3,
   "metadata": {},
   "outputs": [],
   "source": [
    "arr_d = list(set(arr_a) - set(arr_b))\n"
   ]
  },
  {
   "cell_type": "code",
   "execution_count": 4,
   "metadata": {},
   "outputs": [],
   "source": [
    "arr_e = np.array([2, 6, 1, 9, 10, 3, 27, 8, 6, 25, 16])\n",
    "\n",
    "arr_f = arr_e[(arr_e >= 5) & (arr_e <= 10)]\n"
   ]
  },
  {
   "cell_type": "code",
   "execution_count": 5,
   "metadata": {},
   "outputs": [
    {
     "name": "stdout",
     "output_type": "stream",
     "text": [
      "arr_c: [2, 4]\n",
      "arr_d: [1, 3, 5, 6]\n",
      "arr_f: [ 6  9 10  8  6]\n"
     ]
    }
   ],
   "source": [
    "import numpy as np\n",
    "\n",
    "def main():\n",
    "    arr_a = [1, 2, 3, 2, 3, 4, 3, 4, 5, 6]\n",
    "    arr_b = [7, 2, 10, 2, 7, 4, 9, 4, 9, 8]\n",
    "    arr_e = np.array([2, 6, 1, 9, 10, 3, 27, 8, 6, 25, 16])\n",
    "\n",
    "    # Yêu cầu 1: Tạo array arr_c chỉ lấy duy nhất các phần tử xuất hiện ở cả arr_a và arr_b.\n",
    "    arr_c = list(set(arr_a) & set(arr_b))\n",
    "    print(\"arr_c:\", arr_c)\n",
    "\n",
    "    # Yêu cầu 2: Tạo arr_d chứa các phần tử chỉ xuất hiện ở arr_a.\n",
    "    arr_d = list(set(arr_a) - set(arr_b))\n",
    "    print(\"arr_d:\", arr_d)\n",
    "\n",
    "    # Yêu cầu 3: Tạo arr_f chỉ chứa các phần tử có giá trị từ 5 đến 10 của arr_e.\n",
    "    arr_f = arr_e[(arr_e >= 5) & (arr_e <= 10)]\n",
    "    print(\"arr_f:\", arr_f)\n",
    "\n",
    "if __name__ == \"__main__\":\n",
    "    main()\n"
   ]
  }
 ],
 "metadata": {
  "kernelspec": {
   "display_name": "Python 3",
   "language": "python",
   "name": "python3"
  },
  "language_info": {
   "codemirror_mode": {
    "name": "ipython",
    "version": 3
   },
   "file_extension": ".py",
   "mimetype": "text/x-python",
   "name": "python",
   "nbconvert_exporter": "python",
   "pygments_lexer": "ipython3",
   "version": "3.6.8"
  }
 },
 "nbformat": 4,
 "nbformat_minor": 2
}
