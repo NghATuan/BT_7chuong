{
 "cells": [
  {
   "cell_type": "code",
   "execution_count": 4,
   "metadata": {},
   "outputs": [
    {
     "name": "stdout",
     "output_type": "stream",
     "text": [
      "float64\n",
      "(1,)\n",
      "Mảng không có đủ phần tử để truy cập dòng thứ 50.\n"
     ]
    },
    {
     "ename": "IndexError",
     "evalue": "too many indices for array: array is 1-dimensional, but 2 were indexed",
     "output_type": "error",
     "traceback": [
      "\u001b[1;31m---------------------------------------------------------------------------\u001b[0m",
      "\u001b[1;31mIndexError\u001b[0m                                Traceback (most recent call last)",
      "Cell \u001b[1;32mIn[4], line 22\u001b[0m\n\u001b[0;32m     19\u001b[0m     \u001b[38;5;28mprint\u001b[39m(\u001b[38;5;124m\"\u001b[39m\u001b[38;5;124mMảng không có đủ phần tử để truy cập dòng thứ 50.\u001b[39m\u001b[38;5;124m\"\u001b[39m)\n\u001b[0;32m     21\u001b[0m \u001b[38;5;66;03m# Tạo numpy array np_weight với dữ liệu được lấy từ cột hai của np_baseball\u001b[39;00m\n\u001b[1;32m---> 22\u001b[0m np_weight \u001b[38;5;241m=\u001b[39m \u001b[43mnp_baseball\u001b[49m\u001b[43m[\u001b[49m\u001b[43m:\u001b[49m\u001b[43m,\u001b[49m\u001b[38;5;241;43m1\u001b[39;49m\u001b[43m]\u001b[49m\n\u001b[0;32m     23\u001b[0m \u001b[38;5;28mprint\u001b[39m(np_baseball\u001b[38;5;241m.\u001b[39mshape)\n\u001b[0;32m     25\u001b[0m \u001b[38;5;66;03m# Chiều cao của vận động viên thứ 124\u001b[39;00m\n",
      "\u001b[1;31mIndexError\u001b[0m: too many indices for array: array is 1-dimensional, but 2 were indexed"
     ]
    }
   ],
   "source": [
    "import numpy as np\n",
    "\n",
    "# Đọc dữ liệu từ tập tin và chuyển vào list\n",
    "with open('baseball_2D.txt', 'r') as file:\n",
    "    baseball = [line.strip() for line in file]\n",
    "    baseball = [float(value) if value.replace('.', '', 1).isdigit() else np.nan for value in baseball]\n",
    "\n",
    "# Tạo 2D numpy array tên np_baseball từ baseball\n",
    "np_baseball = np.array(baseball)\n",
    "\n",
    "# Kiểu dữ liệu và kích thước của np_baseball\n",
    "print(np_baseball.dtype)\n",
    "print(np_baseball.shape)\n",
    "\n",
    "# In các giá trị của dòng thứ 50 trong np_baseball\n",
    "if np_baseball.shape[0] > 49:\n",
    "    print(\"Giá trị của dòng thứ 50 trong np_baseball:\", np_baseball[49])\n",
    "else:\n",
    "    print(\"Mảng không có đủ phần tử để truy cập dòng thứ 50.\")\n",
    "\n",
    "# Tạo numpy array np_weight với dữ liệu được lấy từ cột hai của np_baseball\n",
    "np_weight = np_baseball[:,1]\n",
    "\n",
    "# Chiều cao của vận động viên thứ 124\n",
    "height_of_athlete_124 = np_baseball[123, 0]\n",
    "\n",
    "# Chiều cao trung bình và cân nặng trung bình của các cầu thủ\n",
    "average_height = np.mean(np_baseball[:, 0])\n",
    "average_weight = np.mean(np_baseball[:, 1])\n",
    "\n",
    "# Mối tương quan giữa chiều cao và cân nặng\n",
    "correlation = np.corrcoef(np_baseball[:, 0], np_baseball[:, 1])\n",
    "print(\"Mối tương quan giữa chiều cao và cân nặng:\", correlation)\n",
    "\n",
    "# Nhận xét về mối tương quan\n",
    "if correlation[0, 1] > 0:\n",
    "    correlation_type = \"tương quan thuận\"\n",
    "else:\n",
    "    correlation_type = \"tương quan nghịch\"\n",
    "print(\"Mối tương quan giữa chiều cao và cân nặng là\", correlation_type)\n",
    "\n"
   ]
  }
 ],
 "metadata": {
  "kernelspec": {
   "display_name": "Python 3",
   "language": "python",
   "name": "python3"
  },
  "language_info": {
   "codemirror_mode": {
    "name": "ipython",
    "version": 3
   },
   "file_extension": ".py",
   "mimetype": "text/x-python",
   "name": "python",
   "nbconvert_exporter": "python",
   "pygments_lexer": "ipython3",
   "version": "3.11.5"
  }
 },
 "nbformat": 4,
 "nbformat_minor": 2
}
