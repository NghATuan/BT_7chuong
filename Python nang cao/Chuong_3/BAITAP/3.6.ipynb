{
 "cells": [
  {
   "cell_type": "code",
   "execution_count": 2,
   "metadata": {},
   "outputs": [
    {
     "name": "stdout",
     "output_type": "stream",
     "text": [
      "1. Mảng 3x3 với giá trị True:\n",
      "[[ True  True  True]\n",
      " [ True  True  True]\n",
      " [ True  True  True]]\n",
      "\n",
      "2. Mảng sau khi thay đổi cột 1 và cột 3:\n",
      "[[2 1 0]\n",
      " [5 4 3]\n",
      " [8 7 6]]\n",
      "\n",
      "3. Mảng sau khi đổi dòng 1 và dòng 2:\n",
      "[[5 4 3]\n",
      " [2 1 0]\n",
      " [8 7 6]]\n",
      "\n",
      "4. Mảng sau khi đảo ngược các dòng:\n",
      "[[8 7 6]\n",
      " [2 1 0]\n",
      " [5 4 3]]\n",
      "\n",
      "5. Mảng sau khi đảo ngược các cột:\n",
      "[[6 7 8]\n",
      " [0 1 2]\n",
      " [3 4 5]]\n",
      "\n",
      "6. Kiểm tra giá trị rỗng trong arr_2D_null:\n",
      "True\n",
      "\n",
      "7. Mảng sau khi thay thế giá trị null bằng 0:\n",
      "[[1. 2. 3.]\n",
      " [0. 5. 6.]\n",
      " [7. 0. 9.]\n",
      " [4. 5. 6.]]\n"
     ]
    }
   ],
   "source": [
    "import numpy as np\n",
    "\n",
    "# 1. Tạo mảng 3x3 với các giá trị True\n",
    "arr = np.full((3, 3), True, dtype=bool)\n",
    "print(\"1. Mảng 3x3 với giá trị True:\")\n",
    "print(arr)\n",
    "\n",
    "# 2. Tạo mảng 2 chiều từ arr_1D và thay đổi cột 1 sang cột 3 và ngược lại\n",
    "arr_1D = np.array([0, 1, 2, 3, 4, 5, 6, 7, 8])\n",
    "arr_2D = arr_1D.reshape(3, 3)\n",
    "arr_2D[:, [0, 2]] = arr_2D[:, [2, 0]]\n",
    "print(\"\\n2. Mảng sau khi thay đổi cột 1 và cột 3:\")\n",
    "print(arr_2D)\n",
    "\n",
    "# 3. Đổi dòng 1 sang dòng 2 và ngược lại\n",
    "arr_2D[[0, 1], :] = arr_2D[[1, 0], :]\n",
    "print(\"\\n3. Mảng sau khi đổi dòng 1 và dòng 2:\")\n",
    "print(arr_2D)\n",
    "\n",
    "# 4. Đảo ngược các dòng của arr_2D\n",
    "arr_2D = arr_2D[::-1, :]\n",
    "print(\"\\n4. Mảng sau khi đảo ngược các dòng:\")\n",
    "print(arr_2D)\n",
    "\n",
    "# 5. Đảo ngược các cột của arr_2D\n",
    "arr_2D = arr_2D[:, ::-1]\n",
    "print(\"\\n5. Mảng sau khi đảo ngược các cột:\")\n",
    "print(arr_2D)\n",
    "\n",
    "# 6. Kiểm tra giá trị rỗng trong arr_2D_null\n",
    "arr_2D_null = np.array([[1, 2, 3], [np.nan, 5, 6], [7, np.nan, 9], [4, 5, 6]])\n",
    "contains_nan = np.isnan(arr_2D_null).any()\n",
    "print(\"\\n6. Kiểm tra giá trị rỗng trong arr_2D_null:\")\n",
    "print(contains_nan)\n",
    "\n",
    "# 7. Thay thế giá trị null bằng 0 trong arr_2D_null\n",
    "arr_2D_null[np.isnan(arr_2D_null)] = 0\n",
    "print(\"\\n7. Mảng sau khi thay thế giá trị null bằng 0:\")\n",
    "print(arr_2D_null)\n"
   ]
  }
 ],
 "metadata": {
  "kernelspec": {
   "display_name": "Python 3",
   "language": "python",
   "name": "python3"
  },
  "language_info": {
   "codemirror_mode": {
    "name": "ipython",
    "version": 3
   },
   "file_extension": ".py",
   "mimetype": "text/x-python",
   "name": "python",
   "nbconvert_exporter": "python",
   "pygments_lexer": "ipython3",
   "version": "3.11.5"
  }
 },
 "nbformat": 4,
 "nbformat_minor": 2
}
