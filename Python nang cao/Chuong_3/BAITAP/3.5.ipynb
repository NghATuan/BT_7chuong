{
 "cells": [
  {
   "cell_type": "code",
   "execution_count": 2,
   "metadata": {},
   "outputs": [
    {
     "name": "stdout",
     "output_type": "stream",
     "text": [
      "Cân nặng ở vị trí index 50: 90.7184 kg\n",
      "Các cầu thủ có BMI < 21: [20.54255679 20.54255679 20.69282047 20.69282047 20.34343189 20.34343189\n",
      " 20.69282047 20.15883472 19.4984471  20.69282047 20.9205219 ]\n",
      "Chiều cao trung bình: 73.6896551724138 inches\n",
      "Cân nặng trung bình: 201.34876847290641 pounds\n",
      "Chiều cao lớn nhất: 83.0 inches\n",
      "Cân nặng lớn nhất: 290.0 pounds\n",
      "Chiều cao nhỏ nhất: 67.0 inches\n",
      "Cân nặng nhỏ nhất: 150.0 pounds\n"
     ]
    }
   ],
   "source": [
    "import numpy as np\n",
    "\n",
    "# Đọc dữ liệu từ tập tin heights_1.txt và weights_1.txt\n",
    "with open('heights_1.txt', 'r') as file:\n",
    "    # Use split(',') to separate values and remove non-numeric characters\n",
    "    height = [float(value.strip().replace('ï»¿', '')) for value in file.read().split(',')]\n",
    "\n",
    "with open('weights_1.txt', 'r') as file:\n",
    "    # Use split(',') to separate values and remove non-numeric characters\n",
    "    weight = [float(value.strip().replace('ï»¿', '')) for value in file.read().split(',')]\n",
    "\n",
    "# Tạo numpy array arr_height từ list height.\n",
    "arr_height = np.array(height)\n",
    "\n",
    "# Tạo numpy array arr_weight từ list weight.\n",
    "arr_weight = np.array(weight)\n",
    "\n",
    "# Cho hệ số quy đổi từ inch sang m là 0.0254, tạo arr_height_m dựa trên công thức: arr_height * hệ số quy đổi.\n",
    "conversion_factor_inch_to_m = 0.0254\n",
    "arr_height_m = arr_height * conversion_factor_inch_to_m\n",
    "\n",
    "# Cho hệ số quy đổi từ pound sang kg là 0.453592, tạo arr_weight_kg dựa trên công thức: arr_weight * hệ số quy đổi.\n",
    "conversion_factor_pound_to_kg = 0.453592\n",
    "arr_weight_kg = arr_weight * conversion_factor_pound_to_kg\n",
    "\n",
    "# Tính BMI của arr_height_m và arr_weight_kg theo công thức BMI = Cân nặng / (Chiều cao * Chiều cao), và lưu vào arr_bmi.\n",
    "arr_bmi = arr_weight_kg / (arr_height_m ** 2)\n",
    "\n",
    "# Cho biết giá trị cân nặng ở vị trí index = 50 trong arr_weight_kg.\n",
    "weight_at_index_50 = arr_weight_kg[50]\n",
    "print(f\"Cân nặng ở vị trí index 50: {weight_at_index_50} kg\")\n",
    "\n",
    "# Tạo arr_height_m_100 gồm các phần tử có vị trí index từ 100 đến 110 (lấy cả index 110) trong arr_height_m.\n",
    "arr_height_m_100 = arr_height_m[100:111]\n",
    "\n",
    "# Cho biết các cầu thủ bóng chày có bmi < 21 trong arr_bmi.\n",
    "bmi_less_than_21 = arr_bmi[arr_bmi < 21]\n",
    "print(\"Các cầu thủ có BMI < 21:\", bmi_less_than_21)\n",
    "\n",
    "# Cho biết chiều cao trung bình và cân nặng trung bình của các cầu thủ.\n",
    "average_height = np.mean(arr_height)\n",
    "average_weight = np.mean(arr_weight)\n",
    "print(f\"Chiều cao trung bình: {average_height} inches\")\n",
    "print(f\"Cân nặng trung bình: {average_weight} pounds\")\n",
    "\n",
    "# Cho biết chiều cao và cân nặng lớn nhất của các cầu thủ.\n",
    "max_height = np.max(arr_height)\n",
    "max_weight = np.max(arr_weight)\n",
    "print(f\"Chiều cao lớn nhất: {max_height} inches\")\n",
    "print(f\"Cân nặng lớn nhất: {max_weight} pounds\")\n",
    "\n",
    "# Cho biết chiều cao và cân nặng nhỏ nhất của các cầu thủ.\n",
    "min_height = np.min(arr_height)\n",
    "min_weight = np.min(arr_weight)\n",
    "print(f\"Chiều cao nhỏ nhất: {min_height} inches\")\n",
    "print(f\"Cân nặng nhỏ nhất: {min_weight} pounds\")\n",
    "\n"
   ]
  }
 ],
 "metadata": {
  "kernelspec": {
   "display_name": "Python 3",
   "language": "python",
   "name": "python3"
  },
  "language_info": {
   "codemirror_mode": {
    "name": "ipython",
    "version": 3
   },
   "file_extension": ".py",
   "mimetype": "text/x-python",
   "name": "python",
   "nbconvert_exporter": "python",
   "pygments_lexer": "ipython3",
   "version": "3.11.5"
  }
 },
 "nbformat": 4,
 "nbformat_minor": 2
}
